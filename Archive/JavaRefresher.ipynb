{
 "cells": [
  {
   "cell_type": "code",
   "execution_count": 10,
   "metadata": {
    "vscode": {
     "languageId": "java"
    }
   },
   "outputs": [
    {
     "name": "stdout",
     "output_type": "stream",
     "text": [
      "hello world\n"
     ]
    }
   ],
   "source": [
    "System.out.println(\"hello world\");"
   ]
  },
  {
   "cell_type": "code",
   "execution_count": 38,
   "metadata": {
    "vscode": {
     "languageId": "java"
    }
   },
   "outputs": [
    {
     "name": "stdout",
     "output_type": "stream",
     "text": [
      "false\n",
      "2\n",
      "true\n",
      "l\n",
      "HeLLo\n",
      "llo\n",
      "e\n",
      "HELLO\n",
      "hello\n",
      "[Ljava.lang.String;@524a1f4\n",
      "I eat 3 apples.\n",
      "I eat 3 apples.\n"
     ]
    }
   ],
   "source": [
    "// int, long double\n",
    "// float\n",
    "// boolean true false\n",
    "// char\n",
    "// String\n",
    "\n",
    "String a = \"Hello\";\n",
    "String b = \"java\";\n",
    "String c = \"hello\";\n",
    "\n",
    "//문자열 값의 비교는 equal 사용\n",
    "System.out.println(a.equals(c));\n",
    "\n",
    "//위치 리턴\n",
    "System.out.println(a.indexOf(\"l\"));\n",
    "\n",
    "//포함 여부\n",
    "System.out.println(a.contains(\"e\"));\n",
    "\n",
    "// System.out.println(a[0]); 불가능\n",
    "//특정 위치의 char 리턴\n",
    "System.out.println(a.charAt(2)); \n",
    "\n",
    "// 특정 문자열을 다른문자열로\n",
    "System.out.println(a.replaceAll(\"ll\", \"LL\"));\n",
    "\n",
    "//특정위치의 String 리턴\n",
    "System.out.println(a.substring(2)); // 2~끝\n",
    "System.out.println(a.substring(1,2)); // 1<= a <2\n",
    "\n",
    "//모두 대문자 소문자\n",
    "System.out.println(a.toUpperCase());\n",
    "System.out.println(a.toLowerCase());\n",
    "\n",
    "//split\n",
    "String a = \"a:b:c:d\";\n",
    "String[] result = a.split(\":\");  // result는 {\"a\", \"b\", \"c\", \"d\"}\n",
    "System.out.println(result); \n",
    "\n",
    "//String format\n",
    "System.out.println(String.format(\"I eat %d apples.\", 3));\n",
    "System.out.println(String.format(\"I eat %s apples.\", 3));"
   ]
  },
  {
   "cell_type": "code",
   "execution_count": null,
   "metadata": {
    "vscode": {
     "languageId": "java"
    }
   },
   "outputs": [],
   "source": []
  }
 ],
 "metadata": {
  "kernelspec": {
   "display_name": "Java",
   "language": "java",
   "name": "java"
  },
  "language_info": {
   "codemirror_mode": "java",
   "file_extension": ".jshell",
   "mimetype": "text/x-java-source",
   "name": "Java",
   "pygments_lexer": "java",
   "version": "17.0.10+7"
  }
 },
 "nbformat": 4,
 "nbformat_minor": 2
}
