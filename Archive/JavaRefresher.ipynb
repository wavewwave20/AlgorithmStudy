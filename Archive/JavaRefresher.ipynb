{
 "cells": [
  {
   "cell_type": "code",
   "execution_count": 1,
   "metadata": {
    "vscode": {
     "languageId": "java"
    }
   },
   "outputs": [
    {
     "name": "stdout",
     "output_type": "stream",
     "text": [
      "hello world\n"
     ]
    }
   ],
   "source": [
    "System.out.println(\"hello world\");"
   ]
  },
  {
   "cell_type": "code",
   "execution_count": 39,
   "metadata": {
    "vscode": {
     "languageId": "java"
    }
   },
   "outputs": [
    {
     "name": "stdout",
     "output_type": "stream",
     "text": [
      "false\n",
      "2\n",
      "true\n",
      "l\n",
      "HeLLo\n",
      "llo\n",
      "e\n",
      "HELLO\n",
      "hello\n",
      "[Ljava.lang.String;@27203393\n",
      "I eat 3 apples.\n",
      "I eat 3 apples.\n"
     ]
    }
   ],
   "source": [
    "// int, long double\n",
    "// float\n",
    "// boolean true false\n",
    "// char\n",
    "// String\n",
    "\n",
    "String a = \"Hello\";\n",
    "String b = \"java\";\n",
    "String c = \"hello\";\n",
    "\n",
    "//문자열 값의 비교는 equal 사용\n",
    "System.out.println(a.equals(c));\n",
    "\n",
    "//위치 리턴\n",
    "System.out.println(a.indexOf(\"l\"));\n",
    "\n",
    "//포함 여부\n",
    "System.out.println(a.contains(\"e\"));\n",
    "\n",
    "// System.out.println(a[0]); 불가능\n",
    "//특정 위치의 char 리턴\n",
    "System.out.println(a.charAt(2)); \n",
    "\n",
    "// 특정 문자열을 다른문자열로\n",
    "System.out.println(a.replaceAll(\"ll\", \"LL\"));\n",
    "\n",
    "//특정위치의 String 리턴\n",
    "System.out.println(a.substring(2)); // 2~끝\n",
    "System.out.println(a.substring(1,2)); // 1<= a <2\n",
    "\n",
    "//모두 대문자 소문자\n",
    "System.out.println(a.toUpperCase());\n",
    "System.out.println(a.toLowerCase());\n",
    "\n",
    "//split\n",
    "String a = \"a:b:c:d\";\n",
    "String[] result = a.split(\":\");  // result는 {\"a\", \"b\", \"c\", \"d\"}\n",
    "System.out.println(result); \n",
    "\n",
    "//String format\n",
    "System.out.println(String.format(\"I eat %d apples.\", 3));\n",
    "System.out.println(String.format(\"I eat %s apples.\", 3));"
   ]
  },
  {
   "cell_type": "code",
   "execution_count": 40,
   "metadata": {
    "vscode": {
     "languageId": "java"
    }
   },
   "outputs": [
    {
     "name": "stdout",
     "output_type": "stream",
     "text": [
      "10ABC\n",
      "10AC\n",
      "120AC\n"
     ]
    }
   ],
   "source": [
    "// StringBuilder 객체 생성\n",
    "StringBuilder sb = new StringBuilder();\n",
    "\n",
    "// 문자열 Add\n",
    "sb.append(10);\n",
    "sb.append(\"ABC\");\n",
    "\n",
    "// 출력\n",
    "System.out.println(sb); // 10ABC\n",
    "sb.deleteCharAt(3);     // 3번째 인덱스 문자 삭제\n",
    "System.out.println(sb); // 10AC\n",
    "sb.insert(1, 2);        // 1번째 인덱스에 2라는 문자 추가\n",
    "System.out.println(sb); // 120AC"
   ]
  },
  {
   "cell_type": "code",
   "execution_count": 58,
   "metadata": {
    "vscode": {
     "languageId": "java"
    }
   },
   "outputs": [
    {
     "data": {
      "text/plain": [
       "16"
      ]
     },
     "execution_count": 58,
     "metadata": {},
     "output_type": "execute_result"
    },
    {
     "ename": "",
     "evalue": "",
     "output_type": "error",
     "traceback": [
      "\u001b[1;31m현재 셀 또는 이전 셀에서 코드를 실행하는 동안 Kernel이 충돌했습니다. \n",
      "\u001b[1;31m셀의 코드를 검토하여 가능한 오류 원인을 식별하세요. \n",
      "\u001b[1;31m자세한 내용을 보려면 <a href='https://aka.ms/vscodeJupyterKernelCrash'>여기</a>를 클릭하세요. \n",
      "\u001b[1;31m자세한 내용은 Jupyter <a href='command:jupyter.viewOutput'>로그</a>를 참조하세요."
     ]
    }
   ],
   "source": [
    "import java.util.HashSet;\n",
    "import java.util.Set;\n",
    "\n",
    "class Solution {\n",
    "    int[] dx = {1,-1,0,0};\n",
    "    int[] dy = {0,0,1,-1};\n",
    "    \n",
    "    public int solution(int[][] land) {\n",
    "        int answer = 0;\n",
    "        \n",
    "        int [][] visited = new int[land.length][land[0].length];\n",
    "        int [][] oil = new int[land.length][land[0].length];\n",
    "            \n",
    "        int oilIndex = 1;\n",
    "        int[] oilCount = new int[land.length*land[0].length];\n",
    " \n",
    "        for (int i = 0; i<land.length; i++){\n",
    "            for (int j = 0; j<land[0].length; j++){\n",
    "\n",
    "                if(land[i][j] == 1 && visited[i][j] == 0) {\n",
    "                    dfs(new int[] {i,j},land,visited,oil,oilIndex++, oilCount);\n",
    "                }\n",
    "            }\n",
    "        }\n",
    "        \n",
    "        int[] oilCoulmn = new int[land[0].length];\n",
    "        for (int i = 0; i<land[0].length; i++){\n",
    "            Set<Integer> set = new HashSet<>();\n",
    "            for (int j = 0; j<land.length; j++){\n",
    "                if (oil[j][i] == 0) {\n",
    "                    continue;\n",
    "                }\n",
    "                set.add(oil[j][i]);\n",
    "            }\n",
    "            for (int j : set){\n",
    "                oilCoulmn[i] += oilCount[j];\n",
    "            }\n",
    "        }\n",
    "\n",
    "        for (int i: oilCoulmn){\n",
    "            if (i > answer) {\n",
    "                answer = i;\n",
    "            }\n",
    "        }\n",
    "        return answer;\n",
    "    }\n",
    "\n",
    "    void dfs(int[] current, int[][] land, int[][] visited, int[][] oil, int oilIndex, int[] oilCount) {\n",
    "            int x = current[1];\n",
    "            int y = current[0];\n",
    "\n",
    "            if(!(visited[y][x] == 0 && land[y][x] == 1)) {\n",
    "                return;\n",
    "            }\n",
    "            oil[y][x] = oilIndex;\n",
    "            oilCount[oilIndex]++;\n",
    "            visited[y][x] = 1;\n",
    "\n",
    "            for (int i = 0; i<4; i++) {\n",
    "                int nx = x + dx[i];\n",
    "                int ny = y + dy[i];\n",
    "                if(nx >= 0 && ny >= 0 && nx < land[0].length && ny < land.length) {\n",
    "                    dfs(new int[]{ny, nx},land, visited, oil, oilIndex, oilCount);\n",
    "                }\n",
    "            }\n",
    "    }\n",
    "}\n",
    "int[][] arr = {{0, 0, 0, 1, 1, 1, 0, 0}, {0, 0, 0, 0, 1, 1, 0, 0}, {1, 1, 0, 0, 0, 1, 1, 0}, {1, 1, 1, 0, 0, 0, 0, 0}, {1, 1, 1, 0, 0, 0, 1, 1}};\n",
    "//[[1, 0, 1, 0, 1, 1], [1, 0, 1, 0, 0, 0], [1, 0, 1, 0, 0, 1], [1, 0, 0, 1, 0, 0], [1, 0, 0, 1, 0, 1], [1, 0, 0, 0, 0, 0], [1, 1, 1, 1, 1, 1]]\n",
    "int[][] arr2 = {{1, 0, 1, 0, 1, 1}, {1, 0, 1, 0, 0, 0}, {1, 0, 1, 0, 0, 1}, {1, 0, 0, 1, 0, 0}, {1, 0, 0, 1, 0, 1}, {1, 0, 0, 0, 0, 0}, {1, 1, 1, 1, 1, 1}};\n",
    "Solution s = new Solution();\n",
    "s.solution(arr2);"
   ]
  },
  {
   "cell_type": "code",
   "execution_count": 1,
   "metadata": {
    "vscode": {
     "languageId": "java"
    }
   },
   "outputs": [],
   "source": [
    "// 효율성 테스트에서 재귀가 터져서 스택으로 변경\n",
    "import java.util.HashSet;\n",
    "import java.util.Set;\n",
    "import java.util.Stack;\n",
    "\n",
    "class Solution {\n",
    "    int[] dx = {1,-1,0,0};\n",
    "    int[] dy = {0,0,1,-1};\n",
    "    \n",
    "    public int solution(int[][] land) {\n",
    "        int answer = 0;\n",
    "        \n",
    "        int [][] visited = new int[land.length][land[0].length];\n",
    "        int [][] oil = new int[land.length][land[0].length];\n",
    "            \n",
    "        int oilIndex = 1;\n",
    "        int[] oilCount = new int[500 * 500];\n",
    " \n",
    "        for (int i = 0; i<land.length; i++){\n",
    "            for (int j = 0; j<land[0].length; j++){\n",
    "\n",
    "                if(land[i][j] == 1 && visited[i][j] == 0) {\n",
    "                    dfs(new int[] {i,j},land,visited,oil,oilIndex++, oilCount);\n",
    "                }\n",
    "            }\n",
    "        }\n",
    "        \n",
    "        int[] oilCoulmn = new int[land[0].length];\n",
    "        for (int i = 0; i<land[0].length; i++){\n",
    "            Set<Integer> set = new HashSet<>();\n",
    "            for (int j = 0; j<land.length; j++){\n",
    "                if (oil[j][i] == 0) {\n",
    "                    continue;\n",
    "                }\n",
    "                set.add(oil[j][i]);\n",
    "            }\n",
    "            for (int j : set){\n",
    "                oilCoulmn[i] += oilCount[j];\n",
    "            }\n",
    "        }\n",
    "\n",
    "        for (int i: oilCoulmn){\n",
    "            if (i > answer) {\n",
    "                answer = i;\n",
    "            }\n",
    "        }\n",
    "        return answer;\n",
    "    }\n",
    "\n",
    "    void dfs(int[] curren, int[][] land, int[][] visited, int[][] oil, int oilIndex, int[] oilCount) {\n",
    "        Stack<int[]> stack = new Stack<>();\n",
    "\n",
    "        // 출발 지점을 스택에 추가\n",
    "        stack.push(new int[] {curren[0], curren[1]});\n",
    "\n",
    "        while (!stack.isEmpty()) {\n",
    "            int[] current = stack.pop();\n",
    "            int y = current[0];\n",
    "            int x = current[1];\n",
    "\n",
    "            // 방문 여부 확인\n",
    "            if (visited[y][x] == 1 || land[y][x] == 0) {\n",
    "                continue;\n",
    "            }\n",
    "\n",
    "            // 현재 위치 방문 처리\n",
    "            visited[y][x] = 1;\n",
    "            oil[y][x] = oilIndex;\n",
    "            oilCount[oilIndex]++;\n",
    "\n",
    "            // 이웃한 정점 스택에 추가\n",
    "            for (int i = 0; i < 4; i++) {\n",
    "                int ny = y + dy[i];\n",
    "                int nx = x + dx[i];\n",
    "                if (ny >= 0 && nx >= 0 && ny < land.length && nx < land[0].length) {\n",
    "                    stack.push(new int[] {ny, nx});\n",
    "                }\n",
    "            }\n",
    "        }\n",
    "    }\n",
    "}"
   ]
  },
  {
   "cell_type": "code",
   "execution_count": 1,
   "metadata": {
    "vscode": {
     "languageId": "java"
    }
   },
   "outputs": [],
   "source": [
    "class Solution {\n",
    "    public int solution(int h1, int m1, int s1, int h2, int m2, int s2) {\n",
    "        int answer = 0;\n",
    "        boolean cAM = true;\n",
    "        boolean eAM = true;\n",
    "        \n",
    "        if (h1 >= 12) {\n",
    "            cAM = false;\n",
    "            h1 -= 12;\n",
    "        }\n",
    "        if (h2 >= 12) {\n",
    "            eAM = false;\n",
    "            h2 -= 12;\n",
    "        }\n",
    "        \n",
    "        int[]cTime = {h1 * 60 * 60,m1 * 60,s1};\n",
    "        int[]eTime = {h2 * 60 * 60,m2 * 60,s2};\n",
    "        \n",
    "        while (true) {\n",
    "            //시간세팅\n",
    "            int hour = cTime[0];\n",
    "            int min = cTime[1];\n",
    "            int sec = cTime[2];\n",
    "            \n",
    "            //초침 겹쳤는지 확인\n",
    "            //시,분 둘다겹침\n",
    "            if (sec * 60 == min && sec * 60 * 60 == hour) {\n",
    "                answer++;\n",
    "            }\n",
    "            //시 만 겹침\n",
    "            else if (!(sec * 60 == min) && sec * 60 * 60 == hour) {\n",
    "                answer++;\n",
    "            }\n",
    "            //분 만 겹침\n",
    "            else if (sec * 60 == min && !(sec * 60 * 60 == hour)) {\n",
    "                answer++;\n",
    "            }\n",
    "            \n",
    "            //eTime 체크\n",
    "            if (hour == eTime[0] && min == eTime[1] && sec == eTime[2] && cAM == eAM) {\n",
    "                break;\n",
    "            }\n",
    "            \n",
    "            //시간흐름\n",
    "            cTime[0]++;\n",
    "            if(cTime[0] == 3600 * 12) {\n",
    "                cTime[0] = 0;\n",
    "                cAM = false;\n",
    "            }\n",
    "            cTime[1]++;\n",
    "            if(cTime[1] == 60 * 60) {\n",
    "                cTime[1] = 0;\n",
    "            }\n",
    "            cTime[2]++;\n",
    "            if(cTime[2] == 60) {\n",
    "                cTime[2] = 0;\n",
    "            }\n",
    "        }\n",
    "        \n",
    "        return answer;\n",
    "    }\n",
    "}\n",
    "System.out.println(new Solution().solution(0,5,30,0,7,0));"
   ]
  },
  {
   "cell_type": "code",
   "execution_count": 2,
   "metadata": {
    "vscode": {
     "languageId": "java"
    }
   },
   "outputs": [
    {
     "name": "stdout",
     "output_type": "stream",
     "text": [
      "121\n"
     ]
    }
   ],
   "source": [
    "class Solution {\n",
    "    public int solution(int h1, int m1, int s1, int h2, int m2, int s2) {\n",
    "        int answer = 0;\n",
    "        boolean cAM = true;\n",
    "        boolean eAM = true;\n",
    "        \n",
    "        if (h1 >= 12) {\n",
    "            cAM = false;\n",
    "            h1 -= 12;\n",
    "        }\n",
    "        if (h2 >= 12) {\n",
    "            eAM = false;\n",
    "            h2 -= 12;\n",
    "        }\n",
    "        \n",
    "        int[] cTime = {h1 * 60 * 60, m1 * 60, s1};\n",
    "        int[] eTime = {h2 * 60 * 60, m2 * 60, s2};\n",
    "        \n",
    "        while (true) {\n",
    "            // 시간세팅\n",
    "            int hour = cTime[0];\n",
    "            int min = cTime[1];\n",
    "            int sec = cTime[2];\n",
    "            \n",
    "            // 초침 겹쳤는지 확인\n",
    "            if (sec * 60 == min && sec * 60 * 60 == hour) {\n",
    "                answer++;\n",
    "            } else if (!(sec * 60 == min) && sec * 60 * 60 == hour) {\n",
    "                answer++;\n",
    "            } else if (sec * 60 == min && !(sec * 60 * 60 == hour)) {\n",
    "                answer++;\n",
    "            }\n",
    "            \n",
    "            // eTime 체크\n",
    "            if (hour == eTime[0] && min == eTime[1] && sec == eTime[2] && cAM == eAM) {\n",
    "                break;\n",
    "            }\n",
    "            \n",
    "            // 시간흐름\n",
    "            cTime[2]++; // 초 증가\n",
    "            if (cTime[2] == 60) { // 초가 60이면\n",
    "                cTime[2] = 0; // 초를 0으로 설정\n",
    "                cTime[1]++; // 분 증가\n",
    "                if (cTime[1] == 60 * 60) { // 분이 3600(한 시간)이 되면\n",
    "                    cTime[1] = 0; // 분을 0으로 설정\n",
    "                    cTime[0]++; // 시간 증가\n",
    "                    if (cTime[0] == 3600 * 12) { // 시간이 12시간이 되면\n",
    "                        cTime[0] = 0; // 시간을 0으로 설정\n",
    "                        cAM = !cAM; // 오전과 오후를 바꿈\n",
    "                    }\n",
    "                }\n",
    "            }\n",
    "        }\n",
    "        \n",
    "        return answer;\n",
    "    }\n",
    "}\n",
    "System.out.println(new Solution().solution(0,5,30,0,7,0));"
   ]
  },
  {
   "cell_type": "code",
   "execution_count": 8,
   "metadata": {
    "vscode": {
     "languageId": "java"
    }
   },
   "outputs": [
    {
     "name": "stdout",
     "output_type": "stream",
     "text": [
      "1\n"
     ]
    }
   ],
   "source": [
    "class Solution {\n",
    "    public int solution(int h1, int m1, int s1, int h2, int m2, int s2) {\n",
    "        int answer = 0;\n",
    "        \n",
    "        // 시작 시간과 종료 시간을 초 단위로 변환\n",
    "        int totalSeconds1 = h1 * 3600 + m1 * 60 + s1;\n",
    "        int totalSeconds2 = h2 * 3600 + m2 * 60 + s2;\n",
    "        \n",
    "        // 시작 시간이 오후인 경우에는 12시간을 더해줍니다.\n",
    "        if (h1 >= 12) {\n",
    "            totalSeconds1 += 12 * 3600;\n",
    "        }\n",
    "        // 종료 시간이 오전인 경우에는 12시간을 더해줍니다.\n",
    "        if (h2 < 12) {\n",
    "            totalSeconds2 += 12 * 3600;\n",
    "        }\n",
    "        \n",
    "        // 시작 시간부터 종료 시간까지 초를 증가시키며 초침과 시침/분침이 겹치는 횟수를 세어줍니다.\n",
    "        for (int i = totalSeconds1; i <= totalSeconds2; i++) {\n",
    "            // 초침과 시침/분침이 겹치는지 여부를 판단합니다.\n",
    "            if (i % (12 * 3600) == 0) {\n",
    "                answer++;\n",
    "            }\n",
    "        }\n",
    "        \n",
    "        return answer;\n",
    "    }\n",
    "}\n",
    "\n",
    "\n",
    "\n",
    "System.out.println(new Solution().solution(0,5,30,0,7,0));"
   ]
  },
  {
   "cell_type": "code",
   "execution_count": 1,
   "metadata": {
    "vscode": {
     "languageId": "java"
    }
   },
   "outputs": [],
   "source": [
    "import java.util.HashSet;\n",
    "import java.util.Set;\n",
    "import java.util.ArrayList;\n",
    "import java.util.List;\n",
    "\n",
    "class Solution {\n",
    "\n",
    "    public void unionSet(Set<Integer> union, Set<Integer> a, Set<Integer> b) {\n",
    "        // 순열\n",
    "        for (int n1:a){\n",
    "            for (int n2:b){\n",
    "                union.add(n1 + n2);\n",
    "                union.add(n1 - n2);\n",
    "                union.add(n1 * n2);\n",
    "                if(n2 != 0){\n",
    "                    union.add(n1/n2);\n",
    "                }\n",
    "            }\n",
    "        }\n",
    "    }\n",
    "\n",
    "    public int solution(int N, int number) {\n",
    "        List<Set<Integer>> setList = new ArrayList<>();\n",
    "\n",
    "        for (int i = 0; i < 9; i++) {\n",
    "            setList.add(new HashSet<>());\n",
    "        }\n",
    "        setList.get(1).add(N);\n",
    "        if(number == N) {\n",
    "            return 1;\n",
    "        }\n",
    "        for (int i = 2; i<9; i++){\n",
    "            for (int j = 1; j< i/2+1; j++) {\n",
    "                unionSet(setList.get(i), setList.get(i - j), setList.get(j));\n",
    "                unionSet(setList.get(i), setList.get(j), setList.get(i - j));\n",
    "            }\n",
    "            String n = Integer.toString(N);\n",
    "            setList.get(i).add(Integer.parseInt(n.repeat(i)));\n",
    "            for (int num : setList.get(i)) {\n",
    "                if (num == number) {\n",
    "                    return i; \n",
    "                }\n",
    "            }\n",
    "        }\n",
    "        return -1;\n",
    "    }\n",
    "}"
   ]
  },
  {
   "cell_type": "code",
   "execution_count": 3,
   "metadata": {
    "vscode": {
     "languageId": "java"
    }
   },
   "outputs": [],
   "source": [
    "// pccp 외톨이 알파벳\n",
    "class Solution {\n",
    "    public String solution(String input_string) {\n",
    "        int[] arr = new int[26];\n",
    "        int pre = input_string.charAt(0);\n",
    "        arr[pre - 'a']++;\n",
    "\n",
    "        for(int i =1; i<input_string.length(); i++){\n",
    "            if(input_string.charAt(i) != pre){\n",
    "                pre = input_string.charAt(i);\n",
    "                arr[pre - 'a']++;\n",
    "            }\n",
    "        }\n",
    "        String answer = \"\";\n",
    "        for(int i = 0; i<arr.length; i++){\n",
    "            if(arr[i] >= 2){\n",
    "                answer += (char)(i + 'a');\n",
    "            }\n",
    "        }\n",
    "        return answer==\"\" ? \"N\" : answer;\n",
    "    }\n",
    "}"
   ]
  },
  {
   "cell_type": "code",
   "execution_count": 8,
   "metadata": {
    "vscode": {
     "languageId": "java"
    }
   },
   "outputs": [
    {
     "name": "stdout",
     "output_type": "stream",
     "text": [
      "3\n",
      "4\n",
      "1\n",
      "0\n",
      "0\n",
      "0\n",
      "0\n",
      "0\n",
      "0\n",
      "0\n",
      "0\n",
      "0\n",
      "0\n",
      "0\n",
      "0\n",
      "0\n",
      "0\n",
      "0\n",
      "0\n",
      "0\n",
      "0\n",
      "0\n",
      "0\n",
      "0\n",
      "0\n",
      "0\n"
     ]
    }
   ],
   "source": [
    "// a~z => index=0~25로 저장\n",
    "int[] arr = new int[26];\n",
    "String input = \"aaabbbbc\";\n",
    "for(int i = 0; i<input.length(); i++){\n",
    "    arr[input.charAt(i) - 'a']++;\n",
    "}\n",
    "for(int i = 0; i<arr.length; i++){\n",
    "    System.out.println(arr[i]);\n",
    "}\n",
    "\n"
   ]
  }
 ],
 "metadata": {
  "kernelspec": {
   "display_name": "Java",
   "language": "java",
   "name": "java"
  },
  "language_info": {
   "codemirror_mode": "java",
   "file_extension": ".jshell",
   "mimetype": "text/x-java-source",
   "name": "Java",
   "pygments_lexer": "java",
   "version": "17.0.10+7"
  }
 },
 "nbformat": 4,
 "nbformat_minor": 2
}
