{
 "cells": [
  {
   "cell_type": "code",
   "execution_count": 25,
   "metadata": {},
   "outputs": [
    {
     "name": "stdout",
     "output_type": "stream",
     "text": [
      "13\n"
     ]
    }
   ],
   "source": [
    "x = 3\n",
    "y = 10\n",
    "print(x + y)"
   ]
  },
  {
   "cell_type": "code",
   "execution_count": 26,
   "metadata": {},
   "outputs": [
    {
     "data": {
      "text/plain": [
       "'\\nhello world\\n'"
      ]
     },
     "execution_count": 26,
     "metadata": {},
     "output_type": "execute_result"
    }
   ],
   "source": [
    "#hello world\n",
    "'''\n",
    "hello world\n",
    "'''"
   ]
  },
  {
   "cell_type": "code",
   "execution_count": 27,
   "metadata": {},
   "outputs": [
    {
     "name": "stdout",
     "output_type": "stream",
     "text": [
      "10 10.1 hello world -1 lee (10+2j) 9 513 4097\n",
      "<class 'str'>\n",
      "<class 'str'>\n"
     ]
    }
   ],
   "source": [
    "a = 10              #int(정수)\n",
    "b = 10.1            #float(실수)\n",
    "c = \"hello world\"   #str(문자열)\n",
    "d = -1\n",
    "e = 'lee'\n",
    "f = True            #bool(참거짓)\n",
    "g = 10 + 2j\n",
    "h = 0b1001          #int(정수)\n",
    "i = 0o1001          #int(정수)\n",
    "j = 0x1001          #int(정수)\n",
    "print (a, b, c, d, e, g, h, i, j)\n",
    "print (type(c))\n",
    "print (type(e))\n",
    "#print(dir(a))"
   ]
  },
  {
   "cell_type": "code",
   "execution_count": 28,
   "metadata": {},
   "outputs": [
    {
     "name": "stdout",
     "output_type": "stream",
     "text": [
      "<class 'str'>\n",
      "['__add__', '__class__', '__contains__', '__delattr__', '__dir__', '__doc__', '__eq__', '__format__', '__ge__', '__getattribute__', '__getitem__', '__getnewargs__', '__getstate__', '__gt__', '__hash__', '__init__', '__init_subclass__', '__iter__', '__le__', '__len__', '__lt__', '__mod__', '__mul__', '__ne__', '__new__', '__reduce__', '__reduce_ex__', '__repr__', '__rmod__', '__rmul__', '__setattr__', '__sizeof__', '__str__', '__subclasshook__', 'capitalize', 'casefold', 'center', 'count', 'encode', 'endswith', 'expandtabs', 'find', 'format', 'format_map', 'index', 'isalnum', 'isalpha', 'isascii', 'isdecimal', 'isdigit', 'isidentifier', 'islower', 'isnumeric', 'isprintable', 'isspace', 'istitle', 'isupper', 'join', 'ljust', 'lower', 'lstrip', 'maketrans', 'partition', 'removeprefix', 'removesuffix', 'replace', 'rfind', 'rindex', 'rjust', 'rpartition', 'rsplit', 'rstrip', 'split', 'splitlines', 'startswith', 'strip', 'swapcase', 'title', 'translate', 'upper', 'zfill']\n",
      "J\n",
      "JNU\n",
      "JUsue\n",
      "tneduts UN\n",
      "JUsuetPrHmn\n"
     ]
    }
   ],
   "source": [
    "s = 'JNU student ParkHamin'\n",
    "print(type(s))\n",
    "print(dir(s))\n",
    "print(s[0])\n",
    "print(s[0:3])\n",
    "print(s[0:10:2])\n",
    "print(s[10:0:-1])\n",
    "print(s[::2])"
   ]
  },
  {
   "cell_type": "code",
   "execution_count": 29,
   "metadata": {},
   "outputs": [
    {
     "name": "stdout",
     "output_type": "stream",
     "text": [
      "<class 'str'>\n",
      "['__add__', '__class__', '__contains__', '__delattr__', '__dir__', '__doc__', '__eq__', '__format__', '__ge__', '__getattribute__', '__getitem__', '__getnewargs__', '__getstate__', '__gt__', '__hash__', '__init__', '__init_subclass__', '__iter__', '__le__', '__len__', '__lt__', '__mod__', '__mul__', '__ne__', '__new__', '__reduce__', '__reduce_ex__', '__repr__', '__rmod__', '__rmul__', '__setattr__', '__sizeof__', '__str__', '__subclasshook__', 'capitalize', 'casefold', 'center', 'count', 'encode', 'endswith', 'expandtabs', 'find', 'format', 'format_map', 'index', 'isalnum', 'isalpha', 'isascii', 'isdecimal', 'isdigit', 'isidentifier', 'islower', 'isnumeric', 'isprintable', 'isspace', 'istitle', 'isupper', 'join', 'ljust', 'lower', 'lstrip', 'maketrans', 'partition', 'removeprefix', 'removesuffix', 'replace', 'rfind', 'rindex', 'rjust', 'rpartition', 'rsplit', 'rstrip', 'split', 'splitlines', 'startswith', 'strip', 'swapcase', 'title', 'translate', 'upper', 'zfill']\n",
      "JNU STUDENT PARKHAMIN\n",
      "jnu student parkhamin\n",
      "2\n",
      "hello world\n",
      "JNU!student!ParkHamin\n",
      "My name is Hamin and I am 20 years old\n"
     ]
    }
   ],
   "source": [
    "s = 'JNU student ParkHamin'\n",
    "print(type(s))\n",
    "print(dir(s))\n",
    "print(s.upper())\n",
    "print(s.lower())\n",
    "print(s.count('t'))\n",
    "ss = '                hello world     '\n",
    "print(ss.strip())\n",
    "a = (s.split(' '))\n",
    "print('!'.join(a))\n",
    "print('My name is {0} and I am {1} years old'.format('Hamin', 20))"
   ]
  },
  {
   "cell_type": "code",
   "execution_count": 30,
   "metadata": {},
   "outputs": [
    {
     "name": "stdout",
     "output_type": "stream",
     "text": [
      "2024/2/3 2024 2 3\n"
     ]
    }
   ],
   "source": [
    "a = 2024\n",
    "b = 2\n",
    "c = 3\n",
    "# 2024/2/3\n",
    "print(a, b, c, sep='/', end=' ')\n",
    "print(a, b, c)"
   ]
  },
  {
   "cell_type": "code",
   "execution_count": 31,
   "metadata": {},
   "outputs": [
    {
     "name": "stdout",
     "output_type": "stream",
     "text": [
      "20\n"
     ]
    }
   ],
   "source": [
    "a = 10\n",
    "b = '10'\n",
    "print(a + int(b)) #형변환"
   ]
  },
  {
   "cell_type": "code",
   "execution_count": 32,
   "metadata": {},
   "outputs": [
    {
     "name": "stdout",
     "output_type": "stream",
     "text": [
      "<class 'bool'>\n",
      "['__abs__', '__add__', '__and__', '__bool__', '__ceil__', '__class__', '__delattr__', '__dir__', '__divmod__', '__doc__', '__eq__', '__float__', '__floor__', '__floordiv__', '__format__', '__ge__', '__getattribute__', '__getnewargs__', '__getstate__', '__gt__', '__hash__', '__index__', '__init__', '__init_subclass__', '__int__', '__invert__', '__le__', '__lshift__', '__lt__', '__mod__', '__mul__', '__ne__', '__neg__', '__new__', '__or__', '__pos__', '__pow__', '__radd__', '__rand__', '__rdivmod__', '__reduce__', '__reduce_ex__', '__repr__', '__rfloordiv__', '__rlshift__', '__rmod__', '__rmul__', '__ror__', '__round__', '__rpow__', '__rrshift__', '__rshift__', '__rsub__', '__rtruediv__', '__rxor__', '__setattr__', '__sizeof__', '__str__', '__sub__', '__subclasshook__', '__truediv__', '__trunc__', '__xor__', 'as_integer_ratio', 'bit_count', 'bit_length', 'conjugate', 'denominator', 'from_bytes', 'imag', 'numerator', 'real', 'to_bytes']\n"
     ]
    }
   ],
   "source": [
    "a = True\n",
    "b = False\n",
    "print(type(a))\n",
    "print(dir(a))"
   ]
  },
  {
   "cell_type": "code",
   "execution_count": 33,
   "metadata": {},
   "outputs": [
    {
     "name": "stdout",
     "output_type": "stream",
     "text": [
      "True\n",
      "False\n",
      "True\n",
      "False\n",
      "True\n",
      "False\n"
     ]
    }
   ],
   "source": [
    "print(bool(' '))\n",
    "print(bool(''))\n",
    "print(bool(1))\n",
    "print(bool(0))\n",
    "print(bool(-1))\n",
    "print(bool(None))"
   ]
  },
  {
   "cell_type": "code",
   "execution_count": 34,
   "metadata": {},
   "outputs": [
    {
     "name": "stdout",
     "output_type": "stream",
     "text": [
      "13\n",
      "-7\n",
      "3.3333333333333335\n",
      "3\n",
      "30\n",
      "59049\n",
      "1\n"
     ]
    }
   ],
   "source": [
    "a = 3\n",
    "b = 10\n",
    "print(a + b)\n",
    "print(a - b)\n",
    "print(b / a)\n",
    "print(b // a)\n",
    "print(a * b)\n",
    "print(a ** b) #제곱\n",
    "print(b % a)"
   ]
  },
  {
   "cell_type": "code",
   "execution_count": 35,
   "metadata": {},
   "outputs": [
    {
     "name": "stdout",
     "output_type": "stream",
     "text": [
      "False\n",
      "True\n",
      "True\n",
      "False\n",
      "True\n",
      "False\n"
     ]
    }
   ],
   "source": [
    "#비교연산\n",
    "a = 10\n",
    "b = 3\n",
    "print(a == b)\n",
    "print(a != b)\n",
    "print(a > b)\n",
    "print(a < b)\n",
    "print(a >= b)\n",
    "print(a <= b)"
   ]
  },
  {
   "cell_type": "code",
   "execution_count": 36,
   "metadata": {},
   "outputs": [
    {
     "name": "stdout",
     "output_type": "stream",
     "text": [
      "False\n",
      "True\n",
      "False\n"
     ]
    }
   ],
   "source": [
    "#논리연산\n",
    "a = True\n",
    "b = False\n",
    "print(a and b)\n",
    "print(a or b)\n",
    "print(not a)"
   ]
  },
  {
   "cell_type": "code",
   "execution_count": 37,
   "metadata": {},
   "outputs": [
    {
     "name": "stdout",
     "output_type": "stream",
     "text": [
      "8\n",
      "101000\n",
      "001110\n"
     ]
    }
   ],
   "source": [
    "#bit 연산\n",
    "a = 40\n",
    "b = 14\n",
    "print(a & b)\n",
    "print(bin(a)[2:].zfill(6))\n",
    "print(bin(b)[2:].zfill(6))\n",
    "# 101000\n",
    "# 001110\n",
    "# ------ and연산\n",
    "# 001000"
   ]
  },
  {
   "cell_type": "code",
   "execution_count": 38,
   "metadata": {},
   "outputs": [
    {
     "name": "stdout",
     "output_type": "stream",
     "text": [
      "13\n"
     ]
    }
   ],
   "source": [
    "# 함수\n",
    "def f(x, y):\n",
    "    z = x + y\n",
    "    return z\n",
    "print(f(3, 10))"
   ]
  },
  {
   "cell_type": "code",
   "execution_count": 39,
   "metadata": {},
   "outputs": [
    {
     "name": "stdout",
     "output_type": "stream",
     "text": [
      "4\n",
      "1\n",
      "2\n",
      "3\n"
     ]
    }
   ],
   "source": [
    "def ff():\n",
    "    print('1')\n",
    "    print('2')\n",
    "    print('3')\n",
    "\n",
    "print(4)\n",
    "ff()"
   ]
  },
  {
   "cell_type": "code",
   "execution_count": 40,
   "metadata": {},
   "outputs": [
    {
     "name": "stdout",
     "output_type": "stream",
     "text": [
      "314.0\n"
     ]
    }
   ],
   "source": [
    "def circle(r):\n",
    "    area = r * r * 3.14\n",
    "    return area\n",
    "\n",
    "print(circle(10))"
   ]
  },
  {
   "cell_type": "code",
   "execution_count": 41,
   "metadata": {},
   "outputs": [
    {
     "name": "stdout",
     "output_type": "stream",
     "text": [
      "11\n"
     ]
    }
   ],
   "source": [
    "a = 10\n",
    "def aplus():\n",
    "    global a\n",
    "    a += 1\n",
    "    return a\n",
    "print(aplus())"
   ]
  },
  {
   "cell_type": "code",
   "execution_count": 42,
   "metadata": {},
   "outputs": [
    {
     "name": "stdout",
     "output_type": "stream",
     "text": [
      "[100, 200, 300, 400]\n",
      "<class 'list'>\n",
      "200\n",
      "[100, 1000, 300, 400]\n"
     ]
    }
   ],
   "source": [
    "# 리스트, 튜플, 딕셔너리, 세트\n",
    "\n",
    "# 리스트\n",
    "l = [100, 200, 300, 400]\n",
    "print(l)\n",
    "print(type(l))\n",
    "# 변경이 가능한 자료형\n",
    "# 순서가 있는 자료형\n",
    "# 중복을 허용\n",
    "print(l[1])\n",
    "l[1] = 1000\n",
    "print(l)"
   ]
  },
  {
   "cell_type": "code",
   "execution_count": 43,
   "metadata": {},
   "outputs": [
    {
     "name": "stdout",
     "output_type": "stream",
     "text": [
      "['__add__', '__class__', '__class_getitem__', '__contains__', '__delattr__', '__delitem__', '__dir__', '__doc__', '__eq__', '__format__', '__ge__', '__getattribute__', '__getitem__', '__getstate__', '__gt__', '__hash__', '__iadd__', '__imul__', '__init__', '__init_subclass__', '__iter__', '__le__', '__len__', '__lt__', '__mul__', '__ne__', '__new__', '__reduce__', '__reduce_ex__', '__repr__', '__reversed__', '__rmul__', '__setattr__', '__setitem__', '__sizeof__', '__str__', '__subclasshook__', 'append', 'clear', 'copy', 'count', 'extend', 'index', 'insert', 'pop', 'remove', 'reverse', 'sort']\n",
      "[100, 200, 300, 400, 300]\n",
      "2\n",
      "[100, 200, 300, 400, 300, 100, 200, 300]\n",
      "2\n",
      "[100, 200, 300, 1000, 400, 300, 100, 200, 300]\n",
      "[100, 200, 300, 1000, 400, 300, 100, 200]\n",
      "[200, 300, 1000, 400, 300, 100, 200]\n",
      "[200, 100, 300, 400, 1000, 300, 200]\n",
      "[100, 200, 200, 300, 300, 400, 1000]\n"
     ]
    }
   ],
   "source": [
    "print(dir(l))\n",
    "l = [100, 200, 300, 400]\n",
    "# l[시작인덱스:끝인덱스:간격] 슬라이싱 기법\n",
    "l.append(300)\n",
    "print(l)\n",
    "# l.clear()\n",
    "# l.copy()\n",
    "print(l.count(300))\n",
    "l.extend([100, 200, 300])\n",
    "print(l)\n",
    "print(l.index(300))\n",
    "l.insert(3, 1000)\n",
    "print(l)\n",
    "l.pop() # 인덱스를 지정하지 않으면 마지막 요소를 삭제\n",
    "print(l)\n",
    "l.remove(100) # 처음 만나는 요소를 삭제\n",
    "print(l)\n",
    "l.reverse() # 역순으로 정렬\n",
    "print(l)\n",
    "l.sort() # 정렬\n",
    "print(l)\n",
    "# l.sorted() # 정렬된 리스트를 반환\n",
    "# l.reversed() # 역순으로 정렬된 리스트를 반환"
   ]
  },
  {
   "cell_type": "code",
   "execution_count": 44,
   "metadata": {},
   "outputs": [
    {
     "name": "stdout",
     "output_type": "stream",
     "text": [
      "([1000, 2000], 200, 300)\n",
      "<class 'tuple'>\n",
      "([100, 2000], 200, 300)\n"
     ]
    }
   ],
   "source": [
    "# 튜플\n",
    "l = [1000, 2000]\n",
    "t = (l, 200, 300)\n",
    "print(t)\n",
    "print(type(t))\n",
    "# 변경이 불가능한 자료형\n",
    "# 순서가 있는 자료형\n",
    "\n",
    "# t[0] = 1000\n",
    "# error\n",
    "\n",
    "l[0] = 100\n",
    "print(t)"
   ]
  },
  {
   "cell_type": "code",
   "execution_count": 45,
   "metadata": {},
   "outputs": [
    {
     "name": "stdout",
     "output_type": "stream",
     "text": [
      "{200, 100, 300}\n",
      "<class 'set'>\n",
      "{200, 100, 500, 300}\n",
      "{' ', 'e', 'w', 'h', 'd', 'r', 'o', 'l'}\n",
      "{100, 200, 300, 400, 500}\n"
     ]
    }
   ],
   "source": [
    "# 세트\n",
    "s = {100, 200, 300, 300, 300}\n",
    "print(s)\n",
    "print(type(s))\n",
    "# 순서가 없는 자료형\n",
    "# 중복을 허용하지 않음\n",
    "\n",
    "s.add(500)\n",
    "print(s)\n",
    "print(set('hello world'))\n",
    "print(s.union({100, 200, 300, 400})) # 합집합"
   ]
  },
  {
   "cell_type": "code",
   "execution_count": 46,
   "metadata": {},
   "outputs": [
    {
     "name": "stdout",
     "output_type": "stream",
     "text": [
      "{'one': 10, 'two': 20}\n",
      "<class 'dict'>\n",
      "10\n",
      "dict_values([10, 20])\n",
      "dict_keys(['one', 'two'])\n",
      "dict_items([('one', 10), ('two', 20)])\n",
      "10\n"
     ]
    }
   ],
   "source": [
    "# 딕셔너리\n",
    "d = {'one': 10, 'two': 20}\n",
    "# 순서가 없는 자료형\n",
    "# 키와 값으로 이루어진 자료형\n",
    "print(d)\n",
    "print(type(d))\n",
    "print(d['one'])\n",
    "print(d.values())\n",
    "print(d.keys())\n",
    "print(d.items()) # 키와 값으로 이루어진 리스트\n",
    "l = list(d.items())\n",
    "print(l[0][1])"
   ]
  },
  {
   "cell_type": "code",
   "execution_count": 47,
   "metadata": {},
   "outputs": [
    {
     "name": "stdout",
     "output_type": "stream",
     "text": [
      "{'banana': 5000, 'orange': 2000}\n"
     ]
    }
   ],
   "source": [
    "jeju = {'banana': 5000, 'orange': 2000}\n",
    "# seoul = jeju error\n",
    "seoul = jeju.copy()\n",
    "jeju['orange'] = 3000\n",
    "print(seoul)"
   ]
  },
  {
   "cell_type": "code",
   "execution_count": 48,
   "metadata": {},
   "outputs": [
    {
     "name": "stdout",
     "output_type": "stream",
     "text": [
      "hello world 1\n",
      "hello world 2\n",
      "hello world 3\n",
      "hello world 4\n",
      "good bye\n"
     ]
    }
   ],
   "source": [
    "# 반복문\n",
    "a = 1\n",
    "while a<5:\n",
    "    print(\"hello world\", a)\n",
    "    if a> 9:\n",
    "        break\n",
    "    a += 1\n",
    "else:\n",
    "    print(\"good bye\")"
   ]
  },
  {
   "cell_type": "code",
   "execution_count": 49,
   "metadata": {},
   "outputs": [
    {
     "name": "stdout",
     "output_type": "stream",
     "text": [
      "[10, 20, 30, 40]\n",
      "10\n",
      "20\n",
      "30\n",
      "40\n",
      "{40, 10, 20, 30}\n",
      "40\n",
      "10\n",
      "20\n",
      "30\n",
      "{'one': 10, 'two': 20}\n",
      "one 10\n",
      "two 20\n"
     ]
    }
   ],
   "source": [
    "l = [10, 20, 30, 40]\n",
    "print(l)\n",
    "for i in l:\n",
    "    print(i)\n",
    "\n",
    "s = {10, 20, 30, 40, 10, 10, 10}\n",
    "print(s)\n",
    "for i in s:\n",
    "    print(i)\n",
    "\n",
    "d = {'one': 10, 'two': 20}\n",
    "print(d)\n",
    "for i in d:\n",
    "    print(i, d[i])"
   ]
  },
  {
   "cell_type": "code",
   "execution_count": 50,
   "metadata": {},
   "outputs": [
    {
     "name": "stdout",
     "output_type": "stream",
     "text": [
      "<class 'range'>\n",
      "0\n",
      "1\n",
      "2\n",
      "3\n",
      "4\n",
      "5\n",
      "6\n",
      "7\n",
      "8\n",
      "9\n",
      "1 [0, 1, 2, 3, 4, 5, 6, 7, 8, 9]\n",
      "1 [5, 6, 7, 8, 9]\n",
      "1 [2, 4, 6, 8]\n",
      "1 [10, 9, 8, 7, 6]\n",
      "1 []\n"
     ]
    }
   ],
   "source": [
    "print(type(range(10)))\n",
    "for i in range(10):\n",
    "    print(i)\n",
    "\n",
    "print(1, list(range(10)))\n",
    "print(1, list(range(5, 10)))\n",
    "print(1, list(range(2, 10, 2)))\n",
    "print(1, list(range(10, 5, -1)))\n",
    "print(1, list(range(-10)))"
   ]
  },
  {
   "cell_type": "code",
   "execution_count": 51,
   "metadata": {},
   "outputs": [
    {
     "name": "stdout",
     "output_type": "stream",
     "text": [
      "h\n",
      "e\n",
      "l\n",
      "l\n",
      "o\n",
      " \n",
      "w\n",
      "o\n",
      "r\n",
      "l\n",
      "d\n"
     ]
    }
   ],
   "source": [
    "for i in 'hello world':\n",
    "    print(i)"
   ]
  },
  {
   "cell_type": "code",
   "execution_count": 52,
   "metadata": {},
   "outputs": [
    {
     "name": "stdout",
     "output_type": "stream",
     "text": [
      "0\n",
      "1\n",
      "2\n",
      "3\n",
      "4\n",
      "5\n",
      "6\n",
      "7\n",
      "8\n",
      "9\n",
      "good bye\n"
     ]
    }
   ],
   "source": [
    "for i in range(10):\n",
    "    print(i)\n",
    "else:\n",
    "    print('good bye') # 반복문이 정상적으로 종료되면 실행"
   ]
  },
  {
   "cell_type": "code",
   "execution_count": 53,
   "metadata": {},
   "outputs": [
    {
     "name": "stdout",
     "output_type": "stream",
     "text": [
      "[0, 1, 2, 3, 4, 5, 6, 7, 8, 9]\n",
      "[0, 1, 2, 3, 4, 5, 6, 7, 8, 9]\n",
      "['2 * 1 = 2', '2 * 2 = 4', '2 * 3 = 6', '2 * 4 = 8', '2 * 5 = 10', '2 * 6 = 12', '2 * 7 = 14', '2 * 8 = 16', '2 * 9 = 18', '3 * 1 = 3', '3 * 2 = 6', '3 * 3 = 9', '3 * 4 = 12', '3 * 5 = 15', '3 * 6 = 18', '3 * 7 = 21', '3 * 8 = 24', '3 * 9 = 27', '4 * 1 = 4', '4 * 2 = 8', '4 * 3 = 12', '4 * 4 = 16', '4 * 5 = 20', '4 * 6 = 24', '4 * 7 = 28', '4 * 8 = 32', '4 * 9 = 36', '5 * 1 = 5', '5 * 2 = 10', '5 * 3 = 15', '5 * 4 = 20', '5 * 5 = 25', '5 * 6 = 30', '5 * 7 = 35', '5 * 8 = 40', '5 * 9 = 45', '6 * 1 = 6', '6 * 2 = 12', '6 * 3 = 18', '6 * 4 = 24', '6 * 5 = 30', '6 * 6 = 36', '6 * 7 = 42', '6 * 8 = 48', '6 * 9 = 54', '7 * 1 = 7', '7 * 2 = 14', '7 * 3 = 21', '7 * 4 = 28', '7 * 5 = 35', '7 * 6 = 42', '7 * 7 = 49', '7 * 8 = 56', '7 * 9 = 63', '8 * 1 = 8', '8 * 2 = 16', '8 * 3 = 24', '8 * 4 = 32', '8 * 5 = 40', '8 * 6 = 48', '8 * 7 = 56', '8 * 8 = 64', '8 * 9 = 72', '9 * 1 = 9', '9 * 2 = 18', '9 * 3 = 27', '9 * 4 = 36', '9 * 5 = 45', '9 * 6 = 54', '9 * 7 = 63', '9 * 8 = 72', '9 * 9 = 81']\n"
     ]
    }
   ],
   "source": [
    "l = list(range(10))\n",
    "print(l)\n",
    "ll = [i for i in range(10)]\n",
    "print(ll)\n",
    "lll = ['{} * {} = {}'.format(i, j, i*j) for i in range(2, 10) for j in range(1, 10)]\n",
    "print(lll)"
   ]
  },
  {
   "cell_type": "code",
   "execution_count": 54,
   "metadata": {},
   "outputs": [
    {
     "name": "stdout",
     "output_type": "stream",
     "text": [
      "1 2\n",
      "3 4\n",
      "5 6\n"
     ]
    }
   ],
   "source": [
    "l = [(1, 2), (3, 4), (5, 6)]\n",
    "for i, j in l: # 튜플 언패킹\n",
    "    print(i, j)"
   ]
  },
  {
   "cell_type": "code",
   "execution_count": 55,
   "metadata": {},
   "outputs": [
    {
     "name": "stdout",
     "output_type": "stream",
     "text": [
      "1 100\n",
      "2 200\n",
      "3 300\n",
      "4 400\n",
      "5 500\n",
      "6 600\n",
      "7 700\n",
      "8 800\n",
      "9 900\n"
     ]
    }
   ],
   "source": [
    "for i, j in enumerate(range(100, 1000, 100), 1): # 인덱스와 값을 동시에 출력\n",
    "    print(i, j)"
   ]
  },
  {
   "cell_type": "code",
   "execution_count": 56,
   "metadata": {},
   "outputs": [],
   "source": [
    "for i in range(10):\n",
    "    pass"
   ]
  },
  {
   "cell_type": "code",
   "execution_count": 57,
   "metadata": {},
   "outputs": [
    {
     "name": "stdout",
     "output_type": "stream",
     "text": [
      "a == 10\n"
     ]
    }
   ],
   "source": [
    "a = 10\n",
    "if a > 10:\n",
    "    print('a > 10')\n",
    "elif a < 10:\n",
    "    print('a < 10')\n",
    "else:\n",
    "    print('a == 10')"
   ]
  },
  {
   "cell_type": "code",
   "execution_count": 58,
   "metadata": {},
   "outputs": [
    {
     "name": "stdout",
     "output_type": "stream",
     "text": [
      "5\n",
      "['__class__', '__delattr__', '__dict__', '__dir__', '__doc__', '__eq__', '__format__', '__ge__', '__getattribute__', '__getstate__', '__gt__', '__hash__', '__init__', '__init_subclass__', '__le__', '__lt__', '__module__', '__ne__', '__new__', '__reduce__', '__reduce_ex__', '__repr__', '__setattr__', '__sizeof__', '__str__', '__subclasshook__', '__weakref__', 'maxpeople', 'maxspeed', 'move', 'stop']\n"
     ]
    }
   ],
   "source": [
    "# class name 처음은 대문자\n",
    "# class는 객체(instance) 를 만들기 위한 틀\n",
    "# 객체는 클래스로부터 만들어진 것\n",
    "\n",
    "class Car():\n",
    "    maxspeed = 300\n",
    "    maxpeople = 5\n",
    "    def move(self):\n",
    "        print('move')\n",
    "    def stop(self):\n",
    "        print('stop')\n",
    "\n",
    "k9 = Car()\n",
    "print(k9.maxpeople)\n",
    "print(dir(k9))\n"
   ]
  },
  {
   "cell_type": "code",
   "execution_count": 59,
   "metadata": {},
   "outputs": [
    {
     "name": "stdout",
     "output_type": "stream",
     "text": [
      "5\n",
      "['__class__', '__delattr__', '__dict__', '__dir__', '__doc__', '__eq__', '__format__', '__ge__', '__getattribute__', '__getstate__', '__gt__', '__hash__', '__init__', '__init_subclass__', '__le__', '__lt__', '__module__', '__ne__', '__new__', '__reduce__', '__reduce_ex__', '__repr__', '__setattr__', '__sizeof__', '__str__', '__subclasshook__', '__weakref__', 'maxpeople', 'maxspeed', 'move', 'stop']\n",
      "hello world\n"
     ]
    }
   ],
   "source": [
    "class Car():\n",
    "    maxspeed = 300\n",
    "    maxpeople = 5\n",
    "    def move(self):\n",
    "        print('move')\n",
    "    def stop(self):\n",
    "        print('stop')\n",
    "    def __str__(self):\n",
    "        return 'hello world'\n",
    "\n",
    "class Hybrid(Car):\n",
    "    battery = 1000\n",
    "    batteryKM = 300\n",
    "\n",
    "k9 = Car()\n",
    "k3 = Hybrid()\n",
    "print(k9.maxpeople)\n",
    "print(dir(k9))\n",
    "\n",
    "print(k9)"
   ]
  },
  {
   "cell_type": "code",
   "execution_count": 60,
   "metadata": {},
   "outputs": [
    {
     "name": "stdout",
     "output_type": "stream",
     "text": [
      "7\n",
      "7\n"
     ]
    }
   ],
   "source": [
    "# 중앙값 구하기\n",
    "array = [1, 2, 7, 10, 11]\n",
    "\n",
    "# 리스트를 실제로 정렬\n",
    "array.sort()\n",
    "print(array[len(array)//2])\n",
    "\n",
    "\n",
    "array = [1, 2, 7, 10, 11]\n",
    "# 정렬된 리스트를 반환\n",
    "print(sorted(array)[len(array)//2])"
   ]
  },
  {
   "cell_type": "code",
   "execution_count": 61,
   "metadata": {},
   "outputs": [
    {
     "name": "stdout",
     "output_type": "stream",
     "text": [
      "3\n"
     ]
    }
   ],
   "source": [
    "# 최빈값 구하기\n",
    "# 카운팅용 배열을 만든다\n",
    "\n",
    "def solution(array):\n",
    "    countArr = [0] * (1000+1)\n",
    "    \n",
    "    for i in array :\n",
    "        countArr[i] += 1\n",
    "    \n",
    "    maxCount = max(countArr)\n",
    "    maxNum = -1\n",
    "\n",
    "\n",
    "# enumerate를 사용하여 인덱스와 값을 한번에 사용\n",
    "    for i, count in enumerate(countArr):\n",
    "        if count == maxCount:\n",
    "            if maxNum == -1:\n",
    "                maxNum = i\n",
    "            else:\n",
    "                # 두 번째 최빈값을 찾으면 -1을 반환합니다.\n",
    "                return -1\n",
    "    return maxNum\n",
    "\n",
    "print(solution([1, 2, 3, 3, 3, 4]))"
   ]
  },
  {
   "cell_type": "code",
   "execution_count": 62,
   "metadata": {},
   "outputs": [],
   "source": [
    "# n 이하의 홀수 배열을 리턴하는 함수\n",
    "# for문과 if문을 한 줄에 사용\n",
    "\n",
    "def solution(n):\n",
    "    return [x for x in range(n + 1) if x % 2]"
   ]
  },
  {
   "cell_type": "code",
   "execution_count": 63,
   "metadata": {},
   "outputs": [],
   "source": [
    "# 피자 7조각 나눠먹기 1~7명->1판, 8~14->2판\n",
    "\n",
    "\n",
    "\n",
    "def solution(n):\n",
    "    return (n - 1) // 7 + 1\n",
    "\n",
    "def solution2(n):\n",
    "    return n//7+1 if n%7 != 0 else n //7"
   ]
  },
  {
   "cell_type": "code",
   "execution_count": 64,
   "metadata": {},
   "outputs": [
    {
     "name": "stdout",
     "output_type": "stream",
     "text": [
      "[5, 4, 3, 2, 1]\n"
     ]
    }
   ],
   "source": [
    "num_list = [1, 2, 3, 4, 5]\n",
    "\n",
    "num_list.reverse()\n",
    "print(num_list)"
   ]
  },
  {
   "cell_type": "code",
   "execution_count": 65,
   "metadata": {},
   "outputs": [
    {
     "name": "stdout",
     "output_type": "stream",
     "text": [
      "97\n",
      "a\n"
     ]
    }
   ],
   "source": [
    "# 파이썬에서 아스키코드 다루기\n",
    "# print(int('a'))\n",
    "\n",
    "\n",
    "print(ord('a'))\n",
    "print(chr(97))\n",
    "\n",
    "\n",
    "\n",
    "#PG 외계행성의 나이\n",
    "# a는 0, b는 1, c는 2, ..., j는 9입니다. \n",
    "# 예를 들어 23살은 cd, 51살은 fb로 표현합니다.\n",
    "def solution(age):\n",
    "    \n",
    "    answer = ''\n",
    "    \n",
    "    for i in str(age) :\n",
    "        answer += chr(int(i) + 97)\n",
    "    \n",
    "    return answer"
   ]
  },
  {
   "cell_type": "code",
   "execution_count": 66,
   "metadata": {},
   "outputs": [
    {
     "name": "stdout",
     "output_type": "stream",
     "text": [
      "[2, 4, 3, 5, 1]\n"
     ]
    }
   ],
   "source": [
    "def solution(emergency):\n",
    "    answer = []\n",
    "\n",
    "\n",
    "    sortarr = emergency.copy()\n",
    "    sortarr.sort(reverse=True)\n",
    "\n",
    "    for i in emergency :\n",
    "        answer.append(sortarr.index(i)+1)\n",
    "\n",
    "\n",
    "    return answer\n",
    "\n",
    "\n",
    "print(solution([30, 10, 23, 6, 100]))"
   ]
  },
  {
   "cell_type": "code",
   "execution_count": 67,
   "metadata": {},
   "outputs": [
    {
     "data": {
      "text/plain": [
       "[93, 30, 55, 1, 30, 5]"
      ]
     },
     "execution_count": 67,
     "metadata": {},
     "output_type": "execute_result"
    }
   ],
   "source": [
    "[93, 30, 55] +\t[1, 30, 5]"
   ]
  },
  {
   "cell_type": "code",
   "execution_count": 68,
   "metadata": {},
   "outputs": [
    {
     "name": "stdout",
     "output_type": "stream",
     "text": [
      "이\n",
      "9\n",
      "8\n",
      "7\n",
      "6\n",
      "5\n",
      "4\n"
     ]
    }
   ],
   "source": [
    "from collections import deque\n",
    "\n",
    "dq = deque('love')\n",
    "\n",
    "dq.popleft()\n",
    "\n",
    "\n",
    "dq2 = deque(['이','것','도','되','나'])\n",
    "\n",
    "dq2.extend([i for i in range(10)])\n",
    "\n",
    "print(dq2.popleft())\n",
    "\n",
    "print(dq2.pop())\n",
    "print(dq2.pop())\n",
    "print(dq2.pop())\n",
    "print(dq2.pop())\n",
    "print(dq2.pop())\n",
    "print(dq2.pop())"
   ]
  },
  {
   "cell_type": "code",
   "execution_count": 69,
   "metadata": {},
   "outputs": [],
   "source": [
    "# PG 스택/큐 프로세스\n",
    "\n",
    "# 내 풀이\n",
    "def solution(priorities, location):\n",
    "    \n",
    "    count = 0\n",
    "    while True :\n",
    "        pick = priorities.pop(0)\n",
    "        if(len(priorities) == 0) :\n",
    "            return count+1\n",
    "        if(pick >= max(priorities)) :\n",
    "            location -= 1\n",
    "            count += 1\n",
    "            if(location < 0) :\n",
    "                return count\n",
    "        else :\n",
    "            priorities.append(pick)\n",
    "            location -= 1\n",
    "            if(location < 0) :\n",
    "                location = len(priorities) - 1\n",
    "    \n",
    "\n",
    "def solution(priorities, location):\n",
    "    queue =  [(i,p) for i,p in enumerate(priorities)] # 인덱스와 함께 새로운 큐의 생성 \n",
    "    answer = 0\n",
    "    while True:\n",
    "        cur = queue.pop(0)\n",
    "        if any(cur[1] < q[1] for q in queue):\n",
    "            queue.append(cur)\n",
    "        else:\n",
    "            answer += 1\n",
    "            if cur[0] == location:\n",
    "                return answer\n",
    "            \n",
    "\n"
   ]
  },
  {
   "cell_type": "code",
   "execution_count": 70,
   "metadata": {},
   "outputs": [],
   "source": [
    "# PG 스택/큐 다리를지나는 트럭\n",
    "\n",
    "from collections import deque\n",
    "def solution(bridge_length, weight, truck_weights):\n",
    "    time = 0\n",
    "    bridgesum = 0\n",
    "    \n",
    "    # bridge = deque()\n",
    "    # for i in range(bridge_length) :\n",
    "    #     bridge.append(0)\n",
    "\n",
    "    bridge = deque([0] * bridge_length) # for문 보다 바로 넣기\n",
    "    \n",
    "    \n",
    "    # while len(bridge) > 0 :\n",
    "    while bridge : # 리스트가 비어있다면 false\n",
    "        \n",
    "        bridgesum -= bridge.popleft()\n",
    "        \n",
    "        # if(len(truck_weights) > 0) :\n",
    "        if truck_weights : # 리스트가 비어있다면 false\n",
    "            newtruck = truck_weights[0]\n",
    "            if(bridgesum + newtruck <= weight) :\n",
    "                bridge.append(truck_weights.pop(0))\n",
    "                bridgesum += newtruck\n",
    "            else :\n",
    "                bridge.append(0)\n",
    "        \n",
    "        time += 1\n",
    "    \n",
    "    \n",
    "    return time"
   ]
  },
  {
   "cell_type": "code",
   "execution_count": 71,
   "metadata": {},
   "outputs": [
    {
     "name": "stdout",
     "output_type": "stream",
     "text": [
      "3\n",
      "2\n",
      "1\n"
     ]
    }
   ],
   "source": [
    "l = ['1', '2', '3']\n",
    "\n",
    "while l :\n",
    "    print(l.pop()) \n",
    "\n",
    "\n"
   ]
  },
  {
   "cell_type": "code",
   "execution_count": 72,
   "metadata": {},
   "outputs": [
    {
     "name": "stdout",
     "output_type": "stream",
     "text": [
      "2\n"
     ]
    }
   ],
   "source": [
    "# pg 타겟넘버\n",
    "# numbers = [4, 1, 2, 1]\ttarget = 4\treturn = 2\n",
    "\n",
    "def solution(numbers, target):\n",
    "    def dfs(index=0, current_sum=0):\n",
    "        # 기저 조건: 모든 숫자를 확인했을 때, target과 일치하는지 확인\n",
    "        if index == len(numbers):\n",
    "            return 1 if current_sum == target else 0\n",
    "        \n",
    "        # 현재 숫자를 더하거나 빼면서 다음 단계로 진행\n",
    "        return (\n",
    "            dfs(index + 1, current_sum + numbers[index]) + \n",
    "            dfs(index + 1, current_sum - numbers[index])\n",
    "        )\n",
    "\n",
    "    # DFS 시작\n",
    "    return dfs()\n",
    "\n",
    "# 함수 호출\n",
    "print(solution([4, 1, 2, 1], 4))\n"
   ]
  },
  {
   "cell_type": "code",
   "execution_count": 73,
   "metadata": {},
   "outputs": [
    {
     "name": "stdout",
     "output_type": "stream",
     "text": [
      "7\n",
      "42\n",
      "4.0\n",
      "3.141592653589793\n",
      "2.718281828459045\n",
      "1.0\n",
      "6.123233995736766e-17\n",
      "0.9999999999999999\n",
      "1.0\n",
      "0.30102999566398114\n",
      "0.6931471805599453\n",
      "120\n",
      "8.0\n",
      "7.38905609893065\n",
      "3\n",
      "2\n",
      "2\n",
      "(0.8999999999999999, 2.0)\n",
      "-2.0\n",
      "3.0\n",
      "10\n",
      "20\n"
     ]
    }
   ],
   "source": [
    "# math 라이브러리\n",
    "import math\n",
    "\n",
    "print(math.gcd(21, 14)) # 최대공약수\n",
    "print(math.lcm(21, 14)) # 최소공배수\n",
    "print(math.sqrt(16)) # 제곱근\n",
    "print(math.pi) # 원주율\n",
    "print(math.e) # 자연상수\n",
    "print(math.sin(math.pi/2)) # 사인\n",
    "print(math.cos(math.pi/2)) # 코사인\n",
    "print(math.tan(math.pi/4)) # 탄젠트\n",
    "print(math.log(2, 2)) # 로그\n",
    "print(math.log(2, 10)) # 상용로그\n",
    "print(math.log(2, math.e)) # 자연로그\n",
    "print(math.factorial(5)) # 팩토리얼\n",
    "print(math.pow(2, 3)) # 거듭제곱\n",
    "print(math.exp(2)) # 지수함수\n",
    "print(math.ceil(2.1)) # 올림\n",
    "print(math.floor(2.9)) # 내림\n",
    "print(math.trunc(2.9)) # 버림\n",
    "print(math.modf(2.9)) # 정수부분과 소수부분을 튜플로 반환\n",
    "print(math.copysign(2, -3)) # 부호를 복사\n",
    "print(math.fabs(-3)) # 절대값\n",
    "print(math.comb(5, 2)) # 조합\n",
    "print(math.perm(5, 2)) # 순열"
   ]
  },
  {
   "cell_type": "code",
   "execution_count": 74,
   "metadata": {},
   "outputs": [
    {
     "name": "stdout",
     "output_type": "stream",
     "text": [
      "[[1, 2], [3, 4], [5, 6], [7, 8]]\n"
     ]
    }
   ],
   "source": [
    "def solution(num_list, n):\n",
    "    answer = []\n",
    "    \n",
    "    for i, num in enumerate(num_list) :\n",
    "        if(i%n == 0) :\n",
    "            answer.append([num])\n",
    "        else:\n",
    "            answer[i//n].append(num)\n",
    "    return answer\n",
    "\n",
    "print(solution([1, 2, 3, 4, 5, 6, 7, 8], 2))\n",
    "\n",
    "def solution2(num_list, n):\n",
    "    answer = []\n",
    "    for i in range(0, len(num_list), n):\n",
    "        answer.append(num_list[i:i+n])\n",
    "    return answer"
   ]
  },
  {
   "cell_type": "code",
   "execution_count": 75,
   "metadata": {},
   "outputs": [
    {
     "name": "stdout",
     "output_type": "stream",
     "text": [
      "3\n",
      "nic to mt you\n",
      "isdigit\n"
     ]
    }
   ],
   "source": [
    "a = ['a', 'e', 'i', 'o', 'u']\n",
    "\n",
    "b = \"nice to meet you\"\n",
    "\n",
    "\n",
    "print(b.index('e'))\n",
    "\n",
    "print(b.replace('e', ''))\n",
    "\n",
    "arr =  [\"1\",\"2\",\"3\",\"4\",\"5\",\"6\",\"7\",\"8\",\"9\",\"0\"]\n",
    "\n",
    "if arr[0].isdigit(): # 숫자인지 체크\n",
    "    print('isdigit')\n"
   ]
  },
  {
   "cell_type": "code",
   "execution_count": 76,
   "metadata": {},
   "outputs": [
    {
     "name": "stdout",
     "output_type": "stream",
     "text": [
      "1\n"
     ]
    }
   ],
   "source": [
    "def solution(n, computers):\n",
    "    answer = 0\n",
    "    \n",
    "    visited = [0] * n\n",
    "    \n",
    "    \n",
    "    def dfs(current):\n",
    "        visited[current] = 1\n",
    "        for i, connection in enumerate(computers[current]):\n",
    "            if connection == 1 and visited[i] == 0:\n",
    "                dfs(i)\n",
    "        \n",
    "    \n",
    "    for j in range(n) :\n",
    "        if(visited[j] == 0):\n",
    "            dfs(j)\n",
    "            answer += 1\n",
    "        \n",
    "        \n",
    "        \n",
    "    return answer\n",
    "print(solution(\t3, [[1, 1, 0], [1, 1, 1], [0, 1, 1]]))"
   ]
  },
  {
   "cell_type": "code",
   "execution_count": 77,
   "metadata": {},
   "outputs": [
    {
     "name": "stdout",
     "output_type": "stream",
     "text": [
      "hlelo\n",
      "hlelo\n"
     ]
    }
   ],
   "source": [
    "def solution(my_string, num1, num2):\n",
    "    answer = ''\n",
    "    \n",
    "    arr = list(my_string)\n",
    "    \n",
    "    length = len(arr)\n",
    "\n",
    "    for i in range(length) :\n",
    "        if i == num1:\n",
    "            answer += arr[num2]\n",
    "        elif i == num2:\n",
    "            answer += arr[num1]\n",
    "        else :\n",
    "            answer += arr[i]\n",
    "            \n",
    "        \n",
    "    \n",
    "    \n",
    "    return answer\n",
    "\n",
    "\n",
    "print(solution(\"hello\", 1, 2))\n",
    "\n",
    "\n",
    "def solution2(my_string, num1, num2):\n",
    "    s = list(my_string)\n",
    "    s[num1],s[num2] = s[num2],s[num1]\n",
    "    return ''.join(s)\n",
    "\n",
    "print(solution2(\"hello\", 1, 2))\n"
   ]
  },
  {
   "cell_type": "code",
   "execution_count": 78,
   "metadata": {},
   "outputs": [],
   "source": [
    "# PG 단어변환\n",
    "# 내 풀이\n",
    "from collections import deque\n",
    "def solution(begin, target, words):\n",
    "    answer = 0\n",
    "    \n",
    "    begins = []\n",
    "    \n",
    "    \n",
    "    def isTransable(b,t):\n",
    "        value = 0\n",
    "        for i in range(len(b)):\n",
    "            if b[i] != t[i]:\n",
    "                value += 1\n",
    "            if value > 1 :\n",
    "                return False\n",
    "        if value == 1 :\n",
    "            return True\n",
    "        else :\n",
    "            return False\n",
    "    \n",
    "    if words.count(target) == 0 :\n",
    "        return 0\n",
    "    else :\n",
    "        targetIndex = words.index(target)\n",
    "    \n",
    "    for i, word in enumerate(words) :\n",
    "        if isTransable(begin, word) :\n",
    "            begins.append(i)\n",
    "    \n",
    "    if len(begins) == 0:\n",
    "        return 0\n",
    "    \n",
    "    def bfs(start) :\n",
    "        q = deque()\n",
    "        visited = []\n",
    "        distance = {}\n",
    "        \n",
    "        q.append(start)\n",
    "        visited.append(start)\n",
    "        distance[start] = 1\n",
    "        \n",
    "        \n",
    "        while q :\n",
    "            current = q.popleft()\n",
    "            if(current == targetIndex) :\n",
    "                return distance[current]\n",
    "            \n",
    "            for i,t in enumerate(words):\n",
    "                if i not in visited:\n",
    "                    if isTransable(t, words[current]) :\n",
    "                        visited.append(i)\n",
    "                        q.append(i)\n",
    "                        distance[i] = distance[current] + 1\n",
    "    \n",
    "    for go in begins:\n",
    "        answer = max(answer, bfs(go))\n",
    "\n",
    "    \n",
    "    return answer\n"
   ]
  },
  {
   "cell_type": "code",
   "execution_count": 79,
   "metadata": {},
   "outputs": [],
   "source": [
    "# 다른 풀이\n",
    "# yield와 zip\n",
    "# 위 풀이에서는 여러시작점을 고려했지만 결국 시작지점은 begin으로부터 시작하여 \n",
    "# 하나의 단어가 다른 지점이기 때문에 이문제에서는 굳이 위 처럼 고려할 필요가 없다\n",
    "\n",
    "from collections import deque\n",
    "\n",
    "\n",
    "def get_adjacent(current, words):\n",
    "    for word in words:\n",
    "        if len(current) != len(word):\n",
    "            continue\n",
    "\n",
    "        count = 0\n",
    "        for c, w in zip(current, word):\n",
    "            if c != w:\n",
    "                count += 1\n",
    "\n",
    "        if count == 1:\n",
    "            yield word\n",
    "\n",
    "\n",
    "def solution(begin, target, words):\n",
    "    dist = {begin: 0}\n",
    "    queue = deque([begin])\n",
    "\n",
    "    while queue:\n",
    "        current = queue.popleft()\n",
    "\n",
    "        for next_word in get_adjacent(current, words):\n",
    "            if next_word not in dist:\n",
    "                dist[next_word] = dist[current] + 1\n",
    "                queue.append(next_word)\n",
    "\n",
    "    return dist.get(target, 0)\n"
   ]
  },
  {
   "cell_type": "code",
   "execution_count": 80,
   "metadata": {},
   "outputs": [],
   "source": [
    "completion = [\"marina\", \"josipa\", \"nikola\", \"vinko\", \"filipa\"]\n",
    "\n",
    "dic = {i:True for i in completion}\n",
    "\n",
    "\n",
    "# counter \n",
    "from collections import Counter\n",
    "def solution(participant, completion):\n",
    "    answer = ''\n",
    "    dict_result=Counter(participant)-Counter(completion)\n",
    "    return list(dict_result.keys())[0]   "
   ]
  },
  {
   "cell_type": "code",
   "execution_count": 81,
   "metadata": {},
   "outputs": [
    {
     "name": "stdout",
     "output_type": "stream",
     "text": [
      "False\n"
     ]
    }
   ],
   "source": [
    "def solution(phone_book):\n",
    "    dic = {i:False for i in phone_book}\n",
    "    \n",
    "    for i in phone_book :\n",
    "        start = \"\"\n",
    "        for j in range(len(i) - 1):\n",
    "            start += i[j]\n",
    "            if(dic.get(start, True)):\n",
    "                return False\n",
    "            \n",
    "    \n",
    "    return True\n",
    "\n",
    "print(solution(\t[\"123\", \"456\", \"789\"]))"
   ]
  },
  {
   "cell_type": "code",
   "execution_count": 82,
   "metadata": {},
   "outputs": [
    {
     "name": "stdout",
     "output_type": "stream",
     "text": [
      "{'headgear': 2, 'eyewear': 1}\n"
     ]
    },
    {
     "data": {
      "text/plain": [
       "0"
      ]
     },
     "execution_count": 82,
     "metadata": {},
     "output_type": "execute_result"
    }
   ],
   "source": [
    "def solution(clothes):\n",
    "    answer = 0\n",
    "    \n",
    "    dic = {}\n",
    "    \n",
    "    for i, j in clothes :\n",
    "        if not j in dic:\n",
    "            dic[j] = 1\n",
    "        else:\n",
    "            dic[j] = dic[j] + 1\n",
    "    \n",
    "    print(dic)\n",
    "    return answer\n",
    "\n",
    "solution([[\"yellow_hat\", \"headgear\"], [\"blue_sunglasses\", \"eyewear\"], [\"green_turban\", \"headgear\"]])"
   ]
  },
  {
   "cell_type": "code",
   "execution_count": 83,
   "metadata": {},
   "outputs": [
    {
     "name": "stdout",
     "output_type": "stream",
     "text": [
      "[]\n"
     ]
    }
   ],
   "source": [
    "def solution(genres, plays):\n",
    "    answer = []\n",
    "    return answer\n",
    "\n",
    "\n",
    "print(solution([\"classic\", \"pop\", \"classic\", \"classic\", \"pop\"],[500, 600, 150, 800, 2500]))"
   ]
  },
  {
   "cell_type": "code",
   "execution_count": 84,
   "metadata": {},
   "outputs": [
    {
     "name": "stdout",
     "output_type": "stream",
     "text": [
      "11\n"
     ]
    }
   ],
   "source": [
    "from collections import deque\n",
    "def solution(maps):\n",
    "    answer = 0\n",
    "    start = (0,0)\n",
    "    dx = [1,-1,0,0]\n",
    "    dy = [0,0,1,-1]\n",
    "    \n",
    "    visited = set()\n",
    "\n",
    "    q = deque()\n",
    "\n",
    "    width = len(maps[0]) #이게 \n",
    "    height = len(maps)\n",
    "\n",
    "    distances = {start: 1}\n",
    "\n",
    "\n",
    "    def bfs():\n",
    "        \n",
    "        q.append(start)\n",
    "        visited.add(start)\n",
    "\n",
    "        while q:\n",
    "            current = q.popleft()\n",
    "\n",
    "            x = current[0]\n",
    "            y = current[1]\n",
    "\n",
    "            # 탈출조건으로 가지치기\n",
    "            if (x, y) == (height - 1, width - 1):\n",
    "                return distances[(x, y)]\n",
    "            \n",
    "            for i in range(4):\n",
    "                #if not(current[0] + dx[i] >= width or current[0] + dx[i] <= 0 or current[i] + dy[1] >= height or current[1] + dy[i] <= 0 ):\n",
    "                # if문마다 값 찾지말고 미리 선언하기\n",
    "                \n",
    "                nx = x + dx[i]\n",
    "                ny = y + dy[i]\n",
    "\n",
    "                # if 0 <= current[0] + dx[i] < height and 0 <= current[1] + dy[i] < width:\n",
    "                #     if(maps[current[0]+dx[i]][current[1]+dy[i]] == 1):\n",
    "                #         if not (current[0]+dx[i], current[1]+dy[i]) in visited:\n",
    "                #             visited.add((current[0]+dx[i], current[1]+dy[i]))\n",
    "                #             q.append((current[0]+dx[i], current[1]+dy[i]))\n",
    "                #             distances[(current[0]+dx[i], current[1]+dy[i])] = distances.get(current) + 1\n",
    "                \n",
    "                if(0 <= nx < height and 0 <= ny < width):\n",
    "                    if(maps[nx][ny] == 1) and (not (nx,ny) in visited):\n",
    "                        visited.add((nx,ny))\n",
    "                        q.append((nx,ny))\n",
    "                        distances[(nx,ny)] = distances.get(current)+1\n",
    "                \n",
    "        return -1\n",
    "    \n",
    "    return bfs()\n",
    "\n",
    "    \n",
    "\n",
    "\n",
    "print(solution([[1,0,1,1,1],[1,0,1,0,1],[1,0,1,1,1],[1,1,1,0,1],[0,0,0,0,1]])) #11"
   ]
  },
  {
   "cell_type": "code",
   "execution_count": 85,
   "metadata": {},
   "outputs": [
    {
     "name": "stdout",
     "output_type": "stream",
     "text": [
      "4\n",
      "3\n",
      "2\n"
     ]
    }
   ],
   "source": [
    "# 세로가 x좌표, 가로가 y좌표라고 생각하기\n",
    "# 1,1 방향은 오른쪽 아래\n",
    "\n",
    "arr = [[1,2,3,4],\n",
    "       [5,6,7,8],\n",
    "       [9,1,1,12]]\n",
    "\n",
    "width = len(arr[0]) # y 좌표\n",
    "height = len(arr) # x 좌표\n",
    "\n",
    "print(width)\n",
    "print(height)\n",
    "\n",
    "print(arr[0][1])"
   ]
  },
  {
   "cell_type": "code",
   "execution_count": 86,
   "metadata": {},
   "outputs": [
    {
     "name": "stdout",
     "output_type": "stream",
     "text": [
      "d\n",
      "d\n"
     ]
    }
   ],
   "source": [
    "def solution(s):\n",
    "    answer = ''\n",
    "    \n",
    "    dic = {}\n",
    "\n",
    "    arr = []\n",
    "    \n",
    "    for i in s :\n",
    "        if dic.get(i) == None:\n",
    "            dic[i] = 1\n",
    "        else :\n",
    "            dic[i] = dic[i] + 1\n",
    "        \n",
    "    for i in dic.keys():\n",
    "        if dic[i] == 1:\n",
    "            arr.append(i)\n",
    "    \n",
    "    arr.sort()\n",
    "\n",
    "    for i in arr:\n",
    "        answer += i\n",
    "\n",
    "    return answer\n",
    "\n",
    "print(solution(\"abcabcadc\"))\n",
    "\n",
    "\n",
    "# tlqkf 이게 한줄로되네 어이가 없네\n",
    "def solution(s):\n",
    "    return \"\".join(sorted([ch for ch in s if s.count(ch) == 1]))\n",
    "\n",
    "\n",
    "print(solution(\"abcabcadc\"))"
   ]
  },
  {
   "cell_type": "code",
   "execution_count": 87,
   "metadata": {},
   "outputs": [
    {
     "name": "stdout",
     "output_type": "stream",
     "text": [
      "7\n"
     ]
    }
   ],
   "source": [
    "# String 계산식을 바로 계산\n",
    "def solution(my_string):\n",
    "    return eval(my_string)\n",
    "\n",
    "print(solution(\"3 + 4\"))"
   ]
  },
  {
   "cell_type": "code",
   "execution_count": 88,
   "metadata": {},
   "outputs": [
    {
     "name": "stdout",
     "output_type": "stream",
     "text": [
      "0\n"
     ]
    }
   ],
   "source": [
    "a ='asdf'\n",
    "b = 'addf'\n",
    "c = [1,2,3,4,5]\n",
    "\n",
    "print(c.count(8))"
   ]
  },
  {
   "cell_type": "code",
   "execution_count": 89,
   "metadata": {},
   "outputs": [
    {
     "ename": "TypeError",
     "evalue": "list indices must be integers or slices, not str",
     "output_type": "error",
     "traceback": [
      "\u001b[0;31m---------------------------------------------------------------------------\u001b[0m",
      "\u001b[0;31mTypeError\u001b[0m                                 Traceback (most recent call last)",
      "Cell \u001b[0;32mIn[89], line 61\u001b[0m\n\u001b[1;32m     55\u001b[0m         answer \u001b[38;5;241m=\u001b[39m \u001b[38;5;28mmax\u001b[39m(answer, bfs(go))\n\u001b[1;32m     58\u001b[0m     \u001b[38;5;28;01mreturn\u001b[39;00m answer\n\u001b[0;32m---> 61\u001b[0m \u001b[38;5;28mprint\u001b[39m(solution(\u001b[38;5;124m\"\u001b[39m\u001b[38;5;124mhit\u001b[39m\u001b[38;5;124m\"\u001b[39m, \u001b[38;5;124m\"\u001b[39m\u001b[38;5;124mcog\u001b[39m\u001b[38;5;124m\"\u001b[39m, [\u001b[38;5;124m\"\u001b[39m\u001b[38;5;124mhot\u001b[39m\u001b[38;5;124m\"\u001b[39m, \u001b[38;5;124m\"\u001b[39m\u001b[38;5;124mdot\u001b[39m\u001b[38;5;124m\"\u001b[39m, \u001b[38;5;124m\"\u001b[39m\u001b[38;5;124mdog\u001b[39m\u001b[38;5;124m\"\u001b[39m, \u001b[38;5;124m\"\u001b[39m\u001b[38;5;124mlot\u001b[39m\u001b[38;5;124m\"\u001b[39m, \u001b[38;5;124m\"\u001b[39m\u001b[38;5;124mlog\u001b[39m\u001b[38;5;124m\"\u001b[39m, \u001b[38;5;124m\"\u001b[39m\u001b[38;5;124mcog\u001b[39m\u001b[38;5;124m\"\u001b[39m]))\n",
      "Cell \u001b[0;32mIn[89], line 55\u001b[0m, in \u001b[0;36msolution\u001b[0;34m(begin, target, words)\u001b[0m\n\u001b[1;32m     52\u001b[0m                     distance[i] \u001b[38;5;241m=\u001b[39m distance[current] \u001b[38;5;241m+\u001b[39m \u001b[38;5;241m1\u001b[39m\n\u001b[1;32m     54\u001b[0m \u001b[38;5;28;01mfor\u001b[39;00m go \u001b[38;5;129;01min\u001b[39;00m begins:\n\u001b[0;32m---> 55\u001b[0m     answer \u001b[38;5;241m=\u001b[39m \u001b[38;5;28mmax\u001b[39m(answer, bfs(go))\n\u001b[1;32m     58\u001b[0m \u001b[38;5;28;01mreturn\u001b[39;00m answer\n",
      "Cell \u001b[0;32mIn[89], line 49\u001b[0m, in \u001b[0;36msolution.<locals>.bfs\u001b[0;34m(start)\u001b[0m\n\u001b[1;32m     47\u001b[0m \u001b[38;5;28;01mfor\u001b[39;00m i,t \u001b[38;5;129;01min\u001b[39;00m \u001b[38;5;28menumerate\u001b[39m(words):\n\u001b[1;32m     48\u001b[0m     \u001b[38;5;28;01mif\u001b[39;00m i \u001b[38;5;129;01mnot\u001b[39;00m \u001b[38;5;129;01min\u001b[39;00m visited:\n\u001b[0;32m---> 49\u001b[0m         \u001b[38;5;28;01mif\u001b[39;00m isTransable(t, words[current]) :\n\u001b[1;32m     50\u001b[0m             visited\u001b[38;5;241m.\u001b[39mappend(t)\n\u001b[1;32m     51\u001b[0m             q\u001b[38;5;241m.\u001b[39mappend(t)\n",
      "\u001b[0;31mTypeError\u001b[0m: list indices must be integers or slices, not str"
     ]
    }
   ],
   "source": [
    "from collections import deque\n",
    "def solution(begin, target, words):\n",
    "    answer = 0\n",
    "    \n",
    "    begins = []\n",
    "    \n",
    "    \n",
    "    def isTransable(b,t):\n",
    "        value = 0\n",
    "        for i in range(len(b)):\n",
    "            if b[i] != t[i]:\n",
    "                value += 1\n",
    "            if value > 1 :\n",
    "                return False\n",
    "        if value == 1 :\n",
    "            return True\n",
    "        else :\n",
    "            return False\n",
    "    \n",
    "    if words.count(target) == 0 :\n",
    "        return 0\n",
    "    else :\n",
    "        targetIndex = words.index(target)\n",
    "    \n",
    "    for i, word in enumerate(words) :\n",
    "        if isTransable(begin, word) :\n",
    "            begins.append(i)\n",
    "    \n",
    "    if len(begins) == 0:\n",
    "        return 0\n",
    "    \n",
    "    def bfs(start) :\n",
    "        q = deque()\n",
    "        visited = []\n",
    "        distance = {}\n",
    "        \n",
    "        q.append(start)\n",
    "        visited.append(start)\n",
    "        distance[start] = 1\n",
    "        \n",
    "        \n",
    "        while q :\n",
    "            current = q.popleft()\n",
    "            if(current == targetIndex) :\n",
    "                return distance[current]\n",
    "            \n",
    "            for i,t in enumerate(words):\n",
    "                if i not in visited:\n",
    "                    if isTransable(t, words[current]) :\n",
    "                        visited.append(t)\n",
    "                        q.append(t)\n",
    "                        distance[i] = distance[current] + 1\n",
    "    \n",
    "    for go in begins:\n",
    "        answer = max(answer, bfs(go))\n",
    "\n",
    "    \n",
    "    return answer\n",
    "\n",
    "    \n",
    "print(solution(\"hit\", \"cog\", [\"hot\", \"dot\", \"dog\", \"lot\", \"log\", \"cog\"]))\n"
   ]
  },
  {
   "cell_type": "code",
   "execution_count": null,
   "metadata": {},
   "outputs": [
    {
     "name": "stdout",
     "output_type": "stream",
     "text": [
      "[4, 1, 3, 0]\n"
     ]
    }
   ],
   "source": [
    "# PG 베스트앨범\n",
    "# 딕셔너리에서 item을 통해 키와 값을 배열로 만들고\n",
    "# 배열의 키로 오름차순 정렬 할 경우 sorted(dic.items(), key= lambda x : x[0])\n",
    "# 배열의 값로 오름차순 정렬 할 경우 sorted(dic.items(), key= lambda x : x[1])\n",
    "# \n",
    "\n",
    "def solution(genres, plays):\n",
    "    answer = []\n",
    "\n",
    "    dic = {}\n",
    "    dic2 = {}\n",
    "\n",
    "\n",
    "    for i, genresName in enumerate(genres):\n",
    "        \n",
    "        if genresName not in dic.keys():\n",
    "            dic[genresName] = [(i,plays[i])]\n",
    "            dic2[genresName] = plays[i]\n",
    "        else:\n",
    "            dic[genresName].append((i,plays[i]))\n",
    "            dic2[genresName] += plays[i]\n",
    "\n",
    "    for i in dic.keys():\n",
    "        dic[i].sort(key = lambda x : -x[1])\n",
    "\n",
    "    for i in sorted(dic2.items(), key= lambda x : -x[1]):\n",
    "        answer.append(dic[i[0]][0][0])\n",
    "\n",
    "        if len(dic[i[0]]) > 1:\n",
    "            answer.append(dic[i[0]][1][0])\n",
    "    return answer\n",
    "\n",
    "print(solution([\"classic\", \"pop\", \"classic\", \"classic\", \"pop\"],[500, 600, 150, 800, 2500]))"
   ]
  },
  {
   "cell_type": "code",
   "execution_count": null,
   "metadata": {},
   "outputs": [
    {
     "name": "stdout",
     "output_type": "stream",
     "text": [
      "[5, 0, 0]\n",
      "[1, 2, 3]\n"
     ]
    }
   ],
   "source": [
    "def solution(answers):\n",
    "    answer = []\n",
    "    score = [0,0,0]\n",
    "    \n",
    "    one = '12345'\n",
    "    two = '21232425'\n",
    "    three = '3311224455'\n",
    "    \n",
    "    count = 0\n",
    "    \n",
    "    for ex in answers:\n",
    "        if ex == int(one[count % len(one)]):\n",
    "            score[0] +=1\n",
    "        count += 1\n",
    "    \n",
    "\n",
    "    count = 0\n",
    "    for ex in answers:\n",
    "        if ex == int(two[count % len(two)]):\n",
    "            score[1] +=1\n",
    "        count += 1\n",
    "    \n",
    "\n",
    "    count = 0\n",
    "    for ex in answers:\n",
    "        if ex == int(three[count % len(three)]):\n",
    "            score[2] +=1\n",
    "        count += 1\n",
    "    \n",
    "    \n",
    "    for i in range(3):\n",
    "        if max(score) == score[i]:\n",
    "            answer.append(i+1)\n",
    "    \n",
    "    return answer\n",
    "\n",
    "\n",
    "print(solution([1,2,3,4,5]))"
   ]
  },
  {
   "cell_type": "code",
   "execution_count": 4,
   "metadata": {},
   "outputs": [
    {
     "name": "stdout",
     "output_type": "stream",
     "text": [
      "[(1, 2), (1, 3), (2, 3)]\n",
      "[(1, 2), (1, 3), (2, 1), (2, 3), (3, 1), (3, 2)]\n",
      "[(1,), (2,), (3,)]\n",
      "[(1, 1), (1, 2), (1, 3), (2, 1), (2, 2), (2, 3), (3, 1), (3, 2), (3, 3)]\n"
     ]
    }
   ],
   "source": [
    "#PG 소수찾기\n",
    "from itertools import combinations, permutations, product\n",
    "arr = [1, 2, 3]\n",
    "\n",
    "# 조합\n",
    "print(list(combinations(arr, 2)))\n",
    "# [(1, 2), (1, 3), (2, 3)]\n",
    "\n",
    "# 순열\n",
    "print(list(permutations(arr, 2)))\n",
    "# [(1, 2), (1, 3), (2, 1), (2, 3), (3, 1), (3, 2)]\n",
    "\n",
    "# 중복순열\n",
    "print(list(product(arr, repeat=1)))\n",
    "# [(1,), (2,), (3,)]\n",
    "print(list(product(arr, repeat=2)))\n",
    "# [(1, 1), (1, 2), (1, 3), (2, 1), (2, 2), (2, 3), (3, 1), (3, 2), (3, 3)]\n",
    "\n",
    "from itertools import combinations, permutations\n",
    "import math\n",
    "def solution(numbers):\n",
    "    answer = 0\n",
    "    \n",
    "    numSet = set()\n",
    "\n",
    "    for i in range(len(numbers)):\n",
    "        for j in list(permutations(numbers, i+1)):\n",
    "            num = \"\"\n",
    "            for k in j:\n",
    "                num+=k\n",
    "            numSet.add(int(num))\n",
    "    \n",
    "    for i in numSet:\n",
    "        if is_prime_number(i):\n",
    "            answer +=1\n",
    "    print(numSet)\n",
    "    return answer\n",
    "\n",
    "def is_prime_number(x):\n",
    "    if x <= 1:\n",
    "        return False\n",
    "    for i in range(2, int(math.sqrt(x)) + 1):\n",
    "        if x % i == 0:\n",
    "            return False\n",
    "    return True\n",
    "\n",
    "\n",
    "# set에서 에라토스테네스의 체로 notPrime을 제거\n",
    "# set은 집합이다 |= 합집합연산, -=차집합연산\n",
    "from itertools import permutations\n",
    "def solution(n):\n",
    "    a = set()\n",
    "    for i in range(len(n)):\n",
    "        a |= set(map(int, map(\"\".join, permutations(list(n), i + 1))))\n",
    "    a -= set(range(0, 2))\n",
    "    for i in range(2, int(max(a) ** 0.5) + 1):\n",
    "        a -= set(range(i * 2, max(a) + 1, i))\n",
    "    return len(a)"
   ]
  },
  {
   "cell_type": "markdown",
   "metadata": {},
   "source": [
    "#### 집합 비교 연산자\n",
    "- == : 두 집합이 동일한지 여부를 확인합니다. 모든 요소가 동일하면 True를 반환합니다.\n",
    "- != : 두 집합이 다른지 여부를 확인합니다. 요소가 하나라도 다르면 True를 반환합니다.\n",
    "#### 집합 관계 연산자\n",
    "- < : 첫 번째 집합이 두 번째 집합의 진부분집합(subset)인지 확인합니다. 첫 번째 집합의 모든 요소가 두 번째 집합 내에 있으며, 두 번째 집합에는 첫 번째 집합에 없는 요소가 적어도 하나 이상 있어야 True를 반환합니다.\n",
    "- <= : 첫 번째 집합이 두 번째 집합의 부분집합(subset)인지 확인합니다. 첫 번째 집합의 모든 요소가 두 번째 집합 내에 있으면 True를 반환합니다.\n",
    "- \\> : 첫 번째 집합이 두 번째 집합의 진상위집합(superset)인지 확인합니다. 두 번째 집합의 모든 요소가 첫 번째 집합 내에 있으며, 첫 번째 집합에는 두 번째 집합에 없는 요소가 적어도 하나 이상 있어야 True를 반환합니다.\n",
    "- \\>= : 첫 번째 집합이 두 번째 집합의 상위집합(superset)인지 확인합니다. 두 번째 집합의 모든 요소가 첫 번째 집합 내에 있으면 True를 반환합니다.\n",
    "#### 집합 산술 연산자\n",
    "- | : 두 집합의 합집합을 반환합니다. 두 집합에 속하는 모든 고유 요소를 포함하는 새 집합을 생성합니다.\n",
    "- & : 두 집합의 교집합을 반환합니다. 두 집합 모두에 속하는 요소만을 포함하는 새 집합을 생성합니다.\n",
    "- \\- : 두 집합의 차집합을 반환합니다. 첫 번째 집합에서 두 번째 집합에 속하는 요소를 제거한 새 집합을 생성합니다.\n",
    "- ^ : 두 집합의 대칭 차집합(symmetric difference)을 반환합니다. 두 집합 중 하나에만 속하는 요소들을 포함하는 새 집합을 생성합니다. 이는 두 집합의 합집합에서 교집합을 제외한 것과 같습니다.\n",
    "집합 연산자를 사용하면 데이터를 효율적으로 처리하고, 다양한 집합 기반 연산을 쉽게 수행할 수 있습니다."
   ]
  },
  {
   "cell_type": "markdown",
   "metadata": {},
   "source": [
    "**에라토스테네스의 체(Sieve of Eratosthenes)는 주어진 범위 내에서 모든 소수를 찾는 데 사용되는 알고리즘입니다.** 기본 아이디어는 2부터 시작하여, 어떤 수의 배수들을 차례대로 제거해 나가는 것입니다. 이 때, 제거되지 않고 남은 수들은 모두 소수가 됩니다.\n",
    "\n",
    "#### 에라토스테네스의 체를 파이썬으로 구현하는 방법은 다음과 같습니다:\n",
    "1. 초기화: 처음에는 모든 숫자를 소수로 간주합니다. 이를 위해 True 값으로 초기화된 리스트를 생성합니다.\n",
    "2. 소수의 배수 제거: 2부터 시작하여, 각 숫자의 배수들을 리스트에서 False로 설정하여 제거합니다. 이미 False로 설정된 숫자는 건너뜁니다.\n",
    "3. 소수 추출: 최종적으로 True로 남은 인덱스의 숫자들이 소수입니다.\n",
    "\n",
    "이 코드는 입력된 n까지의 모든 소수를 찾아서 리스트 형태로 반환합니다. 에라토스테네스의 체를 사용하면 특히 큰 범위 내에서 소수를 효율적으로 찾을 수 있으며, 이 알고리즘의 시간 복잡도는 대략 O(nloglogn)입니다."
   ]
  },
  {
   "cell_type": "code",
   "execution_count": null,
   "metadata": {},
   "outputs": [
    {
     "name": "stdout",
     "output_type": "stream",
     "text": [
      "[2, 3, 5, 7, 11, 13, 17, 19, 23, 29]\n"
     ]
    }
   ],
   "source": [
    "def sieve_of_eratosthenes(n):\n",
    "    # 초기화: 처음에는 모든 수를 소수로 간주합니다. 0과 1은 소수가 아니므로 False로 설정합니다.\n",
    "    prime = [False, False] + [True for _ in range(2, n+1)]\n",
    "    \n",
    "    # 2부터 n의 제곱근까지의 모든 수에 대해 반복\n",
    "    for i in range(2, int(n**0.5) + 1):\n",
    "        if prime[i]:  # i가 소수인 경우\n",
    "            # i의 배수들을 모두 제거합니다.\n",
    "            for j in range(i*i, n+1, i):\n",
    "                prime[j] = False\n",
    "                \n",
    "    # 소수 리스트를 생성합니다.\n",
    "    primes = [i for i in range(2, n+1) if prime[i]]\n",
    "    return primes\n",
    "\n",
    "# 예시: 30까지의 소수 찾기\n",
    "print(sieve_of_eratosthenes(30))\n"
   ]
  },
  {
   "cell_type": "code",
   "execution_count": 1,
   "metadata": {},
   "outputs": [],
   "source": [
    "from collections import deque\n",
    "\n",
    "def solution(n, wires):\n",
    "    answer = n\n",
    "    \n",
    "    def bfs(start, wires):\n",
    "        que = deque([start])\n",
    "        visited[start] = True\n",
    "        \n",
    "        towerCount = 1\n",
    "        \n",
    "        while que:\n",
    "            current = que.popleft()\n",
    "            \n",
    "            for wire in wires:\n",
    "                # 주어지는 와이어는 index가 1부터 시작하므로 1을 빼준다\n",
    "                if wire[0]-1 == current and visited[wire[1]-1] == False:\n",
    "                    visited[wire[1]-1] = True\n",
    "                    que.append(wire[1]-1)\n",
    "                    towerCount += 1\n",
    "                elif wire[1]-1 == current and visited[wire[0]-1] == False:\n",
    "                    visited[wire[0]-1] = True\n",
    "                    que.append(wire[0]-1)\n",
    "                    towerCount += 1\n",
    "            \n",
    "        return towerCount\n",
    "    \n",
    "    # 모든 전력망을 순회\n",
    "    for i in range(len(wires)):\n",
    "        # 전선중 하나가 잘린 상태의 전력망\n",
    "        cuttedWires = [value for index, value in enumerate(wires) if index != i]\n",
    "        cuttedWire = wires[i]\n",
    "        \n",
    "        # 전력망을 bfs로 순회하기 위한 방문 목록\n",
    "        visited = [False for _ in range(n)]\n",
    "        \n",
    "        # 자른 전선을 기준으로 한쪽을 순회하여 노드수를 구하고 송전탑 개수의 차이를 저장\n",
    "        result = abs(n - 2 * bfs(cuttedWire[0]-1,cuttedWires))\n",
    "        \n",
    "        # 송전탑 개수를 최대한 비슷하게 맞춤\n",
    "        if result < answer:\n",
    "            answer = result\n",
    "\n",
    "    return answer"
   ]
  },
  {
   "cell_type": "code",
   "execution_count": 6,
   "metadata": {},
   "outputs": [
    {
     "name": "stdout",
     "output_type": "stream",
     "text": [
      "['A', 'AA', 'AAA', 'AAAA', 'AAAAA', 'AAAAE', 'AAAAI', 'AAAAO', 'AAAAU', 'AAAE', 'AAAEA', 'AAAEE', 'AAAEI', 'AAAEO', 'AAAEU', 'AAAI', 'AAAIA', 'AAAIE', 'AAAII', 'AAAIO', 'AAAIU', 'AAAO', 'AAAOA', 'AAAOE', 'AAAOI', 'AAAOO', 'AAAOU', 'AAAU', 'AAAUA', 'AAAUE', 'AAAUI', 'AAAUO', 'AAAUU', 'AAE', 'AAEA', 'AAEAA', 'AAEAE', 'AAEAI', 'AAEAO', 'AAEAU', 'AAEE', 'AAEEA', 'AAEEE', 'AAEEI', 'AAEEO', 'AAEEU', 'AAEI', 'AAEIA', 'AAEIE', 'AAEII', 'AAEIO', 'AAEIU', 'AAEO', 'AAEOA', 'AAEOE', 'AAEOI', 'AAEOO', 'AAEOU', 'AAEU', 'AAEUA', 'AAEUE', 'AAEUI', 'AAEUO', 'AAEUU', 'AAI', 'AAIA', 'AAIAA', 'AAIAE', 'AAIAI', 'AAIAO', 'AAIAU', 'AAIE', 'AAIEA', 'AAIEE', 'AAIEI', 'AAIEO', 'AAIEU', 'AAII', 'AAIIA', 'AAIIE', 'AAIII', 'AAIIO', 'AAIIU', 'AAIO', 'AAIOA', 'AAIOE', 'AAIOI', 'AAIOO', 'AAIOU', 'AAIU', 'AAIUA', 'AAIUE', 'AAIUI', 'AAIUO', 'AAIUU', 'AAO', 'AAOA', 'AAOAA', 'AAOAE', 'AAOAI', 'AAOAO', 'AAOAU', 'AAOE', 'AAOEA', 'AAOEE', 'AAOEI', 'AAOEO', 'AAOEU', 'AAOI', 'AAOIA', 'AAOIE', 'AAOII', 'AAOIO', 'AAOIU', 'AAOO', 'AAOOA', 'AAOOE', 'AAOOI', 'AAOOO', 'AAOOU', 'AAOU', 'AAOUA', 'AAOUE', 'AAOUI', 'AAOUO', 'AAOUU', 'AAU', 'AAUA', 'AAUAA', 'AAUAE', 'AAUAI', 'AAUAO', 'AAUAU', 'AAUE', 'AAUEA', 'AAUEE', 'AAUEI', 'AAUEO', 'AAUEU', 'AAUI', 'AAUIA', 'AAUIE', 'AAUII', 'AAUIO', 'AAUIU', 'AAUO', 'AAUOA', 'AAUOE', 'AAUOI', 'AAUOO', 'AAUOU', 'AAUU', 'AAUUA', 'AAUUE', 'AAUUI', 'AAUUO', 'AAUUU', 'AE', 'AEA', 'AEAA', 'AEAAA', 'AEAAE', 'AEAAI', 'AEAAO', 'AEAAU', 'AEAE', 'AEAEA', 'AEAEE', 'AEAEI', 'AEAEO', 'AEAEU', 'AEAI', 'AEAIA', 'AEAIE', 'AEAII', 'AEAIO', 'AEAIU', 'AEAO', 'AEAOA', 'AEAOE', 'AEAOI', 'AEAOO', 'AEAOU', 'AEAU', 'AEAUA', 'AEAUE', 'AEAUI', 'AEAUO', 'AEAUU', 'AEE', 'AEEA', 'AEEAA', 'AEEAE', 'AEEAI', 'AEEAO', 'AEEAU', 'AEEE', 'AEEEA', 'AEEEE', 'AEEEI', 'AEEEO', 'AEEEU', 'AEEI', 'AEEIA', 'AEEIE', 'AEEII', 'AEEIO', 'AEEIU', 'AEEO', 'AEEOA', 'AEEOE', 'AEEOI', 'AEEOO', 'AEEOU', 'AEEU', 'AEEUA', 'AEEUE', 'AEEUI', 'AEEUO', 'AEEUU', 'AEI', 'AEIA', 'AEIAA', 'AEIAE', 'AEIAI', 'AEIAO', 'AEIAU', 'AEIE', 'AEIEA', 'AEIEE', 'AEIEI', 'AEIEO', 'AEIEU', 'AEII', 'AEIIA', 'AEIIE', 'AEIII', 'AEIIO', 'AEIIU', 'AEIO', 'AEIOA', 'AEIOE', 'AEIOI', 'AEIOO', 'AEIOU', 'AEIU', 'AEIUA', 'AEIUE', 'AEIUI', 'AEIUO', 'AEIUU', 'AEO', 'AEOA', 'AEOAA', 'AEOAE', 'AEOAI', 'AEOAO', 'AEOAU', 'AEOE', 'AEOEA', 'AEOEE', 'AEOEI', 'AEOEO', 'AEOEU', 'AEOI', 'AEOIA', 'AEOIE', 'AEOII', 'AEOIO', 'AEOIU', 'AEOO', 'AEOOA', 'AEOOE', 'AEOOI', 'AEOOO', 'AEOOU', 'AEOU', 'AEOUA', 'AEOUE', 'AEOUI', 'AEOUO', 'AEOUU', 'AEU', 'AEUA', 'AEUAA', 'AEUAE', 'AEUAI', 'AEUAO', 'AEUAU', 'AEUE', 'AEUEA', 'AEUEE', 'AEUEI', 'AEUEO', 'AEUEU', 'AEUI', 'AEUIA', 'AEUIE', 'AEUII', 'AEUIO', 'AEUIU', 'AEUO', 'AEUOA', 'AEUOE', 'AEUOI', 'AEUOO', 'AEUOU', 'AEUU', 'AEUUA', 'AEUUE', 'AEUUI', 'AEUUO', 'AEUUU', 'AI', 'AIA', 'AIAA', 'AIAAA', 'AIAAE', 'AIAAI', 'AIAAO', 'AIAAU', 'AIAE', 'AIAEA', 'AIAEE', 'AIAEI', 'AIAEO', 'AIAEU', 'AIAI', 'AIAIA', 'AIAIE', 'AIAII', 'AIAIO', 'AIAIU', 'AIAO', 'AIAOA', 'AIAOE', 'AIAOI', 'AIAOO', 'AIAOU', 'AIAU', 'AIAUA', 'AIAUE', 'AIAUI', 'AIAUO', 'AIAUU', 'AIE', 'AIEA', 'AIEAA', 'AIEAE', 'AIEAI', 'AIEAO', 'AIEAU', 'AIEE', 'AIEEA', 'AIEEE', 'AIEEI', 'AIEEO', 'AIEEU', 'AIEI', 'AIEIA', 'AIEIE', 'AIEII', 'AIEIO', 'AIEIU', 'AIEO', 'AIEOA', 'AIEOE', 'AIEOI', 'AIEOO', 'AIEOU', 'AIEU', 'AIEUA', 'AIEUE', 'AIEUI', 'AIEUO', 'AIEUU', 'AII', 'AIIA', 'AIIAA', 'AIIAE', 'AIIAI', 'AIIAO', 'AIIAU', 'AIIE', 'AIIEA', 'AIIEE', 'AIIEI', 'AIIEO', 'AIIEU', 'AIII', 'AIIIA', 'AIIIE', 'AIIII', 'AIIIO', 'AIIIU', 'AIIO', 'AIIOA', 'AIIOE', 'AIIOI', 'AIIOO', 'AIIOU', 'AIIU', 'AIIUA', 'AIIUE', 'AIIUI', 'AIIUO', 'AIIUU', 'AIO', 'AIOA', 'AIOAA', 'AIOAE', 'AIOAI', 'AIOAO', 'AIOAU', 'AIOE', 'AIOEA', 'AIOEE', 'AIOEI', 'AIOEO', 'AIOEU', 'AIOI', 'AIOIA', 'AIOIE', 'AIOII', 'AIOIO', 'AIOIU', 'AIOO', 'AIOOA', 'AIOOE', 'AIOOI', 'AIOOO', 'AIOOU', 'AIOU', 'AIOUA', 'AIOUE', 'AIOUI', 'AIOUO', 'AIOUU', 'AIU', 'AIUA', 'AIUAA', 'AIUAE', 'AIUAI', 'AIUAO', 'AIUAU', 'AIUE', 'AIUEA', 'AIUEE', 'AIUEI', 'AIUEO', 'AIUEU', 'AIUI', 'AIUIA', 'AIUIE', 'AIUII', 'AIUIO', 'AIUIU', 'AIUO', 'AIUOA', 'AIUOE', 'AIUOI', 'AIUOO', 'AIUOU', 'AIUU', 'AIUUA', 'AIUUE', 'AIUUI', 'AIUUO', 'AIUUU', 'AO', 'AOA', 'AOAA', 'AOAAA', 'AOAAE', 'AOAAI', 'AOAAO', 'AOAAU', 'AOAE', 'AOAEA', 'AOAEE', 'AOAEI', 'AOAEO', 'AOAEU', 'AOAI', 'AOAIA', 'AOAIE', 'AOAII', 'AOAIO', 'AOAIU', 'AOAO', 'AOAOA', 'AOAOE', 'AOAOI', 'AOAOO', 'AOAOU', 'AOAU', 'AOAUA', 'AOAUE', 'AOAUI', 'AOAUO', 'AOAUU', 'AOE', 'AOEA', 'AOEAA', 'AOEAE', 'AOEAI', 'AOEAO', 'AOEAU', 'AOEE', 'AOEEA', 'AOEEE', 'AOEEI', 'AOEEO', 'AOEEU', 'AOEI', 'AOEIA', 'AOEIE', 'AOEII', 'AOEIO', 'AOEIU', 'AOEO', 'AOEOA', 'AOEOE', 'AOEOI', 'AOEOO', 'AOEOU', 'AOEU', 'AOEUA', 'AOEUE', 'AOEUI', 'AOEUO', 'AOEUU', 'AOI', 'AOIA', 'AOIAA', 'AOIAE', 'AOIAI', 'AOIAO', 'AOIAU', 'AOIE', 'AOIEA', 'AOIEE', 'AOIEI', 'AOIEO', 'AOIEU', 'AOII', 'AOIIA', 'AOIIE', 'AOIII', 'AOIIO', 'AOIIU', 'AOIO', 'AOIOA', 'AOIOE', 'AOIOI', 'AOIOO', 'AOIOU', 'AOIU', 'AOIUA', 'AOIUE', 'AOIUI', 'AOIUO', 'AOIUU', 'AOO', 'AOOA', 'AOOAA', 'AOOAE', 'AOOAI', 'AOOAO', 'AOOAU', 'AOOE', 'AOOEA', 'AOOEE', 'AOOEI', 'AOOEO', 'AOOEU', 'AOOI', 'AOOIA', 'AOOIE', 'AOOII', 'AOOIO', 'AOOIU', 'AOOO', 'AOOOA', 'AOOOE', 'AOOOI', 'AOOOO', 'AOOOU', 'AOOU', 'AOOUA', 'AOOUE', 'AOOUI', 'AOOUO', 'AOOUU', 'AOU', 'AOUA', 'AOUAA', 'AOUAE', 'AOUAI', 'AOUAO', 'AOUAU', 'AOUE', 'AOUEA', 'AOUEE', 'AOUEI', 'AOUEO', 'AOUEU', 'AOUI', 'AOUIA', 'AOUIE', 'AOUII', 'AOUIO', 'AOUIU', 'AOUO', 'AOUOA', 'AOUOE', 'AOUOI', 'AOUOO', 'AOUOU', 'AOUU', 'AOUUA', 'AOUUE', 'AOUUI', 'AOUUO', 'AOUUU', 'AU', 'AUA', 'AUAA', 'AUAAA', 'AUAAE', 'AUAAI', 'AUAAO', 'AUAAU', 'AUAE', 'AUAEA', 'AUAEE', 'AUAEI', 'AUAEO', 'AUAEU', 'AUAI', 'AUAIA', 'AUAIE', 'AUAII', 'AUAIO', 'AUAIU', 'AUAO', 'AUAOA', 'AUAOE', 'AUAOI', 'AUAOO', 'AUAOU', 'AUAU', 'AUAUA', 'AUAUE', 'AUAUI', 'AUAUO', 'AUAUU', 'AUE', 'AUEA', 'AUEAA', 'AUEAE', 'AUEAI', 'AUEAO', 'AUEAU', 'AUEE', 'AUEEA', 'AUEEE', 'AUEEI', 'AUEEO', 'AUEEU', 'AUEI', 'AUEIA', 'AUEIE', 'AUEII', 'AUEIO', 'AUEIU', 'AUEO', 'AUEOA', 'AUEOE', 'AUEOI', 'AUEOO', 'AUEOU', 'AUEU', 'AUEUA', 'AUEUE', 'AUEUI', 'AUEUO', 'AUEUU', 'AUI', 'AUIA', 'AUIAA', 'AUIAE', 'AUIAI', 'AUIAO', 'AUIAU', 'AUIE', 'AUIEA', 'AUIEE', 'AUIEI', 'AUIEO', 'AUIEU', 'AUII', 'AUIIA', 'AUIIE', 'AUIII', 'AUIIO', 'AUIIU', 'AUIO', 'AUIOA', 'AUIOE', 'AUIOI', 'AUIOO', 'AUIOU', 'AUIU', 'AUIUA', 'AUIUE', 'AUIUI', 'AUIUO', 'AUIUU', 'AUO', 'AUOA', 'AUOAA', 'AUOAE', 'AUOAI', 'AUOAO', 'AUOAU', 'AUOE', 'AUOEA', 'AUOEE', 'AUOEI', 'AUOEO', 'AUOEU', 'AUOI', 'AUOIA', 'AUOIE', 'AUOII', 'AUOIO', 'AUOIU', 'AUOO', 'AUOOA', 'AUOOE', 'AUOOI', 'AUOOO', 'AUOOU', 'AUOU', 'AUOUA', 'AUOUE', 'AUOUI', 'AUOUO', 'AUOUU', 'AUU', 'AUUA', 'AUUAA', 'AUUAE', 'AUUAI', 'AUUAO', 'AUUAU', 'AUUE', 'AUUEA', 'AUUEE', 'AUUEI', 'AUUEO', 'AUUEU', 'AUUI', 'AUUIA', 'AUUIE', 'AUUII', 'AUUIO', 'AUUIU', 'AUUO', 'AUUOA', 'AUUOE', 'AUUOI', 'AUUOO', 'AUUOU', 'AUUU', 'AUUUA', 'AUUUE', 'AUUUI', 'AUUUO', 'AUUUU', 'E', 'EA', 'EAA', 'EAAA', 'EAAAA', 'EAAAE', 'EAAAI', 'EAAAO', 'EAAAU', 'EAAE', 'EAAEA', 'EAAEE', 'EAAEI', 'EAAEO', 'EAAEU', 'EAAI', 'EAAIA', 'EAAIE', 'EAAII', 'EAAIO', 'EAAIU', 'EAAO', 'EAAOA', 'EAAOE', 'EAAOI', 'EAAOO', 'EAAOU', 'EAAU', 'EAAUA', 'EAAUE', 'EAAUI', 'EAAUO', 'EAAUU', 'EAE', 'EAEA', 'EAEAA', 'EAEAE', 'EAEAI', 'EAEAO', 'EAEAU', 'EAEE', 'EAEEA', 'EAEEE', 'EAEEI', 'EAEEO', 'EAEEU', 'EAEI', 'EAEIA', 'EAEIE', 'EAEII', 'EAEIO', 'EAEIU', 'EAEO', 'EAEOA', 'EAEOE', 'EAEOI', 'EAEOO', 'EAEOU', 'EAEU', 'EAEUA', 'EAEUE', 'EAEUI', 'EAEUO', 'EAEUU', 'EAI', 'EAIA', 'EAIAA', 'EAIAE', 'EAIAI', 'EAIAO', 'EAIAU', 'EAIE', 'EAIEA', 'EAIEE', 'EAIEI', 'EAIEO', 'EAIEU', 'EAII', 'EAIIA', 'EAIIE', 'EAIII', 'EAIIO', 'EAIIU', 'EAIO', 'EAIOA', 'EAIOE', 'EAIOI', 'EAIOO', 'EAIOU', 'EAIU', 'EAIUA', 'EAIUE', 'EAIUI', 'EAIUO', 'EAIUU', 'EAO', 'EAOA', 'EAOAA', 'EAOAE', 'EAOAI', 'EAOAO', 'EAOAU', 'EAOE', 'EAOEA', 'EAOEE', 'EAOEI', 'EAOEO', 'EAOEU', 'EAOI', 'EAOIA', 'EAOIE', 'EAOII', 'EAOIO', 'EAOIU', 'EAOO', 'EAOOA', 'EAOOE', 'EAOOI', 'EAOOO', 'EAOOU', 'EAOU', 'EAOUA', 'EAOUE', 'EAOUI', 'EAOUO', 'EAOUU', 'EAU', 'EAUA', 'EAUAA', 'EAUAE', 'EAUAI', 'EAUAO', 'EAUAU', 'EAUE', 'EAUEA', 'EAUEE', 'EAUEI', 'EAUEO', 'EAUEU', 'EAUI', 'EAUIA', 'EAUIE', 'EAUII', 'EAUIO', 'EAUIU', 'EAUO', 'EAUOA', 'EAUOE', 'EAUOI', 'EAUOO', 'EAUOU', 'EAUU', 'EAUUA', 'EAUUE', 'EAUUI', 'EAUUO', 'EAUUU', 'EE', 'EEA', 'EEAA', 'EEAAA', 'EEAAE', 'EEAAI', 'EEAAO', 'EEAAU', 'EEAE', 'EEAEA', 'EEAEE', 'EEAEI', 'EEAEO', 'EEAEU', 'EEAI', 'EEAIA', 'EEAIE', 'EEAII', 'EEAIO', 'EEAIU', 'EEAO', 'EEAOA', 'EEAOE', 'EEAOI', 'EEAOO', 'EEAOU', 'EEAU', 'EEAUA', 'EEAUE', 'EEAUI', 'EEAUO', 'EEAUU', 'EEE', 'EEEA', 'EEEAA', 'EEEAE', 'EEEAI', 'EEEAO', 'EEEAU', 'EEEE', 'EEEEA', 'EEEEE', 'EEEEI', 'EEEEO', 'EEEEU', 'EEEI', 'EEEIA', 'EEEIE', 'EEEII', 'EEEIO', 'EEEIU', 'EEEO', 'EEEOA', 'EEEOE', 'EEEOI', 'EEEOO', 'EEEOU', 'EEEU', 'EEEUA', 'EEEUE', 'EEEUI', 'EEEUO', 'EEEUU', 'EEI', 'EEIA', 'EEIAA', 'EEIAE', 'EEIAI', 'EEIAO', 'EEIAU', 'EEIE', 'EEIEA', 'EEIEE', 'EEIEI', 'EEIEO', 'EEIEU', 'EEII', 'EEIIA', 'EEIIE', 'EEIII', 'EEIIO', 'EEIIU', 'EEIO', 'EEIOA', 'EEIOE', 'EEIOI', 'EEIOO', 'EEIOU', 'EEIU', 'EEIUA', 'EEIUE', 'EEIUI', 'EEIUO', 'EEIUU', 'EEO', 'EEOA', 'EEOAA', 'EEOAE', 'EEOAI', 'EEOAO', 'EEOAU', 'EEOE', 'EEOEA', 'EEOEE', 'EEOEI', 'EEOEO', 'EEOEU', 'EEOI', 'EEOIA', 'EEOIE', 'EEOII', 'EEOIO', 'EEOIU', 'EEOO', 'EEOOA', 'EEOOE', 'EEOOI', 'EEOOO', 'EEOOU', 'EEOU', 'EEOUA', 'EEOUE', 'EEOUI', 'EEOUO', 'EEOUU', 'EEU', 'EEUA', 'EEUAA', 'EEUAE', 'EEUAI', 'EEUAO', 'EEUAU', 'EEUE', 'EEUEA', 'EEUEE', 'EEUEI', 'EEUEO', 'EEUEU', 'EEUI', 'EEUIA', 'EEUIE', 'EEUII', 'EEUIO', 'EEUIU', 'EEUO', 'EEUOA', 'EEUOE', 'EEUOI', 'EEUOO', 'EEUOU', 'EEUU', 'EEUUA', 'EEUUE', 'EEUUI', 'EEUUO', 'EEUUU', 'EI', 'EIA', 'EIAA', 'EIAAA', 'EIAAE', 'EIAAI', 'EIAAO', 'EIAAU', 'EIAE', 'EIAEA', 'EIAEE', 'EIAEI', 'EIAEO', 'EIAEU', 'EIAI', 'EIAIA', 'EIAIE', 'EIAII', 'EIAIO', 'EIAIU', 'EIAO', 'EIAOA', 'EIAOE', 'EIAOI', 'EIAOO', 'EIAOU', 'EIAU', 'EIAUA', 'EIAUE', 'EIAUI', 'EIAUO', 'EIAUU', 'EIE', 'EIEA', 'EIEAA', 'EIEAE', 'EIEAI', 'EIEAO', 'EIEAU', 'EIEE', 'EIEEA', 'EIEEE', 'EIEEI', 'EIEEO', 'EIEEU', 'EIEI', 'EIEIA', 'EIEIE', 'EIEII', 'EIEIO', 'EIEIU', 'EIEO', 'EIEOA', 'EIEOE', 'EIEOI', 'EIEOO', 'EIEOU', 'EIEU', 'EIEUA', 'EIEUE', 'EIEUI', 'EIEUO', 'EIEUU', 'EII', 'EIIA', 'EIIAA', 'EIIAE', 'EIIAI', 'EIIAO', 'EIIAU', 'EIIE', 'EIIEA', 'EIIEE', 'EIIEI', 'EIIEO', 'EIIEU', 'EIII', 'EIIIA', 'EIIIE', 'EIIII', 'EIIIO', 'EIIIU', 'EIIO', 'EIIOA', 'EIIOE', 'EIIOI', 'EIIOO', 'EIIOU', 'EIIU', 'EIIUA', 'EIIUE', 'EIIUI', 'EIIUO', 'EIIUU', 'EIO', 'EIOA', 'EIOAA', 'EIOAE', 'EIOAI', 'EIOAO', 'EIOAU', 'EIOE', 'EIOEA', 'EIOEE', 'EIOEI', 'EIOEO', 'EIOEU', 'EIOI', 'EIOIA', 'EIOIE', 'EIOII', 'EIOIO', 'EIOIU', 'EIOO', 'EIOOA', 'EIOOE', 'EIOOI', 'EIOOO', 'EIOOU', 'EIOU', 'EIOUA', 'EIOUE', 'EIOUI', 'EIOUO', 'EIOUU', 'EIU', 'EIUA', 'EIUAA', 'EIUAE', 'EIUAI', 'EIUAO', 'EIUAU', 'EIUE', 'EIUEA', 'EIUEE', 'EIUEI', 'EIUEO', 'EIUEU', 'EIUI', 'EIUIA', 'EIUIE', 'EIUII', 'EIUIO', 'EIUIU', 'EIUO', 'EIUOA', 'EIUOE', 'EIUOI', 'EIUOO', 'EIUOU', 'EIUU', 'EIUUA', 'EIUUE', 'EIUUI', 'EIUUO', 'EIUUU', 'EO', 'EOA', 'EOAA', 'EOAAA', 'EOAAE', 'EOAAI', 'EOAAO', 'EOAAU', 'EOAE', 'EOAEA', 'EOAEE', 'EOAEI', 'EOAEO', 'EOAEU', 'EOAI', 'EOAIA', 'EOAIE', 'EOAII', 'EOAIO', 'EOAIU', 'EOAO', 'EOAOA', 'EOAOE', 'EOAOI', 'EOAOO', 'EOAOU', 'EOAU', 'EOAUA', 'EOAUE', 'EOAUI', 'EOAUO', 'EOAUU', 'EOE', 'EOEA', 'EOEAA', 'EOEAE', 'EOEAI', 'EOEAO', 'EOEAU', 'EOEE', 'EOEEA', 'EOEEE', 'EOEEI', 'EOEEO', 'EOEEU', 'EOEI', 'EOEIA', 'EOEIE', 'EOEII', 'EOEIO', 'EOEIU', 'EOEO', 'EOEOA', 'EOEOE', 'EOEOI', 'EOEOO', 'EOEOU', 'EOEU', 'EOEUA', 'EOEUE', 'EOEUI', 'EOEUO', 'EOEUU', 'EOI', 'EOIA', 'EOIAA', 'EOIAE', 'EOIAI', 'EOIAO', 'EOIAU', 'EOIE', 'EOIEA', 'EOIEE', 'EOIEI', 'EOIEO', 'EOIEU', 'EOII', 'EOIIA', 'EOIIE', 'EOIII', 'EOIIO', 'EOIIU', 'EOIO', 'EOIOA', 'EOIOE', 'EOIOI', 'EOIOO', 'EOIOU', 'EOIU', 'EOIUA', 'EOIUE', 'EOIUI', 'EOIUO', 'EOIUU', 'EOO', 'EOOA', 'EOOAA', 'EOOAE', 'EOOAI', 'EOOAO', 'EOOAU', 'EOOE', 'EOOEA', 'EOOEE', 'EOOEI', 'EOOEO', 'EOOEU', 'EOOI', 'EOOIA', 'EOOIE', 'EOOII', 'EOOIO', 'EOOIU', 'EOOO', 'EOOOA', 'EOOOE', 'EOOOI', 'EOOOO', 'EOOOU', 'EOOU', 'EOOUA', 'EOOUE', 'EOOUI', 'EOOUO', 'EOOUU', 'EOU', 'EOUA', 'EOUAA', 'EOUAE', 'EOUAI', 'EOUAO', 'EOUAU', 'EOUE', 'EOUEA', 'EOUEE', 'EOUEI', 'EOUEO', 'EOUEU', 'EOUI', 'EOUIA', 'EOUIE', 'EOUII', 'EOUIO', 'EOUIU', 'EOUO', 'EOUOA', 'EOUOE', 'EOUOI', 'EOUOO', 'EOUOU', 'EOUU', 'EOUUA', 'EOUUE', 'EOUUI', 'EOUUO', 'EOUUU', 'EU', 'EUA', 'EUAA', 'EUAAA', 'EUAAE', 'EUAAI', 'EUAAO', 'EUAAU', 'EUAE', 'EUAEA', 'EUAEE', 'EUAEI', 'EUAEO', 'EUAEU', 'EUAI', 'EUAIA', 'EUAIE', 'EUAII', 'EUAIO', 'EUAIU', 'EUAO', 'EUAOA', 'EUAOE', 'EUAOI', 'EUAOO', 'EUAOU', 'EUAU', 'EUAUA', 'EUAUE', 'EUAUI', 'EUAUO', 'EUAUU', 'EUE', 'EUEA', 'EUEAA', 'EUEAE', 'EUEAI', 'EUEAO', 'EUEAU', 'EUEE', 'EUEEA', 'EUEEE', 'EUEEI', 'EUEEO', 'EUEEU', 'EUEI', 'EUEIA', 'EUEIE', 'EUEII', 'EUEIO', 'EUEIU', 'EUEO', 'EUEOA', 'EUEOE', 'EUEOI', 'EUEOO', 'EUEOU', 'EUEU', 'EUEUA', 'EUEUE', 'EUEUI', 'EUEUO', 'EUEUU', 'EUI', 'EUIA', 'EUIAA', 'EUIAE', 'EUIAI', 'EUIAO', 'EUIAU', 'EUIE', 'EUIEA', 'EUIEE', 'EUIEI', 'EUIEO', 'EUIEU', 'EUII', 'EUIIA', 'EUIIE', 'EUIII', 'EUIIO', 'EUIIU', 'EUIO', 'EUIOA', 'EUIOE', 'EUIOI', 'EUIOO', 'EUIOU', 'EUIU', 'EUIUA', 'EUIUE', 'EUIUI', 'EUIUO', 'EUIUU', 'EUO', 'EUOA', 'EUOAA', 'EUOAE', 'EUOAI', 'EUOAO', 'EUOAU', 'EUOE', 'EUOEA', 'EUOEE', 'EUOEI', 'EUOEO', 'EUOEU', 'EUOI', 'EUOIA', 'EUOIE', 'EUOII', 'EUOIO', 'EUOIU', 'EUOO', 'EUOOA', 'EUOOE', 'EUOOI', 'EUOOO', 'EUOOU', 'EUOU', 'EUOUA', 'EUOUE', 'EUOUI', 'EUOUO', 'EUOUU', 'EUU', 'EUUA', 'EUUAA', 'EUUAE', 'EUUAI', 'EUUAO', 'EUUAU', 'EUUE', 'EUUEA', 'EUUEE', 'EUUEI', 'EUUEO', 'EUUEU', 'EUUI', 'EUUIA', 'EUUIE', 'EUUII', 'EUUIO', 'EUUIU', 'EUUO', 'EUUOA', 'EUUOE', 'EUUOI', 'EUUOO', 'EUUOU', 'EUUU', 'EUUUA', 'EUUUE', 'EUUUI', 'EUUUO', 'EUUUU', 'I', 'IA', 'IAA', 'IAAA', 'IAAAA', 'IAAAE', 'IAAAI', 'IAAAO', 'IAAAU', 'IAAE', 'IAAEA', 'IAAEE', 'IAAEI', 'IAAEO', 'IAAEU', 'IAAI', 'IAAIA', 'IAAIE', 'IAAII', 'IAAIO', 'IAAIU', 'IAAO', 'IAAOA', 'IAAOE', 'IAAOI', 'IAAOO', 'IAAOU', 'IAAU', 'IAAUA', 'IAAUE', 'IAAUI', 'IAAUO', 'IAAUU', 'IAE', 'IAEA', 'IAEAA', 'IAEAE', 'IAEAI', 'IAEAO', 'IAEAU', 'IAEE', 'IAEEA', 'IAEEE', 'IAEEI', 'IAEEO', 'IAEEU', 'IAEI', 'IAEIA', 'IAEIE', 'IAEII', 'IAEIO', 'IAEIU', 'IAEO', 'IAEOA', 'IAEOE', 'IAEOI', 'IAEOO', 'IAEOU', 'IAEU', 'IAEUA', 'IAEUE', 'IAEUI', 'IAEUO', 'IAEUU', 'IAI', 'IAIA', 'IAIAA', 'IAIAE', 'IAIAI', 'IAIAO', 'IAIAU', 'IAIE', 'IAIEA', 'IAIEE', 'IAIEI', 'IAIEO', 'IAIEU', 'IAII', 'IAIIA', 'IAIIE', 'IAIII', 'IAIIO', 'IAIIU', 'IAIO', 'IAIOA', 'IAIOE', 'IAIOI', 'IAIOO', 'IAIOU', 'IAIU', 'IAIUA', 'IAIUE', 'IAIUI', 'IAIUO', 'IAIUU', 'IAO', 'IAOA', 'IAOAA', 'IAOAE', 'IAOAI', 'IAOAO', 'IAOAU', 'IAOE', 'IAOEA', 'IAOEE', 'IAOEI', 'IAOEO', 'IAOEU', 'IAOI', 'IAOIA', 'IAOIE', 'IAOII', 'IAOIO', 'IAOIU', 'IAOO', 'IAOOA', 'IAOOE', 'IAOOI', 'IAOOO', 'IAOOU', 'IAOU', 'IAOUA', 'IAOUE', 'IAOUI', 'IAOUO', 'IAOUU', 'IAU', 'IAUA', 'IAUAA', 'IAUAE', 'IAUAI', 'IAUAO', 'IAUAU', 'IAUE', 'IAUEA', 'IAUEE', 'IAUEI', 'IAUEO', 'IAUEU', 'IAUI', 'IAUIA', 'IAUIE', 'IAUII', 'IAUIO', 'IAUIU', 'IAUO', 'IAUOA', 'IAUOE', 'IAUOI', 'IAUOO', 'IAUOU', 'IAUU', 'IAUUA', 'IAUUE', 'IAUUI', 'IAUUO', 'IAUUU', 'IE', 'IEA', 'IEAA', 'IEAAA', 'IEAAE', 'IEAAI', 'IEAAO', 'IEAAU', 'IEAE', 'IEAEA', 'IEAEE', 'IEAEI', 'IEAEO', 'IEAEU', 'IEAI', 'IEAIA', 'IEAIE', 'IEAII', 'IEAIO', 'IEAIU', 'IEAO', 'IEAOA', 'IEAOE', 'IEAOI', 'IEAOO', 'IEAOU', 'IEAU', 'IEAUA', 'IEAUE', 'IEAUI', 'IEAUO', 'IEAUU', 'IEE', 'IEEA', 'IEEAA', 'IEEAE', 'IEEAI', 'IEEAO', 'IEEAU', 'IEEE', 'IEEEA', 'IEEEE', 'IEEEI', 'IEEEO', 'IEEEU', 'IEEI', 'IEEIA', 'IEEIE', 'IEEII', 'IEEIO', 'IEEIU', 'IEEO', 'IEEOA', 'IEEOE', 'IEEOI', 'IEEOO', 'IEEOU', 'IEEU', 'IEEUA', 'IEEUE', 'IEEUI', 'IEEUO', 'IEEUU', 'IEI', 'IEIA', 'IEIAA', 'IEIAE', 'IEIAI', 'IEIAO', 'IEIAU', 'IEIE', 'IEIEA', 'IEIEE', 'IEIEI', 'IEIEO', 'IEIEU', 'IEII', 'IEIIA', 'IEIIE', 'IEIII', 'IEIIO', 'IEIIU', 'IEIO', 'IEIOA', 'IEIOE', 'IEIOI', 'IEIOO', 'IEIOU', 'IEIU', 'IEIUA', 'IEIUE', 'IEIUI', 'IEIUO', 'IEIUU', 'IEO', 'IEOA', 'IEOAA', 'IEOAE', 'IEOAI', 'IEOAO', 'IEOAU', 'IEOE', 'IEOEA', 'IEOEE', 'IEOEI', 'IEOEO', 'IEOEU', 'IEOI', 'IEOIA', 'IEOIE', 'IEOII', 'IEOIO', 'IEOIU', 'IEOO', 'IEOOA', 'IEOOE', 'IEOOI', 'IEOOO', 'IEOOU', 'IEOU', 'IEOUA', 'IEOUE', 'IEOUI', 'IEOUO', 'IEOUU', 'IEU', 'IEUA', 'IEUAA', 'IEUAE', 'IEUAI', 'IEUAO', 'IEUAU', 'IEUE', 'IEUEA', 'IEUEE', 'IEUEI', 'IEUEO', 'IEUEU', 'IEUI', 'IEUIA', 'IEUIE', 'IEUII', 'IEUIO', 'IEUIU', 'IEUO', 'IEUOA', 'IEUOE', 'IEUOI', 'IEUOO', 'IEUOU', 'IEUU', 'IEUUA', 'IEUUE', 'IEUUI', 'IEUUO', 'IEUUU', 'II', 'IIA', 'IIAA', 'IIAAA', 'IIAAE', 'IIAAI', 'IIAAO', 'IIAAU', 'IIAE', 'IIAEA', 'IIAEE', 'IIAEI', 'IIAEO', 'IIAEU', 'IIAI', 'IIAIA', 'IIAIE', 'IIAII', 'IIAIO', 'IIAIU', 'IIAO', 'IIAOA', 'IIAOE', 'IIAOI', 'IIAOO', 'IIAOU', 'IIAU', 'IIAUA', 'IIAUE', 'IIAUI', 'IIAUO', 'IIAUU', 'IIE', 'IIEA', 'IIEAA', 'IIEAE', 'IIEAI', 'IIEAO', 'IIEAU', 'IIEE', 'IIEEA', 'IIEEE', 'IIEEI', 'IIEEO', 'IIEEU', 'IIEI', 'IIEIA', 'IIEIE', 'IIEII', 'IIEIO', 'IIEIU', 'IIEO', 'IIEOA', 'IIEOE', 'IIEOI', 'IIEOO', 'IIEOU', 'IIEU', 'IIEUA', 'IIEUE', 'IIEUI', 'IIEUO', 'IIEUU', 'III', 'IIIA', 'IIIAA', 'IIIAE', 'IIIAI', 'IIIAO', 'IIIAU', 'IIIE', 'IIIEA', 'IIIEE', 'IIIEI', 'IIIEO', 'IIIEU', 'IIII', 'IIIIA', 'IIIIE', 'IIIII', 'IIIIO', 'IIIIU', 'IIIO', 'IIIOA', 'IIIOE', 'IIIOI', 'IIIOO', 'IIIOU', 'IIIU', 'IIIUA', 'IIIUE', 'IIIUI', 'IIIUO', 'IIIUU', 'IIO', 'IIOA', 'IIOAA', 'IIOAE', 'IIOAI', 'IIOAO', 'IIOAU', 'IIOE', 'IIOEA', 'IIOEE', 'IIOEI', 'IIOEO', 'IIOEU', 'IIOI', 'IIOIA', 'IIOIE', 'IIOII', 'IIOIO', 'IIOIU', 'IIOO', 'IIOOA', 'IIOOE', 'IIOOI', 'IIOOO', 'IIOOU', 'IIOU', 'IIOUA', 'IIOUE', 'IIOUI', 'IIOUO', 'IIOUU', 'IIU', 'IIUA', 'IIUAA', 'IIUAE', 'IIUAI', 'IIUAO', 'IIUAU', 'IIUE', 'IIUEA', 'IIUEE', 'IIUEI', 'IIUEO', 'IIUEU', 'IIUI', 'IIUIA', 'IIUIE', 'IIUII', 'IIUIO', 'IIUIU', 'IIUO', 'IIUOA', 'IIUOE', 'IIUOI', 'IIUOO', 'IIUOU', 'IIUU', 'IIUUA', 'IIUUE', 'IIUUI', 'IIUUO', 'IIUUU', 'IO', 'IOA', 'IOAA', 'IOAAA', 'IOAAE', 'IOAAI', 'IOAAO', 'IOAAU', 'IOAE', 'IOAEA', 'IOAEE', 'IOAEI', 'IOAEO', 'IOAEU', 'IOAI', 'IOAIA', 'IOAIE', 'IOAII', 'IOAIO', 'IOAIU', 'IOAO', 'IOAOA', 'IOAOE', 'IOAOI', 'IOAOO', 'IOAOU', 'IOAU', 'IOAUA', 'IOAUE', 'IOAUI', 'IOAUO', 'IOAUU', 'IOE', 'IOEA', 'IOEAA', 'IOEAE', 'IOEAI', 'IOEAO', 'IOEAU', 'IOEE', 'IOEEA', 'IOEEE', 'IOEEI', 'IOEEO', 'IOEEU', 'IOEI', 'IOEIA', 'IOEIE', 'IOEII', 'IOEIO', 'IOEIU', 'IOEO', 'IOEOA', 'IOEOE', 'IOEOI', 'IOEOO', 'IOEOU', 'IOEU', 'IOEUA', 'IOEUE', 'IOEUI', 'IOEUO', 'IOEUU', 'IOI', 'IOIA', 'IOIAA', 'IOIAE', 'IOIAI', 'IOIAO', 'IOIAU', 'IOIE', 'IOIEA', 'IOIEE', 'IOIEI', 'IOIEO', 'IOIEU', 'IOII', 'IOIIA', 'IOIIE', 'IOIII', 'IOIIO', 'IOIIU', 'IOIO', 'IOIOA', 'IOIOE', 'IOIOI', 'IOIOO', 'IOIOU', 'IOIU', 'IOIUA', 'IOIUE', 'IOIUI', 'IOIUO', 'IOIUU', 'IOO', 'IOOA', 'IOOAA', 'IOOAE', 'IOOAI', 'IOOAO', 'IOOAU', 'IOOE', 'IOOEA', 'IOOEE', 'IOOEI', 'IOOEO', 'IOOEU', 'IOOI', 'IOOIA', 'IOOIE', 'IOOII', 'IOOIO', 'IOOIU', 'IOOO', 'IOOOA', 'IOOOE', 'IOOOI', 'IOOOO', 'IOOOU', 'IOOU', 'IOOUA', 'IOOUE', 'IOOUI', 'IOOUO', 'IOOUU', 'IOU', 'IOUA', 'IOUAA', 'IOUAE', 'IOUAI', 'IOUAO', 'IOUAU', 'IOUE', 'IOUEA', 'IOUEE', 'IOUEI', 'IOUEO', 'IOUEU', 'IOUI', 'IOUIA', 'IOUIE', 'IOUII', 'IOUIO', 'IOUIU', 'IOUO', 'IOUOA', 'IOUOE', 'IOUOI', 'IOUOO', 'IOUOU', 'IOUU', 'IOUUA', 'IOUUE', 'IOUUI', 'IOUUO', 'IOUUU', 'IU', 'IUA', 'IUAA', 'IUAAA', 'IUAAE', 'IUAAI', 'IUAAO', 'IUAAU', 'IUAE', 'IUAEA', 'IUAEE', 'IUAEI', 'IUAEO', 'IUAEU', 'IUAI', 'IUAIA', 'IUAIE', 'IUAII', 'IUAIO', 'IUAIU', 'IUAO', 'IUAOA', 'IUAOE', 'IUAOI', 'IUAOO', 'IUAOU', 'IUAU', 'IUAUA', 'IUAUE', 'IUAUI', 'IUAUO', 'IUAUU', 'IUE', 'IUEA', 'IUEAA', 'IUEAE', 'IUEAI', 'IUEAO', 'IUEAU', 'IUEE', 'IUEEA', 'IUEEE', 'IUEEI', 'IUEEO', 'IUEEU', 'IUEI', 'IUEIA', 'IUEIE', 'IUEII', 'IUEIO', 'IUEIU', 'IUEO', 'IUEOA', 'IUEOE', 'IUEOI', 'IUEOO', 'IUEOU', 'IUEU', 'IUEUA', 'IUEUE', 'IUEUI', 'IUEUO', 'IUEUU', 'IUI', 'IUIA', 'IUIAA', 'IUIAE', 'IUIAI', 'IUIAO', 'IUIAU', 'IUIE', 'IUIEA', 'IUIEE', 'IUIEI', 'IUIEO', 'IUIEU', 'IUII', 'IUIIA', 'IUIIE', 'IUIII', 'IUIIO', 'IUIIU', 'IUIO', 'IUIOA', 'IUIOE', 'IUIOI', 'IUIOO', 'IUIOU', 'IUIU', 'IUIUA', 'IUIUE', 'IUIUI', 'IUIUO', 'IUIUU', 'IUO', 'IUOA', 'IUOAA', 'IUOAE', 'IUOAI', 'IUOAO', 'IUOAU', 'IUOE', 'IUOEA', 'IUOEE', 'IUOEI', 'IUOEO', 'IUOEU', 'IUOI', 'IUOIA', 'IUOIE', 'IUOII', 'IUOIO', 'IUOIU', 'IUOO', 'IUOOA', 'IUOOE', 'IUOOI', 'IUOOO', 'IUOOU', 'IUOU', 'IUOUA', 'IUOUE', 'IUOUI', 'IUOUO', 'IUOUU', 'IUU', 'IUUA', 'IUUAA', 'IUUAE', 'IUUAI', 'IUUAO', 'IUUAU', 'IUUE', 'IUUEA', 'IUUEE', 'IUUEI', 'IUUEO', 'IUUEU', 'IUUI', 'IUUIA', 'IUUIE', 'IUUII', 'IUUIO', 'IUUIU', 'IUUO', 'IUUOA', 'IUUOE', 'IUUOI', 'IUUOO', 'IUUOU', 'IUUU', 'IUUUA', 'IUUUE', 'IUUUI', 'IUUUO', 'IUUUU', 'O', 'OA', 'OAA', 'OAAA', 'OAAAA', 'OAAAE', 'OAAAI', 'OAAAO', 'OAAAU', 'OAAE', 'OAAEA', 'OAAEE', 'OAAEI', 'OAAEO', 'OAAEU', 'OAAI', 'OAAIA', 'OAAIE', 'OAAII', 'OAAIO', 'OAAIU', 'OAAO', 'OAAOA', 'OAAOE', 'OAAOI', 'OAAOO', 'OAAOU', 'OAAU', 'OAAUA', 'OAAUE', 'OAAUI', 'OAAUO', 'OAAUU', 'OAE', 'OAEA', 'OAEAA', 'OAEAE', 'OAEAI', 'OAEAO', 'OAEAU', 'OAEE', 'OAEEA', 'OAEEE', 'OAEEI', 'OAEEO', 'OAEEU', 'OAEI', 'OAEIA', 'OAEIE', 'OAEII', 'OAEIO', 'OAEIU', 'OAEO', 'OAEOA', 'OAEOE', 'OAEOI', 'OAEOO', 'OAEOU', 'OAEU', 'OAEUA', 'OAEUE', 'OAEUI', 'OAEUO', 'OAEUU', 'OAI', 'OAIA', 'OAIAA', 'OAIAE', 'OAIAI', 'OAIAO', 'OAIAU', 'OAIE', 'OAIEA', 'OAIEE', 'OAIEI', 'OAIEO', 'OAIEU', 'OAII', 'OAIIA', 'OAIIE', 'OAIII', 'OAIIO', 'OAIIU', 'OAIO', 'OAIOA', 'OAIOE', 'OAIOI', 'OAIOO', 'OAIOU', 'OAIU', 'OAIUA', 'OAIUE', 'OAIUI', 'OAIUO', 'OAIUU', 'OAO', 'OAOA', 'OAOAA', 'OAOAE', 'OAOAI', 'OAOAO', 'OAOAU', 'OAOE', 'OAOEA', 'OAOEE', 'OAOEI', 'OAOEO', 'OAOEU', 'OAOI', 'OAOIA', 'OAOIE', 'OAOII', 'OAOIO', 'OAOIU', 'OAOO', 'OAOOA', 'OAOOE', 'OAOOI', 'OAOOO', 'OAOOU', 'OAOU', 'OAOUA', 'OAOUE', 'OAOUI', 'OAOUO', 'OAOUU', 'OAU', 'OAUA', 'OAUAA', 'OAUAE', 'OAUAI', 'OAUAO', 'OAUAU', 'OAUE', 'OAUEA', 'OAUEE', 'OAUEI', 'OAUEO', 'OAUEU', 'OAUI', 'OAUIA', 'OAUIE', 'OAUII', 'OAUIO', 'OAUIU', 'OAUO', 'OAUOA', 'OAUOE', 'OAUOI', 'OAUOO', 'OAUOU', 'OAUU', 'OAUUA', 'OAUUE', 'OAUUI', 'OAUUO', 'OAUUU', 'OE', 'OEA', 'OEAA', 'OEAAA', 'OEAAE', 'OEAAI', 'OEAAO', 'OEAAU', 'OEAE', 'OEAEA', 'OEAEE', 'OEAEI', 'OEAEO', 'OEAEU', 'OEAI', 'OEAIA', 'OEAIE', 'OEAII', 'OEAIO', 'OEAIU', 'OEAO', 'OEAOA', 'OEAOE', 'OEAOI', 'OEAOO', 'OEAOU', 'OEAU', 'OEAUA', 'OEAUE', 'OEAUI', 'OEAUO', 'OEAUU', 'OEE', 'OEEA', 'OEEAA', 'OEEAE', 'OEEAI', 'OEEAO', 'OEEAU', 'OEEE', 'OEEEA', 'OEEEE', 'OEEEI', 'OEEEO', 'OEEEU', 'OEEI', 'OEEIA', 'OEEIE', 'OEEII', 'OEEIO', 'OEEIU', 'OEEO', 'OEEOA', 'OEEOE', 'OEEOI', 'OEEOO', 'OEEOU', 'OEEU', 'OEEUA', 'OEEUE', 'OEEUI', 'OEEUO', 'OEEUU', 'OEI', 'OEIA', 'OEIAA', 'OEIAE', 'OEIAI', 'OEIAO', 'OEIAU', 'OEIE', 'OEIEA', 'OEIEE', 'OEIEI', 'OEIEO', 'OEIEU', 'OEII', 'OEIIA', 'OEIIE', 'OEIII', 'OEIIO', 'OEIIU', 'OEIO', 'OEIOA', 'OEIOE', 'OEIOI', 'OEIOO', 'OEIOU', 'OEIU', 'OEIUA', 'OEIUE', 'OEIUI', 'OEIUO', 'OEIUU', 'OEO', 'OEOA', 'OEOAA', 'OEOAE', 'OEOAI', 'OEOAO', 'OEOAU', 'OEOE', 'OEOEA', 'OEOEE', 'OEOEI', 'OEOEO', 'OEOEU', 'OEOI', 'OEOIA', 'OEOIE', 'OEOII', 'OEOIO', 'OEOIU', 'OEOO', 'OEOOA', 'OEOOE', 'OEOOI', 'OEOOO', 'OEOOU', 'OEOU', 'OEOUA', 'OEOUE', 'OEOUI', 'OEOUO', 'OEOUU', 'OEU', 'OEUA', 'OEUAA', 'OEUAE', 'OEUAI', 'OEUAO', 'OEUAU', 'OEUE', 'OEUEA', 'OEUEE', 'OEUEI', 'OEUEO', 'OEUEU', 'OEUI', 'OEUIA', 'OEUIE', 'OEUII', 'OEUIO', 'OEUIU', 'OEUO', 'OEUOA', 'OEUOE', 'OEUOI', 'OEUOO', 'OEUOU', 'OEUU', 'OEUUA', 'OEUUE', 'OEUUI', 'OEUUO', 'OEUUU', 'OI', 'OIA', 'OIAA', 'OIAAA', 'OIAAE', 'OIAAI', 'OIAAO', 'OIAAU', 'OIAE', 'OIAEA', 'OIAEE', 'OIAEI', 'OIAEO', 'OIAEU', 'OIAI', 'OIAIA', 'OIAIE', 'OIAII', 'OIAIO', 'OIAIU', 'OIAO', 'OIAOA', 'OIAOE', 'OIAOI', 'OIAOO', 'OIAOU', 'OIAU', 'OIAUA', 'OIAUE', 'OIAUI', 'OIAUO', 'OIAUU', 'OIE', 'OIEA', 'OIEAA', 'OIEAE', 'OIEAI', 'OIEAO', 'OIEAU', 'OIEE', 'OIEEA', 'OIEEE', 'OIEEI', 'OIEEO', 'OIEEU', 'OIEI', 'OIEIA', 'OIEIE', 'OIEII', 'OIEIO', 'OIEIU', 'OIEO', 'OIEOA', 'OIEOE', 'OIEOI', 'OIEOO', 'OIEOU', 'OIEU', 'OIEUA', 'OIEUE', 'OIEUI', 'OIEUO', 'OIEUU', 'OII', 'OIIA', 'OIIAA', 'OIIAE', 'OIIAI', 'OIIAO', 'OIIAU', 'OIIE', 'OIIEA', 'OIIEE', 'OIIEI', 'OIIEO', 'OIIEU', 'OIII', 'OIIIA', 'OIIIE', 'OIIII', 'OIIIO', 'OIIIU', 'OIIO', 'OIIOA', 'OIIOE', 'OIIOI', 'OIIOO', 'OIIOU', 'OIIU', 'OIIUA', 'OIIUE', 'OIIUI', 'OIIUO', 'OIIUU', 'OIO', 'OIOA', 'OIOAA', 'OIOAE', 'OIOAI', 'OIOAO', 'OIOAU', 'OIOE', 'OIOEA', 'OIOEE', 'OIOEI', 'OIOEO', 'OIOEU', 'OIOI', 'OIOIA', 'OIOIE', 'OIOII', 'OIOIO', 'OIOIU', 'OIOO', 'OIOOA', 'OIOOE', 'OIOOI', 'OIOOO', 'OIOOU', 'OIOU', 'OIOUA', 'OIOUE', 'OIOUI', 'OIOUO', 'OIOUU', 'OIU', 'OIUA', 'OIUAA', 'OIUAE', 'OIUAI', 'OIUAO', 'OIUAU', 'OIUE', 'OIUEA', 'OIUEE', 'OIUEI', 'OIUEO', 'OIUEU', 'OIUI', 'OIUIA', 'OIUIE', 'OIUII', 'OIUIO', 'OIUIU', 'OIUO', 'OIUOA', 'OIUOE', 'OIUOI', 'OIUOO', 'OIUOU', 'OIUU', 'OIUUA', 'OIUUE', 'OIUUI', 'OIUUO', 'OIUUU', 'OO', 'OOA', 'OOAA', 'OOAAA', 'OOAAE', 'OOAAI', 'OOAAO', 'OOAAU', 'OOAE', 'OOAEA', 'OOAEE', 'OOAEI', 'OOAEO', 'OOAEU', 'OOAI', 'OOAIA', 'OOAIE', 'OOAII', 'OOAIO', 'OOAIU', 'OOAO', 'OOAOA', 'OOAOE', 'OOAOI', 'OOAOO', 'OOAOU', 'OOAU', 'OOAUA', 'OOAUE', 'OOAUI', 'OOAUO', 'OOAUU', 'OOE', 'OOEA', 'OOEAA', 'OOEAE', 'OOEAI', 'OOEAO', 'OOEAU', 'OOEE', 'OOEEA', 'OOEEE', 'OOEEI', 'OOEEO', 'OOEEU', 'OOEI', 'OOEIA', 'OOEIE', 'OOEII', 'OOEIO', 'OOEIU', 'OOEO', 'OOEOA', 'OOEOE', 'OOEOI', 'OOEOO', 'OOEOU', 'OOEU', 'OOEUA', 'OOEUE', 'OOEUI', 'OOEUO', 'OOEUU', 'OOI', 'OOIA', 'OOIAA', 'OOIAE', 'OOIAI', 'OOIAO', 'OOIAU', 'OOIE', 'OOIEA', 'OOIEE', 'OOIEI', 'OOIEO', 'OOIEU', 'OOII', 'OOIIA', 'OOIIE', 'OOIII', 'OOIIO', 'OOIIU', 'OOIO', 'OOIOA', 'OOIOE', 'OOIOI', 'OOIOO', 'OOIOU', 'OOIU', 'OOIUA', 'OOIUE', 'OOIUI', 'OOIUO', 'OOIUU', 'OOO', 'OOOA', 'OOOAA', 'OOOAE', 'OOOAI', 'OOOAO', 'OOOAU', 'OOOE', 'OOOEA', 'OOOEE', 'OOOEI', 'OOOEO', 'OOOEU', 'OOOI', 'OOOIA', 'OOOIE', 'OOOII', 'OOOIO', 'OOOIU', 'OOOO', 'OOOOA', 'OOOOE', 'OOOOI', 'OOOOO', 'OOOOU', 'OOOU', 'OOOUA', 'OOOUE', 'OOOUI', 'OOOUO', 'OOOUU', 'OOU', 'OOUA', 'OOUAA', 'OOUAE', 'OOUAI', 'OOUAO', 'OOUAU', 'OOUE', 'OOUEA', 'OOUEE', 'OOUEI', 'OOUEO', 'OOUEU', 'OOUI', 'OOUIA', 'OOUIE', 'OOUII', 'OOUIO', 'OOUIU', 'OOUO', 'OOUOA', 'OOUOE', 'OOUOI', 'OOUOO', 'OOUOU', 'OOUU', 'OOUUA', 'OOUUE', 'OOUUI', 'OOUUO', 'OOUUU', 'OU', 'OUA', 'OUAA', 'OUAAA', 'OUAAE', 'OUAAI', 'OUAAO', 'OUAAU', 'OUAE', 'OUAEA', 'OUAEE', 'OUAEI', 'OUAEO', 'OUAEU', 'OUAI', 'OUAIA', 'OUAIE', 'OUAII', 'OUAIO', 'OUAIU', 'OUAO', 'OUAOA', 'OUAOE', 'OUAOI', 'OUAOO', 'OUAOU', 'OUAU', 'OUAUA', 'OUAUE', 'OUAUI', 'OUAUO', 'OUAUU', 'OUE', 'OUEA', 'OUEAA', 'OUEAE', 'OUEAI', 'OUEAO', 'OUEAU', 'OUEE', 'OUEEA', 'OUEEE', 'OUEEI', 'OUEEO', 'OUEEU', 'OUEI', 'OUEIA', 'OUEIE', 'OUEII', 'OUEIO', 'OUEIU', 'OUEO', 'OUEOA', 'OUEOE', 'OUEOI', 'OUEOO', 'OUEOU', 'OUEU', 'OUEUA', 'OUEUE', 'OUEUI', 'OUEUO', 'OUEUU', 'OUI', 'OUIA', 'OUIAA', 'OUIAE', 'OUIAI', 'OUIAO', 'OUIAU', 'OUIE', 'OUIEA', 'OUIEE', 'OUIEI', 'OUIEO', 'OUIEU', 'OUII', 'OUIIA', 'OUIIE', 'OUIII', 'OUIIO', 'OUIIU', 'OUIO', 'OUIOA', 'OUIOE', 'OUIOI', 'OUIOO', 'OUIOU', 'OUIU', 'OUIUA', 'OUIUE', 'OUIUI', 'OUIUO', 'OUIUU', 'OUO', 'OUOA', 'OUOAA', 'OUOAE', 'OUOAI', 'OUOAO', 'OUOAU', 'OUOE', 'OUOEA', 'OUOEE', 'OUOEI', 'OUOEO', 'OUOEU', 'OUOI', 'OUOIA', 'OUOIE', 'OUOII', 'OUOIO', 'OUOIU', 'OUOO', 'OUOOA', 'OUOOE', 'OUOOI', 'OUOOO', 'OUOOU', 'OUOU', 'OUOUA', 'OUOUE', 'OUOUI', 'OUOUO', 'OUOUU', 'OUU', 'OUUA', 'OUUAA', 'OUUAE', 'OUUAI', 'OUUAO', 'OUUAU', 'OUUE', 'OUUEA', 'OUUEE', 'OUUEI', 'OUUEO', 'OUUEU', 'OUUI', 'OUUIA', 'OUUIE', 'OUUII', 'OUUIO', 'OUUIU', 'OUUO', 'OUUOA', 'OUUOE', 'OUUOI', 'OUUOO', 'OUUOU', 'OUUU', 'OUUUA', 'OUUUE', 'OUUUI', 'OUUUO', 'OUUUU', 'U', 'UA', 'UAA', 'UAAA', 'UAAAA', 'UAAAE', 'UAAAI', 'UAAAO', 'UAAAU', 'UAAE', 'UAAEA', 'UAAEE', 'UAAEI', 'UAAEO', 'UAAEU', 'UAAI', 'UAAIA', 'UAAIE', 'UAAII', 'UAAIO', 'UAAIU', 'UAAO', 'UAAOA', 'UAAOE', 'UAAOI', 'UAAOO', 'UAAOU', 'UAAU', 'UAAUA', 'UAAUE', 'UAAUI', 'UAAUO', 'UAAUU', 'UAE', 'UAEA', 'UAEAA', 'UAEAE', 'UAEAI', 'UAEAO', 'UAEAU', 'UAEE', 'UAEEA', 'UAEEE', 'UAEEI', 'UAEEO', 'UAEEU', 'UAEI', 'UAEIA', 'UAEIE', 'UAEII', 'UAEIO', 'UAEIU', 'UAEO', 'UAEOA', 'UAEOE', 'UAEOI', 'UAEOO', 'UAEOU', 'UAEU', 'UAEUA', 'UAEUE', 'UAEUI', 'UAEUO', 'UAEUU', 'UAI', 'UAIA', 'UAIAA', 'UAIAE', 'UAIAI', 'UAIAO', 'UAIAU', 'UAIE', 'UAIEA', 'UAIEE', 'UAIEI', 'UAIEO', 'UAIEU', 'UAII', 'UAIIA', 'UAIIE', 'UAIII', 'UAIIO', 'UAIIU', 'UAIO', 'UAIOA', 'UAIOE', 'UAIOI', 'UAIOO', 'UAIOU', 'UAIU', 'UAIUA', 'UAIUE', 'UAIUI', 'UAIUO', 'UAIUU', 'UAO', 'UAOA', 'UAOAA', 'UAOAE', 'UAOAI', 'UAOAO', 'UAOAU', 'UAOE', 'UAOEA', 'UAOEE', 'UAOEI', 'UAOEO', 'UAOEU', 'UAOI', 'UAOIA', 'UAOIE', 'UAOII', 'UAOIO', 'UAOIU', 'UAOO', 'UAOOA', 'UAOOE', 'UAOOI', 'UAOOO', 'UAOOU', 'UAOU', 'UAOUA', 'UAOUE', 'UAOUI', 'UAOUO', 'UAOUU', 'UAU', 'UAUA', 'UAUAA', 'UAUAE', 'UAUAI', 'UAUAO', 'UAUAU', 'UAUE', 'UAUEA', 'UAUEE', 'UAUEI', 'UAUEO', 'UAUEU', 'UAUI', 'UAUIA', 'UAUIE', 'UAUII', 'UAUIO', 'UAUIU', 'UAUO', 'UAUOA', 'UAUOE', 'UAUOI', 'UAUOO', 'UAUOU', 'UAUU', 'UAUUA', 'UAUUE', 'UAUUI', 'UAUUO', 'UAUUU', 'UE', 'UEA', 'UEAA', 'UEAAA', 'UEAAE', 'UEAAI', 'UEAAO', 'UEAAU', 'UEAE', 'UEAEA', 'UEAEE', 'UEAEI', 'UEAEO', 'UEAEU', 'UEAI', 'UEAIA', 'UEAIE', 'UEAII', 'UEAIO', 'UEAIU', 'UEAO', 'UEAOA', 'UEAOE', 'UEAOI', 'UEAOO', 'UEAOU', 'UEAU', 'UEAUA', 'UEAUE', 'UEAUI', 'UEAUO', 'UEAUU', 'UEE', 'UEEA', 'UEEAA', 'UEEAE', 'UEEAI', 'UEEAO', 'UEEAU', 'UEEE', 'UEEEA', 'UEEEE', 'UEEEI', 'UEEEO', 'UEEEU', 'UEEI', 'UEEIA', 'UEEIE', 'UEEII', 'UEEIO', 'UEEIU', 'UEEO', 'UEEOA', 'UEEOE', 'UEEOI', 'UEEOO', 'UEEOU', 'UEEU', 'UEEUA', 'UEEUE', 'UEEUI', 'UEEUO', 'UEEUU', 'UEI', 'UEIA', 'UEIAA', 'UEIAE', 'UEIAI', 'UEIAO', 'UEIAU', 'UEIE', 'UEIEA', 'UEIEE', 'UEIEI', 'UEIEO', 'UEIEU', 'UEII', 'UEIIA', 'UEIIE', 'UEIII', 'UEIIO', 'UEIIU', 'UEIO', 'UEIOA', 'UEIOE', 'UEIOI', 'UEIOO', 'UEIOU', 'UEIU', 'UEIUA', 'UEIUE', 'UEIUI', 'UEIUO', 'UEIUU', 'UEO', 'UEOA', 'UEOAA', 'UEOAE', 'UEOAI', 'UEOAO', 'UEOAU', 'UEOE', 'UEOEA', 'UEOEE', 'UEOEI', 'UEOEO', 'UEOEU', 'UEOI', 'UEOIA', 'UEOIE', 'UEOII', 'UEOIO', 'UEOIU', 'UEOO', 'UEOOA', 'UEOOE', 'UEOOI', 'UEOOO', 'UEOOU', 'UEOU', 'UEOUA', 'UEOUE', 'UEOUI', 'UEOUO', 'UEOUU', 'UEU', 'UEUA', 'UEUAA', 'UEUAE', 'UEUAI', 'UEUAO', 'UEUAU', 'UEUE', 'UEUEA', 'UEUEE', 'UEUEI', 'UEUEO', 'UEUEU', 'UEUI', 'UEUIA', 'UEUIE', 'UEUII', 'UEUIO', 'UEUIU', 'UEUO', 'UEUOA', 'UEUOE', 'UEUOI', 'UEUOO', 'UEUOU', 'UEUU', 'UEUUA', 'UEUUE', 'UEUUI', 'UEUUO', 'UEUUU', 'UI', 'UIA', 'UIAA', 'UIAAA', 'UIAAE', 'UIAAI', 'UIAAO', 'UIAAU', 'UIAE', 'UIAEA', 'UIAEE', 'UIAEI', 'UIAEO', 'UIAEU', 'UIAI', 'UIAIA', 'UIAIE', 'UIAII', 'UIAIO', 'UIAIU', 'UIAO', 'UIAOA', 'UIAOE', 'UIAOI', 'UIAOO', 'UIAOU', 'UIAU', 'UIAUA', 'UIAUE', 'UIAUI', 'UIAUO', 'UIAUU', 'UIE', 'UIEA', 'UIEAA', 'UIEAE', 'UIEAI', 'UIEAO', 'UIEAU', 'UIEE', 'UIEEA', 'UIEEE', 'UIEEI', 'UIEEO', 'UIEEU', 'UIEI', 'UIEIA', 'UIEIE', 'UIEII', 'UIEIO', 'UIEIU', 'UIEO', 'UIEOA', 'UIEOE', 'UIEOI', 'UIEOO', 'UIEOU', 'UIEU', 'UIEUA', 'UIEUE', 'UIEUI', 'UIEUO', 'UIEUU', 'UII', 'UIIA', 'UIIAA', 'UIIAE', 'UIIAI', 'UIIAO', 'UIIAU', 'UIIE', 'UIIEA', 'UIIEE', 'UIIEI', 'UIIEO', 'UIIEU', 'UIII', 'UIIIA', 'UIIIE', 'UIIII', 'UIIIO', 'UIIIU', 'UIIO', 'UIIOA', 'UIIOE', 'UIIOI', 'UIIOO', 'UIIOU', 'UIIU', 'UIIUA', 'UIIUE', 'UIIUI', 'UIIUO', 'UIIUU', 'UIO', 'UIOA', 'UIOAA', 'UIOAE', 'UIOAI', 'UIOAO', 'UIOAU', 'UIOE', 'UIOEA', 'UIOEE', 'UIOEI', 'UIOEO', 'UIOEU', 'UIOI', 'UIOIA', 'UIOIE', 'UIOII', 'UIOIO', 'UIOIU', 'UIOO', 'UIOOA', 'UIOOE', 'UIOOI', 'UIOOO', 'UIOOU', 'UIOU', 'UIOUA', 'UIOUE', 'UIOUI', 'UIOUO', 'UIOUU', 'UIU', 'UIUA', 'UIUAA', 'UIUAE', 'UIUAI', 'UIUAO', 'UIUAU', 'UIUE', 'UIUEA', 'UIUEE', 'UIUEI', 'UIUEO', 'UIUEU', 'UIUI', 'UIUIA', 'UIUIE', 'UIUII', 'UIUIO', 'UIUIU', 'UIUO', 'UIUOA', 'UIUOE', 'UIUOI', 'UIUOO', 'UIUOU', 'UIUU', 'UIUUA', 'UIUUE', 'UIUUI', 'UIUUO', 'UIUUU', 'UO', 'UOA', 'UOAA', 'UOAAA', 'UOAAE', 'UOAAI', 'UOAAO', 'UOAAU', 'UOAE', 'UOAEA', 'UOAEE', 'UOAEI', 'UOAEO', 'UOAEU', 'UOAI', 'UOAIA', 'UOAIE', 'UOAII', 'UOAIO', 'UOAIU', 'UOAO', 'UOAOA', 'UOAOE', 'UOAOI', 'UOAOO', 'UOAOU', 'UOAU', 'UOAUA', 'UOAUE', 'UOAUI', 'UOAUO', 'UOAUU', 'UOE', 'UOEA', 'UOEAA', 'UOEAE', 'UOEAI', 'UOEAO', 'UOEAU', 'UOEE', 'UOEEA', 'UOEEE', 'UOEEI', 'UOEEO', 'UOEEU', 'UOEI', 'UOEIA', 'UOEIE', 'UOEII', 'UOEIO', 'UOEIU', 'UOEO', 'UOEOA', 'UOEOE', 'UOEOI', 'UOEOO', 'UOEOU', 'UOEU', 'UOEUA', 'UOEUE', 'UOEUI', 'UOEUO', 'UOEUU', 'UOI', 'UOIA', 'UOIAA', 'UOIAE', 'UOIAI', 'UOIAO', 'UOIAU', 'UOIE', 'UOIEA', 'UOIEE', 'UOIEI', 'UOIEO', 'UOIEU', 'UOII', 'UOIIA', 'UOIIE', 'UOIII', 'UOIIO', 'UOIIU', 'UOIO', 'UOIOA', 'UOIOE', 'UOIOI', 'UOIOO', 'UOIOU', 'UOIU', 'UOIUA', 'UOIUE', 'UOIUI', 'UOIUO', 'UOIUU', 'UOO', 'UOOA', 'UOOAA', 'UOOAE', 'UOOAI', 'UOOAO', 'UOOAU', 'UOOE', 'UOOEA', 'UOOEE', 'UOOEI', 'UOOEO', 'UOOEU', 'UOOI', 'UOOIA', 'UOOIE', 'UOOII', 'UOOIO', 'UOOIU', 'UOOO', 'UOOOA', 'UOOOE', 'UOOOI', 'UOOOO', 'UOOOU', 'UOOU', 'UOOUA', 'UOOUE', 'UOOUI', 'UOOUO', 'UOOUU', 'UOU', 'UOUA', 'UOUAA', 'UOUAE', 'UOUAI', 'UOUAO', 'UOUAU', 'UOUE', 'UOUEA', 'UOUEE', 'UOUEI', 'UOUEO', 'UOUEU', 'UOUI', 'UOUIA', 'UOUIE', 'UOUII', 'UOUIO', 'UOUIU', 'UOUO', 'UOUOA', 'UOUOE', 'UOUOI', 'UOUOO', 'UOUOU', 'UOUU', 'UOUUA', 'UOUUE', 'UOUUI', 'UOUUO', 'UOUUU', 'UU', 'UUA', 'UUAA', 'UUAAA', 'UUAAE', 'UUAAI', 'UUAAO', 'UUAAU', 'UUAE', 'UUAEA', 'UUAEE', 'UUAEI', 'UUAEO', 'UUAEU', 'UUAI', 'UUAIA', 'UUAIE', 'UUAII', 'UUAIO', 'UUAIU', 'UUAO', 'UUAOA', 'UUAOE', 'UUAOI', 'UUAOO', 'UUAOU', 'UUAU', 'UUAUA', 'UUAUE', 'UUAUI', 'UUAUO', 'UUAUU', 'UUE', 'UUEA', 'UUEAA', 'UUEAE', 'UUEAI', 'UUEAO', 'UUEAU', 'UUEE', 'UUEEA', 'UUEEE', 'UUEEI', 'UUEEO', 'UUEEU', 'UUEI', 'UUEIA', 'UUEIE', 'UUEII', 'UUEIO', 'UUEIU', 'UUEO', 'UUEOA', 'UUEOE', 'UUEOI', 'UUEOO', 'UUEOU', 'UUEU', 'UUEUA', 'UUEUE', 'UUEUI', 'UUEUO', 'UUEUU', 'UUI', 'UUIA', 'UUIAA', 'UUIAE', 'UUIAI', 'UUIAO', 'UUIAU', 'UUIE', 'UUIEA', 'UUIEE', 'UUIEI', 'UUIEO', 'UUIEU', 'UUII', 'UUIIA', 'UUIIE', 'UUIII', 'UUIIO', 'UUIIU', 'UUIO', 'UUIOA', 'UUIOE', 'UUIOI', 'UUIOO', 'UUIOU', 'UUIU', 'UUIUA', 'UUIUE', 'UUIUI', 'UUIUO', 'UUIUU', 'UUO', 'UUOA', 'UUOAA', 'UUOAE', 'UUOAI', 'UUOAO', 'UUOAU', 'UUOE', 'UUOEA', 'UUOEE', 'UUOEI', 'UUOEO', 'UUOEU', 'UUOI', 'UUOIA', 'UUOIE', 'UUOII', 'UUOIO', 'UUOIU', 'UUOO', 'UUOOA', 'UUOOE', 'UUOOI', 'UUOOO', 'UUOOU', 'UUOU', 'UUOUA', 'UUOUE', 'UUOUI', 'UUOUO', 'UUOUU', 'UUU', 'UUUA', 'UUUAA', 'UUUAE', 'UUUAI', 'UUUAO', 'UUUAU', 'UUUE', 'UUUEA', 'UUUEE', 'UUUEI', 'UUUEO', 'UUUEU', 'UUUI', 'UUUIA', 'UUUIE', 'UUUII', 'UUUIO', 'UUUIU', 'UUUO', 'UUUOA', 'UUUOE', 'UUUOI', 'UUUOO', 'UUUOU', 'UUUU', 'UUUUA', 'UUUUE', 'UUUUI', 'UUUUO', 'UUUUU']\n",
      "5\n"
     ]
    }
   ],
   "source": [
    "# PG 모음사전\n",
    "# product는 generator을 반환하며 이는 iterator을 생성하는 함수이다\n",
    "# 따라서 for문을 통해 순회가능하며 생성된 리스트 c 에는 ['A','A'] 이렇게 들어가기 때문에\n",
    "# join을 사용하여 한번에 string으로 만들어 arr에 저장하였다\n",
    "\n",
    "from itertools import product\n",
    "\n",
    "def solution(word):\n",
    "    arr = []\n",
    "\n",
    "    for i in range(1,6,1):\n",
    "        for c in product(['A', 'E', 'I', 'O', 'U'], repeat=i):\n",
    "            arr.append(''.join(list(c)))\n",
    "\n",
    "    arr.sort()\n",
    "    return arr.index(word)\n",
    "\n",
    "print(solution(\"AAAAE\"))"
   ]
  }
 ],
 "metadata": {
  "kernelspec": {
   "display_name": "base",
   "language": "python",
   "name": "python3"
  },
  "language_info": {
   "codemirror_mode": {
    "name": "ipython",
    "version": 3
   },
   "file_extension": ".py",
   "mimetype": "text/x-python",
   "name": "python",
   "nbconvert_exporter": "python",
   "pygments_lexer": "ipython3",
   "version": "3.11.5"
  }
 },
 "nbformat": 4,
 "nbformat_minor": 2
}
