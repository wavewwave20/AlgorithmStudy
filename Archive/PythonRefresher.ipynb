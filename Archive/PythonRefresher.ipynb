{
 "cells": [
  {
   "cell_type": "code",
   "execution_count": 3,
   "metadata": {},
   "outputs": [
    {
     "name": "stdout",
     "output_type": "stream",
     "text": [
      "13\n"
     ]
    }
   ],
   "source": [
    "x = 3\n",
    "y = 10\n",
    "print(x + y)"
   ]
  },
  {
   "cell_type": "code",
   "execution_count": 4,
   "metadata": {},
   "outputs": [
    {
     "data": {
      "text/plain": [
       "'\\nhello world\\n'"
      ]
     },
     "execution_count": 4,
     "metadata": {},
     "output_type": "execute_result"
    }
   ],
   "source": [
    "#hello world\n",
    "'''\n",
    "hello world\n",
    "'''"
   ]
  },
  {
   "cell_type": "code",
   "execution_count": 7,
   "metadata": {},
   "outputs": [
    {
     "name": "stdout",
     "output_type": "stream",
     "text": [
      "10 10.1 hello world -1 lee (10+2j) 9 513 4097\n",
      "<class 'str'>\n",
      "<class 'str'>\n"
     ]
    }
   ],
   "source": [
    "a = 10              #int(정수)\n",
    "b = 10.1            #float(실수)\n",
    "c = \"hello world\"   #str(문자열)\n",
    "d = -1\n",
    "e = 'lee'\n",
    "f = True            #bool(참거짓)\n",
    "g = 10 + 2j\n",
    "h = 0b1001          #int(정수)\n",
    "i = 0o1001          #int(정수)\n",
    "j = 0x1001          #int(정수)\n",
    "print (a, b, c, d, e, g, h, i, j)\n",
    "print (type(c))\n",
    "print (type(e))\n",
    "#print(dir(a))"
   ]
  },
  {
   "cell_type": "code",
   "execution_count": 11,
   "metadata": {},
   "outputs": [
    {
     "name": "stdout",
     "output_type": "stream",
     "text": [
      "<class 'str'>\n",
      "['__add__', '__class__', '__contains__', '__delattr__', '__dir__', '__doc__', '__eq__', '__format__', '__ge__', '__getattribute__', '__getitem__', '__getnewargs__', '__getstate__', '__gt__', '__hash__', '__init__', '__init_subclass__', '__iter__', '__le__', '__len__', '__lt__', '__mod__', '__mul__', '__ne__', '__new__', '__reduce__', '__reduce_ex__', '__repr__', '__rmod__', '__rmul__', '__setattr__', '__sizeof__', '__str__', '__subclasshook__', 'capitalize', 'casefold', 'center', 'count', 'encode', 'endswith', 'expandtabs', 'find', 'format', 'format_map', 'index', 'isalnum', 'isalpha', 'isascii', 'isdecimal', 'isdigit', 'isidentifier', 'islower', 'isnumeric', 'isprintable', 'isspace', 'istitle', 'isupper', 'join', 'ljust', 'lower', 'lstrip', 'maketrans', 'partition', 'removeprefix', 'removesuffix', 'replace', 'rfind', 'rindex', 'rjust', 'rpartition', 'rsplit', 'rstrip', 'split', 'splitlines', 'startswith', 'strip', 'swapcase', 'title', 'translate', 'upper', 'zfill']\n",
      "J\n",
      "JNU\n",
      "JUsue\n",
      "tneduts UN\n",
      "JUsuetPrHmn\n"
     ]
    }
   ],
   "source": [
    "s = 'JNU student ParkHamin'\n",
    "print(type(s))\n",
    "print(dir(s))\n",
    "print(s[0])\n",
    "print(s[0:3])\n",
    "print(s[0:10:2])\n",
    "print(s[10:0:-1])\n",
    "print(s[::2])"
   ]
  },
  {
   "cell_type": "code",
   "execution_count": 19,
   "metadata": {},
   "outputs": [
    {
     "name": "stdout",
     "output_type": "stream",
     "text": [
      "<class 'str'>\n",
      "['__add__', '__class__', '__contains__', '__delattr__', '__dir__', '__doc__', '__eq__', '__format__', '__ge__', '__getattribute__', '__getitem__', '__getnewargs__', '__getstate__', '__gt__', '__hash__', '__init__', '__init_subclass__', '__iter__', '__le__', '__len__', '__lt__', '__mod__', '__mul__', '__ne__', '__new__', '__reduce__', '__reduce_ex__', '__repr__', '__rmod__', '__rmul__', '__setattr__', '__sizeof__', '__str__', '__subclasshook__', 'capitalize', 'casefold', 'center', 'count', 'encode', 'endswith', 'expandtabs', 'find', 'format', 'format_map', 'index', 'isalnum', 'isalpha', 'isascii', 'isdecimal', 'isdigit', 'isidentifier', 'islower', 'isnumeric', 'isprintable', 'isspace', 'istitle', 'isupper', 'join', 'ljust', 'lower', 'lstrip', 'maketrans', 'partition', 'removeprefix', 'removesuffix', 'replace', 'rfind', 'rindex', 'rjust', 'rpartition', 'rsplit', 'rstrip', 'split', 'splitlines', 'startswith', 'strip', 'swapcase', 'title', 'translate', 'upper', 'zfill']\n",
      "JNU STUDENT PARKHAMIN\n",
      "jnu student parkhamin\n",
      "2\n",
      "hello world\n",
      "JNU!student!ParkHamin\n",
      "My name is Hamin and I am 20 years old\n"
     ]
    }
   ],
   "source": [
    "s = 'JNU student ParkHamin'\n",
    "print(type(s))\n",
    "print(dir(s))\n",
    "print(s.upper())\n",
    "print(s.lower())\n",
    "print(s.count('t'))\n",
    "ss = '                hello world     '\n",
    "print(ss.strip())\n",
    "a = (s.split(' '))\n",
    "print('!'.join(a))\n",
    "print('My name is {0} and I am {1} years old'.format('Hamin', 20))"
   ]
  },
  {
   "cell_type": "code",
   "execution_count": 21,
   "metadata": {},
   "outputs": [
    {
     "name": "stdout",
     "output_type": "stream",
     "text": [
      "2024/2/3 2024 2 3\n"
     ]
    }
   ],
   "source": [
    "a = 2024\n",
    "b = 2\n",
    "c = 3\n",
    "# 2024/2/3\n",
    "print(a, b, c, sep='/', end=' ')\n",
    "print(a, b, c)"
   ]
  },
  {
   "cell_type": "code",
   "execution_count": 22,
   "metadata": {},
   "outputs": [
    {
     "name": "stdout",
     "output_type": "stream",
     "text": [
      "20\n"
     ]
    }
   ],
   "source": [
    "a = 10\n",
    "b = '10'\n",
    "print(a + int(b)) #형변환"
   ]
  },
  {
   "cell_type": "code",
   "execution_count": 25,
   "metadata": {},
   "outputs": [
    {
     "name": "stdout",
     "output_type": "stream",
     "text": [
      "<class 'bool'>\n",
      "['__abs__', '__add__', '__and__', '__bool__', '__ceil__', '__class__', '__delattr__', '__dir__', '__divmod__', '__doc__', '__eq__', '__float__', '__floor__', '__floordiv__', '__format__', '__ge__', '__getattribute__', '__getnewargs__', '__getstate__', '__gt__', '__hash__', '__index__', '__init__', '__init_subclass__', '__int__', '__invert__', '__le__', '__lshift__', '__lt__', '__mod__', '__mul__', '__ne__', '__neg__', '__new__', '__or__', '__pos__', '__pow__', '__radd__', '__rand__', '__rdivmod__', '__reduce__', '__reduce_ex__', '__repr__', '__rfloordiv__', '__rlshift__', '__rmod__', '__rmul__', '__ror__', '__round__', '__rpow__', '__rrshift__', '__rshift__', '__rsub__', '__rtruediv__', '__rxor__', '__setattr__', '__sizeof__', '__str__', '__sub__', '__subclasshook__', '__truediv__', '__trunc__', '__xor__', 'as_integer_ratio', 'bit_count', 'bit_length', 'conjugate', 'denominator', 'from_bytes', 'imag', 'numerator', 'real', 'to_bytes']\n"
     ]
    }
   ],
   "source": [
    "a = True\n",
    "b = False\n",
    "print(type(a))\n",
    "print(dir(a))"
   ]
  },
  {
   "cell_type": "code",
   "execution_count": 28,
   "metadata": {},
   "outputs": [
    {
     "name": "stdout",
     "output_type": "stream",
     "text": [
      "True\n",
      "False\n",
      "True\n",
      "False\n",
      "True\n",
      "False\n"
     ]
    }
   ],
   "source": [
    "print(bool(' '))\n",
    "print(bool(''))\n",
    "print(bool(1))\n",
    "print(bool(0))\n",
    "print(bool(-1))\n",
    "print(bool(None))"
   ]
  },
  {
   "cell_type": "code",
   "execution_count": 30,
   "metadata": {},
   "outputs": [
    {
     "name": "stdout",
     "output_type": "stream",
     "text": [
      "13\n",
      "-7\n",
      "3.3333333333333335\n",
      "3\n",
      "30\n",
      "59049\n",
      "1\n"
     ]
    }
   ],
   "source": [
    "a = 3\n",
    "b = 10\n",
    "print(a + b)\n",
    "print(a - b)\n",
    "print(b / a)\n",
    "print(b // a)\n",
    "print(a * b)\n",
    "print(a ** b) #제곱\n",
    "print(b % a)"
   ]
  },
  {
   "cell_type": "code",
   "execution_count": 32,
   "metadata": {},
   "outputs": [
    {
     "name": "stdout",
     "output_type": "stream",
     "text": [
      "False\n",
      "True\n",
      "True\n",
      "False\n",
      "True\n",
      "False\n"
     ]
    }
   ],
   "source": [
    "#비교연산\n",
    "a = 10\n",
    "b = 3\n",
    "print(a == b)\n",
    "print(a != b)\n",
    "print(a > b)\n",
    "print(a < b)\n",
    "print(a >= b)\n",
    "print(a <= b)"
   ]
  },
  {
   "cell_type": "code",
   "execution_count": 1,
   "metadata": {},
   "outputs": [
    {
     "name": "stdout",
     "output_type": "stream",
     "text": [
      "False\n",
      "True\n",
      "False\n"
     ]
    }
   ],
   "source": [
    "#논리연산\n",
    "a = True\n",
    "b = False\n",
    "print(a and b)\n",
    "print(a or b)\n",
    "print(not a)"
   ]
  },
  {
   "cell_type": "code",
   "execution_count": 6,
   "metadata": {},
   "outputs": [
    {
     "name": "stdout",
     "output_type": "stream",
     "text": [
      "8\n",
      "101000\n",
      "001110\n"
     ]
    }
   ],
   "source": [
    "#bit 연산\n",
    "a = 40\n",
    "b = 14\n",
    "print(a & b)\n",
    "print(bin(a)[2:].zfill(6))\n",
    "print(bin(b)[2:].zfill(6))\n",
    "# 101000\n",
    "# 001110\n",
    "# ------ and연산\n",
    "# 001000"
   ]
  },
  {
   "cell_type": "code",
   "execution_count": 8,
   "metadata": {},
   "outputs": [
    {
     "name": "stdout",
     "output_type": "stream",
     "text": [
      "13\n"
     ]
    }
   ],
   "source": [
    "# 함수\n",
    "def f(x, y):\n",
    "    z = x + y\n",
    "    return z\n",
    "print(f(3, 10))"
   ]
  },
  {
   "cell_type": "code",
   "execution_count": 10,
   "metadata": {},
   "outputs": [
    {
     "name": "stdout",
     "output_type": "stream",
     "text": [
      "4\n",
      "1\n",
      "2\n",
      "3\n"
     ]
    }
   ],
   "source": [
    "def ff():\n",
    "    print('1')\n",
    "    print('2')\n",
    "    print('3')\n",
    "\n",
    "print(4)\n",
    "ff()"
   ]
  },
  {
   "cell_type": "code",
   "execution_count": 12,
   "metadata": {},
   "outputs": [
    {
     "name": "stdout",
     "output_type": "stream",
     "text": [
      "314.0\n"
     ]
    }
   ],
   "source": [
    "def circle(r):\n",
    "    area = r * r * 3.14\n",
    "    return area\n",
    "\n",
    "print(circle(10))"
   ]
  },
  {
   "cell_type": "code",
   "execution_count": 14,
   "metadata": {},
   "outputs": [
    {
     "name": "stdout",
     "output_type": "stream",
     "text": [
      "11\n"
     ]
    }
   ],
   "source": [
    "a = 10\n",
    "def aplus():\n",
    "    global a\n",
    "    a += 1\n",
    "    return a\n",
    "print(aplus())"
   ]
  },
  {
   "cell_type": "code",
   "execution_count": 16,
   "metadata": {},
   "outputs": [
    {
     "name": "stdout",
     "output_type": "stream",
     "text": [
      "[100, 200, 300, 400]\n",
      "<class 'list'>\n",
      "200\n",
      "[100, 1000, 300, 400]\n"
     ]
    }
   ],
   "source": [
    "# 리스트, 튜플, 딕셔너리, 세트\n",
    "\n",
    "# 리스트\n",
    "l = [100, 200, 300, 400]\n",
    "print(l)\n",
    "print(type(l))\n",
    "# 변경이 가능한 자료형\n",
    "# 순서가 있는 자료형\n",
    "# 중복을 허용\n",
    "print(l[1])\n",
    "l[1] = 1000\n",
    "print(l)"
   ]
  },
  {
   "cell_type": "code",
   "execution_count": 29,
   "metadata": {},
   "outputs": [
    {
     "name": "stdout",
     "output_type": "stream",
     "text": [
      "['__add__', '__class__', '__class_getitem__', '__contains__', '__delattr__', '__delitem__', '__dir__', '__doc__', '__eq__', '__format__', '__ge__', '__getattribute__', '__getitem__', '__getstate__', '__gt__', '__hash__', '__iadd__', '__imul__', '__init__', '__init_subclass__', '__iter__', '__le__', '__len__', '__lt__', '__mul__', '__ne__', '__new__', '__reduce__', '__reduce_ex__', '__repr__', '__reversed__', '__rmul__', '__setattr__', '__setitem__', '__sizeof__', '__str__', '__subclasshook__', 'append', 'clear', 'copy', 'count', 'extend', 'index', 'insert', 'pop', 'remove', 'reverse', 'sort']\n",
      "[100, 200, 300, 400, 300]\n",
      "2\n",
      "[100, 200, 300, 400, 300, 100, 200, 300]\n",
      "2\n",
      "[100, 200, 300, 1000, 400, 300, 100, 200, 300]\n",
      "[100, 200, 300, 1000, 400, 300, 100, 200]\n",
      "[200, 300, 1000, 400, 300, 100, 200]\n",
      "[200, 100, 300, 400, 1000, 300, 200]\n",
      "[100, 200, 200, 300, 300, 400, 1000]\n"
     ]
    }
   ],
   "source": [
    "print(dir(l))\n",
    "l = [100, 200, 300, 400]\n",
    "# l[시작인덱스:끝인덱스:간격] 슬라이싱 기법\n",
    "l.append(300)\n",
    "print(l)\n",
    "# l.clear()\n",
    "# l.copy()\n",
    "print(l.count(300))\n",
    "l.extend([100, 200, 300])\n",
    "print(l)\n",
    "print(l.index(300))\n",
    "l.insert(3, 1000)\n",
    "print(l)\n",
    "l.pop() # 인덱스를 지정하지 않으면 마지막 요소를 삭제\n",
    "print(l)\n",
    "l.remove(100) # 처음 만나는 요소를 삭제\n",
    "print(l)\n",
    "l.reverse() # 역순으로 정렬\n",
    "print(l)\n",
    "l.sort() # 정렬\n",
    "print(l)\n",
    "# l.sorted() # 정렬된 리스트를 반환\n",
    "# l.reversed() # 역순으로 정렬된 리스트를 반환"
   ]
  },
  {
   "cell_type": "code",
   "execution_count": 33,
   "metadata": {},
   "outputs": [
    {
     "name": "stdout",
     "output_type": "stream",
     "text": [
      "([1000, 2000], 200, 300)\n",
      "<class 'tuple'>\n",
      "([100, 2000], 200, 300)\n"
     ]
    }
   ],
   "source": [
    "# 튜플\n",
    "l = [1000, 2000]\n",
    "t = (l, 200, 300)\n",
    "print(t)\n",
    "print(type(t))\n",
    "# 변경이 불가능한 자료형\n",
    "# 순서가 있는 자료형\n",
    "\n",
    "# t[0] = 1000\n",
    "# error\n",
    "\n",
    "l[0] = 100\n",
    "print(t)"
   ]
  },
  {
   "cell_type": "code",
   "execution_count": 38,
   "metadata": {},
   "outputs": [
    {
     "name": "stdout",
     "output_type": "stream",
     "text": [
      "{200, 100, 300}\n",
      "<class 'set'>\n",
      "{200, 100, 500, 300}\n",
      "{'e', 'h', 'o', 'd', 'w', 'r', 'l', ' '}\n",
      "{100, 200, 300, 400, 500}\n"
     ]
    }
   ],
   "source": [
    "# 세트\n",
    "s = {100, 200, 300, 300, 300}\n",
    "print(s)\n",
    "print(type(s))\n",
    "# 순서가 없는 자료형\n",
    "# 중복을 허용하지 않음\n",
    "\n",
    "s.add(500)\n",
    "print(s)\n",
    "print(set('hello world'))\n",
    "print(s.union({100, 200, 300, 400})) # 합집합"
   ]
  },
  {
   "cell_type": "code",
   "execution_count": 43,
   "metadata": {},
   "outputs": [
    {
     "name": "stdout",
     "output_type": "stream",
     "text": [
      "{'one': 10, 'two': 20}\n",
      "<class 'dict'>\n",
      "10\n",
      "dict_values([10, 20])\n",
      "dict_keys(['one', 'two'])\n",
      "dict_items([('one', 10), ('two', 20)])\n",
      "10\n"
     ]
    }
   ],
   "source": [
    "# 딕셔너리\n",
    "d = {'one': 10, 'two': 20}\n",
    "# 순서가 없는 자료형\n",
    "# 키와 값으로 이루어진 자료형\n",
    "print(d)\n",
    "print(type(d))\n",
    "print(d['one'])\n",
    "print(d.values())\n",
    "print(d.keys())\n",
    "print(d.items()) # 키와 값으로 이루어진 리스트\n",
    "l = list(d.items())\n",
    "print(l[0][1])"
   ]
  },
  {
   "cell_type": "code",
   "execution_count": 48,
   "metadata": {},
   "outputs": [
    {
     "name": "stdout",
     "output_type": "stream",
     "text": [
      "{'banana': 5000, 'orange': 2000}\n"
     ]
    }
   ],
   "source": [
    "jeju = {'banana': 5000, 'orange': 2000}\n",
    "# seoul = jeju error\n",
    "seoul = jeju.copy()\n",
    "jeju['orange'] = 3000\n",
    "print(seoul)"
   ]
  },
  {
   "cell_type": "code",
   "execution_count": 51,
   "metadata": {},
   "outputs": [
    {
     "name": "stdout",
     "output_type": "stream",
     "text": [
      "hello world 1\n",
      "hello world 2\n",
      "hello world 3\n",
      "hello world 4\n",
      "good bye\n"
     ]
    }
   ],
   "source": [
    "# 반복문\n",
    "a = 1\n",
    "while a<5:\n",
    "    print(\"hello world\", a)\n",
    "    if a> 9:\n",
    "        break\n",
    "    a += 1\n",
    "else:\n",
    "    print(\"good bye\")"
   ]
  },
  {
   "cell_type": "code",
   "execution_count": 54,
   "metadata": {},
   "outputs": [
    {
     "name": "stdout",
     "output_type": "stream",
     "text": [
      "[10, 20, 30, 40]\n",
      "10\n",
      "20\n",
      "30\n",
      "40\n",
      "{40, 10, 20, 30}\n",
      "40\n",
      "10\n",
      "20\n",
      "30\n"
     ]
    }
   ],
   "source": [
    "l = [10, 20, 30, 40]\n",
    "print(l)\n",
    "for i in l:\n",
    "    print(i)\n",
    "\n",
    "s = {10, 20, 30, 40, 10, 10, 10}\n",
    "print(s)\n",
    "for i in s:\n",
    "    print(i)\n",
    "\n",
    "d = {'one': 10, 'two': 20}\n",
    "print(d)\n",
    "for i in d:\n",
    "    print(i, d[i])"
   ]
  },
  {
   "cell_type": "code",
   "execution_count": 6,
   "metadata": {},
   "outputs": [
    {
     "name": "stdout",
     "output_type": "stream",
     "text": [
      "<class 'range'>\n",
      "0\n",
      "1\n",
      "2\n",
      "3\n",
      "4\n",
      "5\n",
      "6\n",
      "7\n",
      "8\n",
      "9\n",
      "1 [0, 1, 2, 3, 4, 5, 6, 7, 8, 9]\n",
      "1 [5, 6, 7, 8, 9]\n",
      "1 [2, 4, 6, 8]\n",
      "1 [10, 9, 8, 7, 6]\n",
      "1 []\n"
     ]
    }
   ],
   "source": [
    "print(type(range(10)))\n",
    "for i in range(10):\n",
    "    print(i)\n",
    "\n",
    "print(1, list(range(10)))\n",
    "print(1, list(range(5, 10)))\n",
    "print(1, list(range(2, 10, 2)))\n",
    "print(1, list(range(10, 5, -1)))\n",
    "print(1, list(range(-10)))"
   ]
  },
  {
   "cell_type": "code",
   "execution_count": 8,
   "metadata": {},
   "outputs": [
    {
     "name": "stdout",
     "output_type": "stream",
     "text": [
      "h\n",
      "e\n",
      "l\n",
      "l\n",
      "o\n",
      " \n",
      "w\n",
      "o\n",
      "r\n",
      "l\n",
      "d\n"
     ]
    }
   ],
   "source": [
    "for i in 'hello world':\n",
    "    print(i)"
   ]
  },
  {
   "cell_type": "code",
   "execution_count": 10,
   "metadata": {},
   "outputs": [
    {
     "name": "stdout",
     "output_type": "stream",
     "text": [
      "0\n",
      "1\n",
      "2\n",
      "3\n",
      "4\n",
      "5\n",
      "6\n",
      "7\n",
      "8\n",
      "9\n",
      "good bye\n"
     ]
    }
   ],
   "source": [
    "for i in range(10):\n",
    "    print(i)\n",
    "else:\n",
    "    print('good bye') # 반복문이 정상적으로 종료되면 실행"
   ]
  },
  {
   "cell_type": "code",
   "execution_count": 16,
   "metadata": {},
   "outputs": [
    {
     "name": "stdout",
     "output_type": "stream",
     "text": [
      "[0, 1, 2, 3, 4, 5, 6, 7, 8, 9]\n",
      "[0, 1, 2, 3, 4, 5, 6, 7, 8, 9]\n",
      "['2 * 1 = 2', '2 * 2 = 4', '2 * 3 = 6', '2 * 4 = 8', '2 * 5 = 10', '2 * 6 = 12', '2 * 7 = 14', '2 * 8 = 16', '2 * 9 = 18', '3 * 1 = 3', '3 * 2 = 6', '3 * 3 = 9', '3 * 4 = 12', '3 * 5 = 15', '3 * 6 = 18', '3 * 7 = 21', '3 * 8 = 24', '3 * 9 = 27', '4 * 1 = 4', '4 * 2 = 8', '4 * 3 = 12', '4 * 4 = 16', '4 * 5 = 20', '4 * 6 = 24', '4 * 7 = 28', '4 * 8 = 32', '4 * 9 = 36', '5 * 1 = 5', '5 * 2 = 10', '5 * 3 = 15', '5 * 4 = 20', '5 * 5 = 25', '5 * 6 = 30', '5 * 7 = 35', '5 * 8 = 40', '5 * 9 = 45', '6 * 1 = 6', '6 * 2 = 12', '6 * 3 = 18', '6 * 4 = 24', '6 * 5 = 30', '6 * 6 = 36', '6 * 7 = 42', '6 * 8 = 48', '6 * 9 = 54', '7 * 1 = 7', '7 * 2 = 14', '7 * 3 = 21', '7 * 4 = 28', '7 * 5 = 35', '7 * 6 = 42', '7 * 7 = 49', '7 * 8 = 56', '7 * 9 = 63', '8 * 1 = 8', '8 * 2 = 16', '8 * 3 = 24', '8 * 4 = 32', '8 * 5 = 40', '8 * 6 = 48', '8 * 7 = 56', '8 * 8 = 64', '8 * 9 = 72', '9 * 1 = 9', '9 * 2 = 18', '9 * 3 = 27', '9 * 4 = 36', '9 * 5 = 45', '9 * 6 = 54', '9 * 7 = 63', '9 * 8 = 72', '9 * 9 = 81']\n"
     ]
    }
   ],
   "source": [
    "l = list(range(10))\n",
    "print(l)\n",
    "ll = [i for i in range(10)]\n",
    "print(ll)\n",
    "lll = ['{} * {} = {}'.format(i, j, i*j) for i in range(2, 10) for j in range(1, 10)]\n",
    "print(lll)"
   ]
  },
  {
   "cell_type": "code",
   "execution_count": 19,
   "metadata": {},
   "outputs": [
    {
     "name": "stdout",
     "output_type": "stream",
     "text": [
      "1 2\n",
      "3 4\n",
      "5 6\n"
     ]
    }
   ],
   "source": [
    "l = [(1, 2), (3, 4), (5, 6)]\n",
    "for i, j in l: # 튜플 언패킹\n",
    "    print(i, j)"
   ]
  },
  {
   "cell_type": "code",
   "execution_count": 21,
   "metadata": {},
   "outputs": [
    {
     "name": "stdout",
     "output_type": "stream",
     "text": [
      "1 100\n",
      "2 200\n",
      "3 300\n",
      "4 400\n",
      "5 500\n",
      "6 600\n",
      "7 700\n",
      "8 800\n",
      "9 900\n"
     ]
    }
   ],
   "source": [
    "for i, j in enumerate(range(100, 1000, 100), 1): # 인덱스와 값을 동시에 출력\n",
    "    print(i, j)"
   ]
  },
  {
   "cell_type": "code",
   "execution_count": 23,
   "metadata": {},
   "outputs": [],
   "source": [
    "for i in range(10):\n",
    "    pass"
   ]
  },
  {
   "cell_type": "code",
   "execution_count": 26,
   "metadata": {},
   "outputs": [
    {
     "name": "stdout",
     "output_type": "stream",
     "text": [
      "a == 10\n"
     ]
    }
   ],
   "source": [
    "a = 10\n",
    "if a > 10:\n",
    "    print('a > 10')\n",
    "elif a < 10:\n",
    "    print('a < 10')\n",
    "else:\n",
    "    print('a == 10')"
   ]
  },
  {
   "cell_type": "code",
   "execution_count": 29,
   "metadata": {},
   "outputs": [
    {
     "name": "stdout",
     "output_type": "stream",
     "text": [
      "5\n",
      "['__class__', '__delattr__', '__dict__', '__dir__', '__doc__', '__eq__', '__format__', '__ge__', '__getattribute__', '__getstate__', '__gt__', '__hash__', '__init__', '__init_subclass__', '__le__', '__lt__', '__module__', '__ne__', '__new__', '__reduce__', '__reduce_ex__', '__repr__', '__setattr__', '__sizeof__', '__str__', '__subclasshook__', '__weakref__', 'maxpeople', 'maxspeed', 'move', 'stop']\n"
     ]
    }
   ],
   "source": [
    "# class name 처음은 대문자\n",
    "# class는 객체(instance) 를 만들기 위한 틀\n",
    "# 객체는 클래스로부터 만들어진 것\n",
    "\n",
    "class Car():\n",
    "    maxspeed = 300\n",
    "    maxpeople = 5\n",
    "    def move(self):\n",
    "        print('move')\n",
    "    def stop(self):\n",
    "        print('stop')\n",
    "\n",
    "k9 = Car()\n",
    "print(k9.maxpeople)\n",
    "print(dir(k9))\n"
   ]
  },
  {
   "cell_type": "code",
   "execution_count": 30,
   "metadata": {},
   "outputs": [
    {
     "name": "stdout",
     "output_type": "stream",
     "text": [
      "5\n",
      "['__class__', '__delattr__', '__dict__', '__dir__', '__doc__', '__eq__', '__format__', '__ge__', '__getattribute__', '__getstate__', '__gt__', '__hash__', '__init__', '__init_subclass__', '__le__', '__lt__', '__module__', '__ne__', '__new__', '__reduce__', '__reduce_ex__', '__repr__', '__setattr__', '__sizeof__', '__str__', '__subclasshook__', '__weakref__', 'maxpeople', 'maxspeed', 'move', 'stop']\n",
      "hello world\n"
     ]
    }
   ],
   "source": [
    "class Car():\n",
    "    maxspeed = 300\n",
    "    maxpeople = 5\n",
    "    def move(self):\n",
    "        print('move')\n",
    "    def stop(self):\n",
    "        print('stop')\n",
    "    def __str__(self):\n",
    "        return 'hello world'\n",
    "\n",
    "class Hybrid(Car):\n",
    "    battery = 1000\n",
    "    batteryKM = 300\n",
    "\n",
    "k9 = Car()\n",
    "k3 = Hybrid()\n",
    "print(k9.maxpeople)\n",
    "print(dir(k9))\n",
    "\n",
    "print(k9)"
   ]
  },
  {
   "cell_type": "code",
   "execution_count": 2,
   "metadata": {},
   "outputs": [
    {
     "name": "stdout",
     "output_type": "stream",
     "text": [
      "7\n",
      "7\n"
     ]
    }
   ],
   "source": [
    "# 중앙값 구하기\n",
    "array = [1, 2, 7, 10, 11]\n",
    "\n",
    "# 리스트를 실제로 정렬\n",
    "array.sort()\n",
    "print(array[len(array)//2])\n",
    "\n",
    "\n",
    "array = [1, 2, 7, 10, 11]\n",
    "# 정렬된 리스트를 반환\n",
    "print(sorted(array)[len(array)//2])"
   ]
  },
  {
   "cell_type": "code",
   "execution_count": 6,
   "metadata": {},
   "outputs": [
    {
     "name": "stdout",
     "output_type": "stream",
     "text": [
      "3\n"
     ]
    }
   ],
   "source": [
    "# 최빈값 구하기\n",
    "# 카운팅용 배열을 만든다\n",
    "\n",
    "def solution(array):\n",
    "    countArr = [0] * (1000+1)\n",
    "    \n",
    "    for i in array :\n",
    "        countArr[i] += 1\n",
    "    \n",
    "    maxCount = max(countArr)\n",
    "    maxNum = -1\n",
    "\n",
    "\n",
    "# enumerate를 사용하여 인덱스와 값을 한번에 사용\n",
    "    for i, count in enumerate(countArr):\n",
    "        if count == maxCount:\n",
    "            if maxNum == -1:\n",
    "                maxNum = i\n",
    "            else:\n",
    "                # 두 번째 최빈값을 찾으면 -1을 반환합니다.\n",
    "                return -1\n",
    "    return maxNum\n",
    "\n",
    "print(solution([1, 2, 3, 3, 3, 4]))"
   ]
  },
  {
   "cell_type": "code",
   "execution_count": 7,
   "metadata": {},
   "outputs": [],
   "source": [
    "# n 이하의 홀수 배열을 리턴하는 함수\n",
    "# for문과 if문을 한 줄에 사용\n",
    "\n",
    "def solution(n):\n",
    "    return [x for x in range(n + 1) if x % 2]"
   ]
  },
  {
   "cell_type": "code",
   "execution_count": 1,
   "metadata": {},
   "outputs": [],
   "source": [
    "# 피자 7조각 나눠먹기 1~7명->1판, 8~14->2판\n",
    "\n",
    "\n",
    "\n",
    "def solution(n):\n",
    "    return (n - 1) // 7 + 1\n",
    "\n",
    "def solution2(n):\n",
    "    return n//7+1 if n%7 != 0 else n //7"
   ]
  },
  {
   "cell_type": "code",
   "execution_count": 5,
   "metadata": {},
   "outputs": [
    {
     "name": "stdout",
     "output_type": "stream",
     "text": [
      "[5, 4, 3, 2, 1]\n"
     ]
    }
   ],
   "source": [
    "num_list = [1, 2, 3, 4, 5]\n",
    "\n",
    "num_list.reverse()\n",
    "print(num_list)"
   ]
  },
  {
   "cell_type": "code",
   "execution_count": 2,
   "metadata": {},
   "outputs": [
    {
     "name": "stdout",
     "output_type": "stream",
     "text": [
      "97\n",
      "a\n"
     ]
    }
   ],
   "source": [
    "# 파이썬에서 아스키코드 다루기\n",
    "# print(int('a'))\n",
    "\n",
    "\n",
    "print(ord('a'))\n",
    "print(chr(97))\n",
    "\n",
    "\n",
    "\n",
    "#PG 외계행성의 나이\n",
    "# a는 0, b는 1, c는 2, ..., j는 9입니다. \n",
    "# 예를 들어 23살은 cd, 51살은 fb로 표현합니다.\n",
    "def solution(age):\n",
    "    \n",
    "    answer = ''\n",
    "    \n",
    "    for i in str(age) :\n",
    "        answer += chr(int(i) + 97)\n",
    "    \n",
    "    return answer"
   ]
  },
  {
   "cell_type": "code",
   "execution_count": 9,
   "metadata": {},
   "outputs": [
    {
     "name": "stdout",
     "output_type": "stream",
     "text": [
      "[5, 1, 3, 2, 4]\n"
     ]
    }
   ],
   "source": [
    "def solution(emergency):\n",
    "    answer = []\n",
    "\n",
    "\n",
    "    sortarr = emergency.copy()\n",
    "    sortarr.sort(reverse=True)\n",
    "\n",
    "    for i in emergency :\n",
    "        answer.append(sortarr.index(i)+1)\n",
    "\n",
    "\n",
    "    return answer\n",
    "\n",
    "\n",
    "print(solution([30, 10, 23, 6, 100]))"
   ]
  },
  {
   "cell_type": "code",
   "execution_count": 10,
   "metadata": {},
   "outputs": [
    {
     "data": {
      "text/plain": [
       "[93, 30, 55, 1, 30, 5]"
      ]
     },
     "execution_count": 10,
     "metadata": {},
     "output_type": "execute_result"
    }
   ],
   "source": [
    "[93, 30, 55] +\t[1, 30, 5]"
   ]
  },
  {
   "cell_type": "code",
   "execution_count": 10,
   "metadata": {},
   "outputs": [
    {
     "name": "stdout",
     "output_type": "stream",
     "text": [
      "이\n",
      "9\n",
      "8\n",
      "7\n",
      "6\n",
      "5\n",
      "4\n"
     ]
    }
   ],
   "source": [
    "from collections import deque\n",
    "\n",
    "dq = deque('love')\n",
    "\n",
    "dq.popleft()\n",
    "\n",
    "\n",
    "dq2 = deque(['이','것','도','되','나'])\n",
    "\n",
    "dq2.extend([i for i in range(10)])\n",
    "\n",
    "print(dq2.popleft())\n",
    "\n",
    "print(dq2.pop())\n",
    "print(dq2.pop())\n",
    "print(dq2.pop())\n",
    "print(dq2.pop())\n",
    "print(dq2.pop())\n",
    "print(dq2.pop())"
   ]
  },
  {
   "cell_type": "code",
   "execution_count": null,
   "metadata": {},
   "outputs": [],
   "source": [
    "# PG 스택/큐 프로세스\n",
    "\n",
    "# 내 풀이\n",
    "def solution(priorities, location):\n",
    "    \n",
    "    count = 0\n",
    "    while True :\n",
    "        pick = priorities.pop(0)\n",
    "        if(len(priorities) == 0) :\n",
    "            return count+1\n",
    "        if(pick >= max(priorities)) :\n",
    "            location -= 1\n",
    "            count += 1\n",
    "            if(location < 0) :\n",
    "                return count\n",
    "        else :\n",
    "            priorities.append(pick)\n",
    "            location -= 1\n",
    "            if(location < 0) :\n",
    "                location = len(priorities) - 1\n",
    "    \n",
    "\n",
    "def solution(priorities, location):\n",
    "    queue =  [(i,p) for i,p in enumerate(priorities)] # 인덱스와 함께 새로운 큐의 생성 \n",
    "    answer = 0\n",
    "    while True:\n",
    "        cur = queue.pop(0)\n",
    "        if any(cur[1] < q[1] for q in queue):\n",
    "            queue.append(cur)\n",
    "        else:\n",
    "            answer += 1\n",
    "            if cur[0] == location:\n",
    "                return answer\n",
    "            \n",
    "\n"
   ]
  },
  {
   "cell_type": "code",
   "execution_count": null,
   "metadata": {},
   "outputs": [],
   "source": [
    "# PG 스택/큐 다리를지나는 트럭\n",
    "\n",
    "from collections import deque\n",
    "def solution(bridge_length, weight, truck_weights):\n",
    "    time = 0\n",
    "    bridgesum = 0\n",
    "    \n",
    "    # bridge = deque()\n",
    "    # for i in range(bridge_length) :\n",
    "    #     bridge.append(0)\n",
    "\n",
    "    bridge = deque([0] * bridge_length) # for문 보다 바로 넣기\n",
    "    \n",
    "    \n",
    "    # while len(bridge) > 0 :\n",
    "    while bridge : # 리스트가 비어있다면 false\n",
    "        \n",
    "        bridgesum -= bridge.popleft()\n",
    "        \n",
    "        # if(len(truck_weights) > 0) :\n",
    "        if truck_weights : # 리스트가 비어있다면 false\n",
    "            newtruck = truck_weights[0]\n",
    "            if(bridgesum + newtruck <= weight) :\n",
    "                bridge.append(truck_weights.pop(0))\n",
    "                bridgesum += newtruck\n",
    "            else :\n",
    "                bridge.append(0)\n",
    "        \n",
    "        time += 1\n",
    "    \n",
    "    \n",
    "    return time"
   ]
  },
  {
   "cell_type": "code",
   "execution_count": 1,
   "metadata": {},
   "outputs": [
    {
     "name": "stdout",
     "output_type": "stream",
     "text": [
      "3\n",
      "2\n",
      "1\n"
     ]
    }
   ],
   "source": [
    "l = ['1', '2', '3']\n",
    "\n",
    "while l :\n",
    "    print(l.pop()) \n",
    "\n",
    "\n"
   ]
  },
  {
   "cell_type": "code",
   "execution_count": 1,
   "metadata": {},
   "outputs": [
    {
     "name": "stdout",
     "output_type": "stream",
     "text": [
      "2\n"
     ]
    }
   ],
   "source": [
    "# pg 타겟넘버\n",
    "# numbers = [4, 1, 2, 1]\ttarget = 4\treturn = 2\n",
    "\n",
    "def solution(numbers, target):\n",
    "    def dfs(index=0, current_sum=0):\n",
    "        # 기저 조건: 모든 숫자를 확인했을 때, target과 일치하는지 확인\n",
    "        if index == len(numbers):\n",
    "            return 1 if current_sum == target else 0\n",
    "        \n",
    "        # 현재 숫자를 더하거나 빼면서 다음 단계로 진행\n",
    "        return (\n",
    "            dfs(index + 1, current_sum + numbers[index]) + \n",
    "            dfs(index + 1, current_sum - numbers[index])\n",
    "        )\n",
    "\n",
    "    # DFS 시작\n",
    "    return dfs()\n",
    "\n",
    "# 함수 호출\n",
    "print(solution([4, 1, 2, 1], 4))\n"
   ]
  },
  {
   "cell_type": "code",
   "execution_count": 3,
   "metadata": {},
   "outputs": [
    {
     "name": "stdout",
     "output_type": "stream",
     "text": [
      "7\n",
      "42\n",
      "4.0\n",
      "3.141592653589793\n",
      "2.718281828459045\n",
      "1.0\n",
      "6.123233995736766e-17\n",
      "0.9999999999999999\n",
      "1.0\n",
      "0.30102999566398114\n",
      "0.6931471805599453\n",
      "120\n",
      "8.0\n",
      "7.38905609893065\n",
      "3\n",
      "2\n",
      "2\n",
      "(0.8999999999999999, 2.0)\n",
      "-2.0\n",
      "3.0\n",
      "10\n",
      "20\n"
     ]
    }
   ],
   "source": [
    "# math 라이브러리\n",
    "import math\n",
    "\n",
    "print(math.gcd(21, 14)) # 최대공약수\n",
    "print(math.lcm(21, 14)) # 최소공배수\n",
    "print(math.sqrt(16)) # 제곱근\n",
    "print(math.pi) # 원주율\n",
    "print(math.e) # 자연상수\n",
    "print(math.sin(math.pi/2)) # 사인\n",
    "print(math.cos(math.pi/2)) # 코사인\n",
    "print(math.tan(math.pi/4)) # 탄젠트\n",
    "print(math.log(2, 2)) # 로그\n",
    "print(math.log(2, 10)) # 상용로그\n",
    "print(math.log(2, math.e)) # 자연로그\n",
    "print(math.factorial(5)) # 팩토리얼\n",
    "print(math.pow(2, 3)) # 거듭제곱\n",
    "print(math.exp(2)) # 지수함수\n",
    "print(math.ceil(2.1)) # 올림\n",
    "print(math.floor(2.9)) # 내림\n",
    "print(math.trunc(2.9)) # 버림\n",
    "print(math.modf(2.9)) # 정수부분과 소수부분을 튜플로 반환\n",
    "print(math.copysign(2, -3)) # 부호를 복사\n",
    "print(math.fabs(-3)) # 절대값\n",
    "print(math.comb(5, 2)) # 조합\n",
    "print(math.perm(5, 2)) # 순열"
   ]
  },
  {
   "cell_type": "code",
   "execution_count": 1,
   "metadata": {},
   "outputs": [
    {
     "name": "stdout",
     "output_type": "stream",
     "text": [
      "[[1, 2], [3, 4], [5, 6], [7, 8]]\n"
     ]
    }
   ],
   "source": [
    "def solution(num_list, n):\n",
    "    answer = []\n",
    "    \n",
    "    for i, num in enumerate(num_list) :\n",
    "        if(i%n == 0) :\n",
    "            answer.append([num])\n",
    "        else:\n",
    "            answer[i//n].append(num)\n",
    "    return answer\n",
    "\n",
    "print(solution([1, 2, 3, 4, 5, 6, 7, 8], 2))\n",
    "\n",
    "def solution2(num_list, n):\n",
    "    answer = []\n",
    "    for i in range(0, len(num_list), n):\n",
    "        answer.append(num_list[i:i+n])\n",
    "    return answer"
   ]
  },
  {
   "cell_type": "code",
   "execution_count": 1,
   "metadata": {},
   "outputs": [
    {
     "name": "stdout",
     "output_type": "stream",
     "text": [
      "3\n",
      "nic to mt you\n",
      "isdigit\n"
     ]
    }
   ],
   "source": [
    "a = ['a', 'e', 'i', 'o', 'u']\n",
    "\n",
    "b = \"nice to meet you\"\n",
    "\n",
    "\n",
    "print(b.index('e'))\n",
    "\n",
    "print(b.replace('e', ''))\n",
    "\n",
    "arr =  [\"1\",\"2\",\"3\",\"4\",\"5\",\"6\",\"7\",\"8\",\"9\",\"0\"]\n",
    "\n",
    "if arr[0].isdigit(): # 숫자인지 체크\n",
    "    print('isdigit')\n"
   ]
  },
  {
   "cell_type": "code",
   "execution_count": 10,
   "metadata": {},
   "outputs": [
    {
     "name": "stdout",
     "output_type": "stream",
     "text": [
      "2\n"
     ]
    }
   ],
   "source": [
    "def solution(n, computers):\n",
    "    answer = 0\n",
    "    \n",
    "    visited = [0] * n\n",
    "    \n",
    "    \n",
    "    def dfs(current):\n",
    "        visited[current] = 1\n",
    "        for i, connection in enumerate(computers[current]):\n",
    "            if connection == 1 and visited[i] == 0:\n",
    "                dfs(i)\n",
    "        \n",
    "    \n",
    "    for j in range(n) :\n",
    "        if(visited[j] == 0):\n",
    "            dfs(j)\n",
    "            answer += 1\n",
    "        \n",
    "        \n",
    "        \n",
    "    return answer\n",
    "print(solution(\t3, [[1, 1, 0], [1, 1, 1], [0, 1, 1]]))"
   ]
  },
  {
   "cell_type": "code",
   "execution_count": 1,
   "metadata": {},
   "outputs": [
    {
     "name": "stdout",
     "output_type": "stream",
     "text": [
      "hlelo\n",
      "hlelo\n"
     ]
    }
   ],
   "source": [
    "def solution(my_string, num1, num2):\n",
    "    answer = ''\n",
    "    \n",
    "    arr = list(my_string)\n",
    "    \n",
    "    length = len(arr)\n",
    "\n",
    "    for i in range(length) :\n",
    "        if i == num1:\n",
    "            answer += arr[num2]\n",
    "        elif i == num2:\n",
    "            answer += arr[num1]\n",
    "        else :\n",
    "            answer += arr[i]\n",
    "            \n",
    "        \n",
    "    \n",
    "    \n",
    "    return answer\n",
    "\n",
    "\n",
    "print(solution(\"hello\", 1, 2))\n",
    "\n",
    "\n",
    "def solution2(my_string, num1, num2):\n",
    "    s = list(my_string)\n",
    "    s[num1],s[num2] = s[num2],s[num1]\n",
    "    return ''.join(s)\n",
    "\n",
    "print(solution2(\"hello\", 1, 2))\n"
   ]
  },
  {
   "cell_type": "code",
   "execution_count": 2,
   "metadata": {},
   "outputs": [],
   "source": [
    "# PG 단어변환\n",
    "# 내 풀이\n",
    "from collections import deque\n",
    "def solution(begin, target, words):\n",
    "    answer = 0\n",
    "    \n",
    "    begins = []\n",
    "    \n",
    "    \n",
    "    def isTransable(b,t):\n",
    "        value = 0\n",
    "        for i in range(len(b)):\n",
    "            if b[i] != t[i]:\n",
    "                value += 1\n",
    "            if value > 1 :\n",
    "                return False\n",
    "        if value == 1 :\n",
    "            return True\n",
    "        else :\n",
    "            return False\n",
    "    \n",
    "    if words.count(target) == 0 :\n",
    "        return 0\n",
    "    else :\n",
    "        targetIndex = words.index(target)\n",
    "    \n",
    "    for i, word in enumerate(words) :\n",
    "        if isTransable(begin, word) :\n",
    "            begins.append(i)\n",
    "    \n",
    "    if len(begins) == 0:\n",
    "        return 0\n",
    "    \n",
    "    def bfs(start) :\n",
    "        q = deque()\n",
    "        visited = []\n",
    "        distance = {}\n",
    "        \n",
    "        q.append(start)\n",
    "        visited.append(start)\n",
    "        distance[start] = 1\n",
    "        \n",
    "        \n",
    "        while q :\n",
    "            current = q.popleft()\n",
    "            if(current == targetIndex) :\n",
    "                return distance[current]\n",
    "            \n",
    "            for i,t in enumerate(words):\n",
    "                if i not in visited:\n",
    "                    if isTransable(t, words[current]) :\n",
    "                        visited.append(i)\n",
    "                        q.append(i)\n",
    "                        distance[i] = distance[current] + 1\n",
    "    \n",
    "    for go in begins:\n",
    "        answer = max(answer, bfs(go))\n",
    "\n",
    "    \n",
    "    return answer\n"
   ]
  },
  {
   "cell_type": "code",
   "execution_count": null,
   "metadata": {},
   "outputs": [],
   "source": [
    "# 다른 풀이\n",
    "# yield와 zip\n",
    "# 위 풀이에서는 여러시작점을 고려했지만 결국 시작지점은 begin으로부터 시작하여 \n",
    "# 하나의 단어가 다른 지점이기 때문에 이문제에서는 굳이 위 처럼 고려할 필요가 없다\n",
    "\n",
    "from collections import deque\n",
    "\n",
    "\n",
    "def get_adjacent(current, words):\n",
    "    for word in words:\n",
    "        if len(current) != len(word):\n",
    "            continue\n",
    "\n",
    "        count = 0\n",
    "        for c, w in zip(current, word):\n",
    "            if c != w:\n",
    "                count += 1\n",
    "\n",
    "        if count == 1:\n",
    "            yield word\n",
    "\n",
    "\n",
    "def solution(begin, target, words):\n",
    "    dist = {begin: 0}\n",
    "    queue = deque([begin])\n",
    "\n",
    "    while queue:\n",
    "        current = queue.popleft()\n",
    "\n",
    "        for next_word in get_adjacent(current, words):\n",
    "            if next_word not in dist:\n",
    "                dist[next_word] = dist[current] + 1\n",
    "                queue.append(next_word)\n",
    "\n",
    "    return dist.get(target, 0)\n"
   ]
  },
  {
   "cell_type": "code",
   "execution_count": 5,
   "metadata": {},
   "outputs": [],
   "source": [
    "completion = [\"marina\", \"josipa\", \"nikola\", \"vinko\", \"filipa\"]\n",
    "\n",
    "dic = {i:True for i in completion}\n",
    "\n",
    "\n",
    "# counter \n",
    "from collections import Counter\n",
    "def solution(participant, completion):\n",
    "    answer = ''\n",
    "    dict_result=Counter(participant)-Counter(completion)\n",
    "    return list(dict_result.keys())[0]   "
   ]
  },
  {
   "cell_type": "code",
   "execution_count": 8,
   "metadata": {},
   "outputs": [
    {
     "name": "stdout",
     "output_type": "stream",
     "text": [
      "False\n"
     ]
    }
   ],
   "source": [
    "def solution(phone_book):\n",
    "    dic = {i:False for i in phone_book}\n",
    "    \n",
    "    for i in phone_book :\n",
    "        start = \"\"\n",
    "        for j in range(len(i) - 1):\n",
    "            start += i[j]\n",
    "            if(dic.get(start, True)):\n",
    "                return False\n",
    "            \n",
    "    \n",
    "    return True\n",
    "\n",
    "print(solution(\t[\"123\", \"456\", \"789\"]))"
   ]
  },
  {
   "cell_type": "code",
   "execution_count": 10,
   "metadata": {},
   "outputs": [
    {
     "name": "stdout",
     "output_type": "stream",
     "text": [
      "{'headgear': 2, 'eyewear': 1}\n"
     ]
    },
    {
     "data": {
      "text/plain": [
       "0"
      ]
     },
     "execution_count": 10,
     "metadata": {},
     "output_type": "execute_result"
    }
   ],
   "source": [
    "def solution(clothes):\n",
    "    answer = 0\n",
    "    \n",
    "    dic = {}\n",
    "    \n",
    "    for i, j in clothes :\n",
    "        if not j in dic:\n",
    "            dic[j] = 1\n",
    "        else:\n",
    "            dic[j] = dic[j] + 1\n",
    "    \n",
    "    print(dic)\n",
    "    return answer\n",
    "\n",
    "solution([[\"yellow_hat\", \"headgear\"], [\"blue_sunglasses\", \"eyewear\"], [\"green_turban\", \"headgear\"]])"
   ]
  },
  {
   "cell_type": "code",
   "execution_count": null,
   "metadata": {},
   "outputs": [],
   "source": [
    "def solution(genres, plays):\n",
    "    answer = []\n",
    "    return answer\n",
    "\n",
    "\n",
    "print(solution([\"classic\", \"pop\", \"classic\", \"classic\", \"pop\"],[500, 600, 150, 800, 2500]))"
   ]
  }
 ],
 "metadata": {
  "kernelspec": {
   "display_name": "base",
   "language": "python",
   "name": "python3"
  },
  "language_info": {
   "codemirror_mode": {
    "name": "ipython",
    "version": 3
   },
   "file_extension": ".py",
   "mimetype": "text/x-python",
   "name": "python",
   "nbconvert_exporter": "python",
   "pygments_lexer": "ipython3",
   "version": "3.11.5"
  }
 },
 "nbformat": 4,
 "nbformat_minor": 2
}
