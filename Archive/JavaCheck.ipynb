{
 "cells": [
  {
   "cell_type": "code",
   "execution_count": 14,
   "metadata": {
    "vscode": {
     "languageId": "java"
    }
   },
   "outputs": [
    {
     "name": "stdout",
     "output_type": "stream",
     "text": [
      "[4][15][17][19][23][33]"
     ]
    },
    {
     "name": "stdout",
     "output_type": "stream",
     "text": [
      "\n",
      "[33][23][19][17][15][4]"
     ]
    }
   ],
   "source": [
    "// sorting\n",
    "\n",
    "import java.util.Arrays;\n",
    "import java.util.Collections;\n",
    "import java.util.Comparator;\n",
    "import java.util.stream.IntStream;\n",
    "\n",
    "int arr[] = {4,23,33,15,17,19};\n",
    "Arrays.sort(arr);\n",
    "for (int i : arr) {\n",
    "    System.out.print(\"[\"+i+\"]\");\n",
    "}\n",
    "System.out.println();\n",
    "\n",
    "// Arrays.sort(arr, Collections.reverseOrder());\n",
    "// int 배열의 경우 내림차순이 안됨\n",
    "\n",
    "int[] sortedArray = IntStream.of(arr)\n",
    "        .boxed()\n",
    "        .sorted(Comparator.reverseOrder())\n",
    "        .mapToInt(Integer::intValue) //int -> Integer 래퍼클래스로 박싱\n",
    "        .toArray();\n",
    "\n",
    "for (int i : sortedArray) {\n",
    "    System.out.print(\"[\"+i+\"]\");\n",
    "}\n"
   ]
  },
  {
   "cell_type": "code",
   "execution_count": null,
   "metadata": {
    "vscode": {
     "languageId": "java"
    }
   },
   "outputs": [
    {
     "name": "stdout",
     "output_type": "stream",
     "text": [
      "유승호, 1991\n",
      "박보검, 1993\n",
      "서강준, 1994\n",
      "차은우, 1996\n"
     ]
    }
   ],
   "source": [
    "// 직접 comparator 구현하여 sorting\n",
    "\n",
    "import java.util.Arrays;\n",
    "import java.util.Comparator;\n",
    "\n",
    "String[][] actor = {{\"박보검\", \"1993\"},{\"유승호\", \"1991\"},{\"차은우\", \"1996\"},{\"서강준\", \"1994\"}};\n",
    "\n",
    "\n",
    "// Comparator 구현\n",
    "\n",
    "Comparator<String[]> comparator = new Comparator<String[]>() {\n",
    "    @Override\n",
    "    public int compare(String[] o1, String[] o2) {\n",
    "        // 태어난 연도에 대해 문자열을 정수로 변환하여 비교합니다.\n",
    "        int year1 = Integer.parseInt(o1[1]);\n",
    "        int year2 = Integer.parseInt(o2[1]);\n",
    "        return Integer.compare(year1, year2);\n",
    "    }\n",
    "};\n",
    "\n",
    "// Arrays.sort(actor, comparator);\n",
    "\n",
    "Arrays.sort(actor, new Comparator<String[]>(){\n",
    "    @Override\n",
    "    public int compare(String[] o1, String[] o2) {\n",
    "        // 태어난 연도에 대해 문자열을 정수로 변환하여 비교합니다.\n",
    "        int year1 = Integer.parseInt(o1[1]);\n",
    "        int year2 = Integer.parseInt(o2[1]);\n",
    "        return Integer.compare(year1, year2);\n",
    "    }\n",
    "});\n",
    "\n",
    "\n",
    "for(String[] i : actor){\n",
    "    System.out.println(i[0] + \", \" + i[1]);\n",
    "}\n",
    "\n",
    " // Actor 구현은 생략. 이전 코드를 참고하세요."
   ]
  },
  {
   "cell_type": "code",
   "execution_count": 7,
   "metadata": {
    "vscode": {
     "languageId": "java"
    }
   },
   "outputs": [
    {
     "name": "stdout",
     "output_type": "stream",
     "text": [
      "2\n",
      "2\n",
      "1\n",
      "true\n"
     ]
    }
   ],
   "source": [
    "// stack\n",
    "\n",
    "import java.util.Stack;\n",
    "\n",
    "Stack<Integer> stackInt = new Stack<>();\n",
    "\n",
    "//값 추가\n",
    "stackInt.push(1);\n",
    "stackInt.add(2);\n",
    "\n",
    "//값 꺼내기\n",
    "System.out.println(stackInt.peek());\n",
    "System.out.println(stackInt.pop());\n",
    "System.out.println(stackInt.pop());\n",
    "\n",
    "//비어있는지 확인\n",
    "System.out.println(stackInt.isEmpty());\n",
    "\n",
    "//https://kwin0825.tistory.com/157\n"
   ]
  },
  {
   "cell_type": "code",
   "execution_count": 8,
   "metadata": {
    "vscode": {
     "languageId": "java"
    }
   },
   "outputs": [
    {
     "name": "stdout",
     "output_type": "stream",
     "text": [
      "1\n",
      "1\n",
      "false\n"
     ]
    }
   ],
   "source": [
    "// Queue\n",
    "\n",
    "import java.util.Queue;\n",
    "import java.util.LinkedList;\n",
    "\n",
    "Queue<Integer> queueInt = new LinkedList<>();\n",
    "\n",
    "//값 추가\n",
    "//반환 값(boolean): 삽입 성공 시 true / 실패 시 Exception발생\n",
    "queueInt.add(1);\n",
    "// 반환 값(boolean): 삽입 성공 시 true / 실패 시 false 반환\n",
    "queueInt.offer(2);\n",
    "\n",
    "//값 꺼내기\n",
    "System.out.println(queueInt.peek());\n",
    "System.out.println(queueInt.poll());\n",
    "\n",
    "//값 삭제\n",
    "// 반환 값(삭제된 value의 자료형): 삭제된 value / 공백 큐이면 Exception(\"NoSuchElementException\") 발생\n",
    "// queueInt.remove();\n",
    "\n",
    "//반환 값(boolean): 큐에 해당 value가 존재하면 해당 값 삭제 후 true / 존재하지 않으면 false 반환\n",
    "//queueInt.remove(삭제할 value);\n",
    "\n",
    "//비어있는지 확인\n",
    "System.out.println(queueInt.isEmpty());\n",
    "\n",
    "//https://kwin0825.tistory.com/156"
   ]
  }
 ],
 "metadata": {
  "kernelspec": {
   "display_name": "Java",
   "language": "java",
   "name": "java"
  },
  "language_info": {
   "codemirror_mode": "java",
   "file_extension": ".jshell",
   "mimetype": "text/x-java-source",
   "name": "Java",
   "pygments_lexer": "java",
   "version": "17.0.10+7"
  }
 },
 "nbformat": 4,
 "nbformat_minor": 2
}
